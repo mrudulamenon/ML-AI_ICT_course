{
  "cells": [
    {
      "cell_type": "markdown",
      "source": [
        "#Team 1 - Activity August 1 2022"
      ],
      "metadata": {
        "id": "fiXKuVMe_kve"
      },
      "id": "fiXKuVMe_kve"
    },
    {
      "cell_type": "markdown",
      "source": [
        "###Team Members \n",
        "1. Indu George\n",
        "2. Mrudula M\n",
        "3. Rashmi Ramakrishnan\n",
        "4. Sandhya P"
      ],
      "metadata": {
        "id": "0EOu-GDW_rHM"
      },
      "id": "0EOu-GDW_rHM"
    },
    {
      "cell_type": "code",
      "execution_count": 1,
      "id": "85a15b4d",
      "metadata": {
        "id": "85a15b4d"
      },
      "outputs": [],
      "source": [
        "#import libraries\n",
        "import pandas as pd\n",
        "import numpy as np\n",
        "import matplotlib.pyplot as plt\n",
        "import seaborn as sns\n",
        "import datetime"
      ]
    },
    {
      "cell_type": "code",
      "execution_count": 2,
      "id": "5db56236",
      "metadata": {
        "id": "5db56236"
      },
      "outputs": [],
      "source": [
        "import warnings\n",
        "warnings.filterwarnings('ignore')"
      ]
    },
    {
      "cell_type": "code",
      "execution_count": 3,
      "id": "d3c3719b",
      "metadata": {
        "colab": {
          "base_uri": "https://localhost:8080/",
          "height": 206
        },
        "id": "d3c3719b",
        "outputId": "548b9138-317d-4fea-874a-1f8658b23be4"
      },
      "outputs": [
        {
          "output_type": "execute_result",
          "data": {
            "text/plain": [
              "         date  hour  demand\n",
              "0  2018-08-18     9      91\n",
              "1  2018-08-18    10      21\n",
              "2  2018-08-18    13      23\n",
              "3  2018-08-18    14     104\n",
              "4  2018-08-18    15      81"
            ],
            "text/html": [
              "\n",
              "  <div id=\"df-52db0496-6790-46a4-ab4d-d69875a6021e\">\n",
              "    <div class=\"colab-df-container\">\n",
              "      <div>\n",
              "<style scoped>\n",
              "    .dataframe tbody tr th:only-of-type {\n",
              "        vertical-align: middle;\n",
              "    }\n",
              "\n",
              "    .dataframe tbody tr th {\n",
              "        vertical-align: top;\n",
              "    }\n",
              "\n",
              "    .dataframe thead th {\n",
              "        text-align: right;\n",
              "    }\n",
              "</style>\n",
              "<table border=\"1\" class=\"dataframe\">\n",
              "  <thead>\n",
              "    <tr style=\"text-align: right;\">\n",
              "      <th></th>\n",
              "      <th>date</th>\n",
              "      <th>hour</th>\n",
              "      <th>demand</th>\n",
              "    </tr>\n",
              "  </thead>\n",
              "  <tbody>\n",
              "    <tr>\n",
              "      <th>0</th>\n",
              "      <td>2018-08-18</td>\n",
              "      <td>9</td>\n",
              "      <td>91</td>\n",
              "    </tr>\n",
              "    <tr>\n",
              "      <th>1</th>\n",
              "      <td>2018-08-18</td>\n",
              "      <td>10</td>\n",
              "      <td>21</td>\n",
              "    </tr>\n",
              "    <tr>\n",
              "      <th>2</th>\n",
              "      <td>2018-08-18</td>\n",
              "      <td>13</td>\n",
              "      <td>23</td>\n",
              "    </tr>\n",
              "    <tr>\n",
              "      <th>3</th>\n",
              "      <td>2018-08-18</td>\n",
              "      <td>14</td>\n",
              "      <td>104</td>\n",
              "    </tr>\n",
              "    <tr>\n",
              "      <th>4</th>\n",
              "      <td>2018-08-18</td>\n",
              "      <td>15</td>\n",
              "      <td>81</td>\n",
              "    </tr>\n",
              "  </tbody>\n",
              "</table>\n",
              "</div>\n",
              "      <button class=\"colab-df-convert\" onclick=\"convertToInteractive('df-52db0496-6790-46a4-ab4d-d69875a6021e')\"\n",
              "              title=\"Convert this dataframe to an interactive table.\"\n",
              "              style=\"display:none;\">\n",
              "        \n",
              "  <svg xmlns=\"http://www.w3.org/2000/svg\" height=\"24px\"viewBox=\"0 0 24 24\"\n",
              "       width=\"24px\">\n",
              "    <path d=\"M0 0h24v24H0V0z\" fill=\"none\"/>\n",
              "    <path d=\"M18.56 5.44l.94 2.06.94-2.06 2.06-.94-2.06-.94-.94-2.06-.94 2.06-2.06.94zm-11 1L8.5 8.5l.94-2.06 2.06-.94-2.06-.94L8.5 2.5l-.94 2.06-2.06.94zm10 10l.94 2.06.94-2.06 2.06-.94-2.06-.94-.94-2.06-.94 2.06-2.06.94z\"/><path d=\"M17.41 7.96l-1.37-1.37c-.4-.4-.92-.59-1.43-.59-.52 0-1.04.2-1.43.59L10.3 9.45l-7.72 7.72c-.78.78-.78 2.05 0 2.83L4 21.41c.39.39.9.59 1.41.59.51 0 1.02-.2 1.41-.59l7.78-7.78 2.81-2.81c.8-.78.8-2.07 0-2.86zM5.41 20L4 18.59l7.72-7.72 1.47 1.35L5.41 20z\"/>\n",
              "  </svg>\n",
              "      </button>\n",
              "      \n",
              "  <style>\n",
              "    .colab-df-container {\n",
              "      display:flex;\n",
              "      flex-wrap:wrap;\n",
              "      gap: 12px;\n",
              "    }\n",
              "\n",
              "    .colab-df-convert {\n",
              "      background-color: #E8F0FE;\n",
              "      border: none;\n",
              "      border-radius: 50%;\n",
              "      cursor: pointer;\n",
              "      display: none;\n",
              "      fill: #1967D2;\n",
              "      height: 32px;\n",
              "      padding: 0 0 0 0;\n",
              "      width: 32px;\n",
              "    }\n",
              "\n",
              "    .colab-df-convert:hover {\n",
              "      background-color: #E2EBFA;\n",
              "      box-shadow: 0px 1px 2px rgba(60, 64, 67, 0.3), 0px 1px 3px 1px rgba(60, 64, 67, 0.15);\n",
              "      fill: #174EA6;\n",
              "    }\n",
              "\n",
              "    [theme=dark] .colab-df-convert {\n",
              "      background-color: #3B4455;\n",
              "      fill: #D2E3FC;\n",
              "    }\n",
              "\n",
              "    [theme=dark] .colab-df-convert:hover {\n",
              "      background-color: #434B5C;\n",
              "      box-shadow: 0px 1px 3px 1px rgba(0, 0, 0, 0.15);\n",
              "      filter: drop-shadow(0px 1px 2px rgba(0, 0, 0, 0.3));\n",
              "      fill: #FFFFFF;\n",
              "    }\n",
              "  </style>\n",
              "\n",
              "      <script>\n",
              "        const buttonEl =\n",
              "          document.querySelector('#df-52db0496-6790-46a4-ab4d-d69875a6021e button.colab-df-convert');\n",
              "        buttonEl.style.display =\n",
              "          google.colab.kernel.accessAllowed ? 'block' : 'none';\n",
              "\n",
              "        async function convertToInteractive(key) {\n",
              "          const element = document.querySelector('#df-52db0496-6790-46a4-ab4d-d69875a6021e');\n",
              "          const dataTable =\n",
              "            await google.colab.kernel.invokeFunction('convertToInteractive',\n",
              "                                                     [key], {});\n",
              "          if (!dataTable) return;\n",
              "\n",
              "          const docLinkHtml = 'Like what you see? Visit the ' +\n",
              "            '<a target=\"_blank\" href=https://colab.research.google.com/notebooks/data_table.ipynb>data table notebook</a>'\n",
              "            + ' to learn more about interactive tables.';\n",
              "          element.innerHTML = '';\n",
              "          dataTable['output_type'] = 'display_data';\n",
              "          await google.colab.output.renderOutput(dataTable, element);\n",
              "          const docLink = document.createElement('div');\n",
              "          docLink.innerHTML = docLinkHtml;\n",
              "          element.appendChild(docLink);\n",
              "        }\n",
              "      </script>\n",
              "    </div>\n",
              "  </div>\n",
              "  "
            ]
          },
          "metadata": {},
          "execution_count": 3
        }
      ],
      "source": [
        "train=pd.read_csv('train.csv')\n",
        "train.head()"
      ]
    },
    {
      "cell_type": "code",
      "execution_count": 4,
      "id": "b0b63a6a",
      "metadata": {
        "colab": {
          "base_uri": "https://localhost:8080/",
          "height": 206
        },
        "id": "b0b63a6a",
        "outputId": "22ae22cb-ae26-487a-d5ca-5d550e9e5cff"
      },
      "outputs": [
        {
          "output_type": "execute_result",
          "data": {
            "text/plain": [
              "         date  hour\n",
              "0  2021-03-01     0\n",
              "1  2021-03-01     1\n",
              "2  2021-03-01     2\n",
              "3  2021-03-01     3\n",
              "4  2021-03-01     5"
            ],
            "text/html": [
              "\n",
              "  <div id=\"df-34aa44e1-3b4b-4f7c-ae48-cb8b2f4ead3f\">\n",
              "    <div class=\"colab-df-container\">\n",
              "      <div>\n",
              "<style scoped>\n",
              "    .dataframe tbody tr th:only-of-type {\n",
              "        vertical-align: middle;\n",
              "    }\n",
              "\n",
              "    .dataframe tbody tr th {\n",
              "        vertical-align: top;\n",
              "    }\n",
              "\n",
              "    .dataframe thead th {\n",
              "        text-align: right;\n",
              "    }\n",
              "</style>\n",
              "<table border=\"1\" class=\"dataframe\">\n",
              "  <thead>\n",
              "    <tr style=\"text-align: right;\">\n",
              "      <th></th>\n",
              "      <th>date</th>\n",
              "      <th>hour</th>\n",
              "    </tr>\n",
              "  </thead>\n",
              "  <tbody>\n",
              "    <tr>\n",
              "      <th>0</th>\n",
              "      <td>2021-03-01</td>\n",
              "      <td>0</td>\n",
              "    </tr>\n",
              "    <tr>\n",
              "      <th>1</th>\n",
              "      <td>2021-03-01</td>\n",
              "      <td>1</td>\n",
              "    </tr>\n",
              "    <tr>\n",
              "      <th>2</th>\n",
              "      <td>2021-03-01</td>\n",
              "      <td>2</td>\n",
              "    </tr>\n",
              "    <tr>\n",
              "      <th>3</th>\n",
              "      <td>2021-03-01</td>\n",
              "      <td>3</td>\n",
              "    </tr>\n",
              "    <tr>\n",
              "      <th>4</th>\n",
              "      <td>2021-03-01</td>\n",
              "      <td>5</td>\n",
              "    </tr>\n",
              "  </tbody>\n",
              "</table>\n",
              "</div>\n",
              "      <button class=\"colab-df-convert\" onclick=\"convertToInteractive('df-34aa44e1-3b4b-4f7c-ae48-cb8b2f4ead3f')\"\n",
              "              title=\"Convert this dataframe to an interactive table.\"\n",
              "              style=\"display:none;\">\n",
              "        \n",
              "  <svg xmlns=\"http://www.w3.org/2000/svg\" height=\"24px\"viewBox=\"0 0 24 24\"\n",
              "       width=\"24px\">\n",
              "    <path d=\"M0 0h24v24H0V0z\" fill=\"none\"/>\n",
              "    <path d=\"M18.56 5.44l.94 2.06.94-2.06 2.06-.94-2.06-.94-.94-2.06-.94 2.06-2.06.94zm-11 1L8.5 8.5l.94-2.06 2.06-.94-2.06-.94L8.5 2.5l-.94 2.06-2.06.94zm10 10l.94 2.06.94-2.06 2.06-.94-2.06-.94-.94-2.06-.94 2.06-2.06.94z\"/><path d=\"M17.41 7.96l-1.37-1.37c-.4-.4-.92-.59-1.43-.59-.52 0-1.04.2-1.43.59L10.3 9.45l-7.72 7.72c-.78.78-.78 2.05 0 2.83L4 21.41c.39.39.9.59 1.41.59.51 0 1.02-.2 1.41-.59l7.78-7.78 2.81-2.81c.8-.78.8-2.07 0-2.86zM5.41 20L4 18.59l7.72-7.72 1.47 1.35L5.41 20z\"/>\n",
              "  </svg>\n",
              "      </button>\n",
              "      \n",
              "  <style>\n",
              "    .colab-df-container {\n",
              "      display:flex;\n",
              "      flex-wrap:wrap;\n",
              "      gap: 12px;\n",
              "    }\n",
              "\n",
              "    .colab-df-convert {\n",
              "      background-color: #E8F0FE;\n",
              "      border: none;\n",
              "      border-radius: 50%;\n",
              "      cursor: pointer;\n",
              "      display: none;\n",
              "      fill: #1967D2;\n",
              "      height: 32px;\n",
              "      padding: 0 0 0 0;\n",
              "      width: 32px;\n",
              "    }\n",
              "\n",
              "    .colab-df-convert:hover {\n",
              "      background-color: #E2EBFA;\n",
              "      box-shadow: 0px 1px 2px rgba(60, 64, 67, 0.3), 0px 1px 3px 1px rgba(60, 64, 67, 0.15);\n",
              "      fill: #174EA6;\n",
              "    }\n",
              "\n",
              "    [theme=dark] .colab-df-convert {\n",
              "      background-color: #3B4455;\n",
              "      fill: #D2E3FC;\n",
              "    }\n",
              "\n",
              "    [theme=dark] .colab-df-convert:hover {\n",
              "      background-color: #434B5C;\n",
              "      box-shadow: 0px 1px 3px 1px rgba(0, 0, 0, 0.15);\n",
              "      filter: drop-shadow(0px 1px 2px rgba(0, 0, 0, 0.3));\n",
              "      fill: #FFFFFF;\n",
              "    }\n",
              "  </style>\n",
              "\n",
              "      <script>\n",
              "        const buttonEl =\n",
              "          document.querySelector('#df-34aa44e1-3b4b-4f7c-ae48-cb8b2f4ead3f button.colab-df-convert');\n",
              "        buttonEl.style.display =\n",
              "          google.colab.kernel.accessAllowed ? 'block' : 'none';\n",
              "\n",
              "        async function convertToInteractive(key) {\n",
              "          const element = document.querySelector('#df-34aa44e1-3b4b-4f7c-ae48-cb8b2f4ead3f');\n",
              "          const dataTable =\n",
              "            await google.colab.kernel.invokeFunction('convertToInteractive',\n",
              "                                                     [key], {});\n",
              "          if (!dataTable) return;\n",
              "\n",
              "          const docLinkHtml = 'Like what you see? Visit the ' +\n",
              "            '<a target=\"_blank\" href=https://colab.research.google.com/notebooks/data_table.ipynb>data table notebook</a>'\n",
              "            + ' to learn more about interactive tables.';\n",
              "          element.innerHTML = '';\n",
              "          dataTable['output_type'] = 'display_data';\n",
              "          await google.colab.output.renderOutput(dataTable, element);\n",
              "          const docLink = document.createElement('div');\n",
              "          docLink.innerHTML = docLinkHtml;\n",
              "          element.appendChild(docLink);\n",
              "        }\n",
              "      </script>\n",
              "    </div>\n",
              "  </div>\n",
              "  "
            ]
          },
          "metadata": {},
          "execution_count": 4
        }
      ],
      "source": [
        "test=pd.read_csv('test.csv')\n",
        "test.head()"
      ]
    },
    {
      "cell_type": "code",
      "execution_count": 5,
      "id": "c6fb20f5",
      "metadata": {
        "colab": {
          "base_uri": "https://localhost:8080/"
        },
        "id": "c6fb20f5",
        "outputId": "cb9f6836-9845-4e71-d181-3002e51e4927"
      },
      "outputs": [
        {
          "output_type": "stream",
          "name": "stdout",
          "text": [
            "<class 'pandas.core.frame.DataFrame'>\n",
            "RangeIndex: 18247 entries, 0 to 18246\n",
            "Data columns (total 3 columns):\n",
            " #   Column  Non-Null Count  Dtype \n",
            "---  ------  --------------  ----- \n",
            " 0   date    18247 non-null  object\n",
            " 1   hour    18247 non-null  int64 \n",
            " 2   demand  18247 non-null  int64 \n",
            "dtypes: int64(2), object(1)\n",
            "memory usage: 427.8+ KB\n"
          ]
        }
      ],
      "source": [
        "train.info()"
      ]
    },
    {
      "cell_type": "code",
      "execution_count": 6,
      "id": "5f37094e",
      "metadata": {
        "colab": {
          "base_uri": "https://localhost:8080/"
        },
        "id": "5f37094e",
        "outputId": "aa6fd95b-a7f5-47b7-ba3a-7dcef5e4bca0"
      },
      "outputs": [
        {
          "output_type": "execute_result",
          "data": {
            "text/plain": [
              "(18247, 3)"
            ]
          },
          "metadata": {},
          "execution_count": 6
        }
      ],
      "source": [
        "train.shape"
      ]
    },
    {
      "cell_type": "code",
      "execution_count": 7,
      "id": "55bfc10a",
      "metadata": {
        "id": "55bfc10a"
      },
      "outputs": [],
      "source": [
        "train['date']= pd.to_datetime(train['date'],format='%Y-%m-%d')\n",
        "test['date']= pd.to_datetime(test['date'],format='%Y-%m-%d')"
      ]
    },
    {
      "cell_type": "code",
      "execution_count": 8,
      "id": "b99f252c",
      "metadata": {
        "id": "b99f252c"
      },
      "outputs": [],
      "source": [
        "#splitting the date column into day,month & year\n",
        "train['year']= train['date'].dt.year\n",
        "train['month']= train['date'].dt.month\n",
        "train['day']= train['date'].dt.day\n",
        "\n",
        "test['year']= train['date'].dt.year\n",
        "test['month']= train['date'].dt.month\n",
        "test['day']= train['date'].dt.day\n",
        "    "
      ]
    },
    {
      "cell_type": "code",
      "execution_count": 9,
      "id": "9e0e8f3b",
      "metadata": {
        "colab": {
          "base_uri": "https://localhost:8080/",
          "height": 206
        },
        "id": "9e0e8f3b",
        "outputId": "3e783906-ff3c-4b49-a793-ce02bac517f2"
      },
      "outputs": [
        {
          "output_type": "execute_result",
          "data": {
            "text/plain": [
              "        date  hour  demand  year  month  day\n",
              "0 2018-08-18     9      91  2018      8   18\n",
              "1 2018-08-18    10      21  2018      8   18\n",
              "2 2018-08-18    13      23  2018      8   18\n",
              "3 2018-08-18    14     104  2018      8   18\n",
              "4 2018-08-18    15      81  2018      8   18"
            ],
            "text/html": [
              "\n",
              "  <div id=\"df-44304f68-56ce-412f-9f3b-0f78f30c27e8\">\n",
              "    <div class=\"colab-df-container\">\n",
              "      <div>\n",
              "<style scoped>\n",
              "    .dataframe tbody tr th:only-of-type {\n",
              "        vertical-align: middle;\n",
              "    }\n",
              "\n",
              "    .dataframe tbody tr th {\n",
              "        vertical-align: top;\n",
              "    }\n",
              "\n",
              "    .dataframe thead th {\n",
              "        text-align: right;\n",
              "    }\n",
              "</style>\n",
              "<table border=\"1\" class=\"dataframe\">\n",
              "  <thead>\n",
              "    <tr style=\"text-align: right;\">\n",
              "      <th></th>\n",
              "      <th>date</th>\n",
              "      <th>hour</th>\n",
              "      <th>demand</th>\n",
              "      <th>year</th>\n",
              "      <th>month</th>\n",
              "      <th>day</th>\n",
              "    </tr>\n",
              "  </thead>\n",
              "  <tbody>\n",
              "    <tr>\n",
              "      <th>0</th>\n",
              "      <td>2018-08-18</td>\n",
              "      <td>9</td>\n",
              "      <td>91</td>\n",
              "      <td>2018</td>\n",
              "      <td>8</td>\n",
              "      <td>18</td>\n",
              "    </tr>\n",
              "    <tr>\n",
              "      <th>1</th>\n",
              "      <td>2018-08-18</td>\n",
              "      <td>10</td>\n",
              "      <td>21</td>\n",
              "      <td>2018</td>\n",
              "      <td>8</td>\n",
              "      <td>18</td>\n",
              "    </tr>\n",
              "    <tr>\n",
              "      <th>2</th>\n",
              "      <td>2018-08-18</td>\n",
              "      <td>13</td>\n",
              "      <td>23</td>\n",
              "      <td>2018</td>\n",
              "      <td>8</td>\n",
              "      <td>18</td>\n",
              "    </tr>\n",
              "    <tr>\n",
              "      <th>3</th>\n",
              "      <td>2018-08-18</td>\n",
              "      <td>14</td>\n",
              "      <td>104</td>\n",
              "      <td>2018</td>\n",
              "      <td>8</td>\n",
              "      <td>18</td>\n",
              "    </tr>\n",
              "    <tr>\n",
              "      <th>4</th>\n",
              "      <td>2018-08-18</td>\n",
              "      <td>15</td>\n",
              "      <td>81</td>\n",
              "      <td>2018</td>\n",
              "      <td>8</td>\n",
              "      <td>18</td>\n",
              "    </tr>\n",
              "  </tbody>\n",
              "</table>\n",
              "</div>\n",
              "      <button class=\"colab-df-convert\" onclick=\"convertToInteractive('df-44304f68-56ce-412f-9f3b-0f78f30c27e8')\"\n",
              "              title=\"Convert this dataframe to an interactive table.\"\n",
              "              style=\"display:none;\">\n",
              "        \n",
              "  <svg xmlns=\"http://www.w3.org/2000/svg\" height=\"24px\"viewBox=\"0 0 24 24\"\n",
              "       width=\"24px\">\n",
              "    <path d=\"M0 0h24v24H0V0z\" fill=\"none\"/>\n",
              "    <path d=\"M18.56 5.44l.94 2.06.94-2.06 2.06-.94-2.06-.94-.94-2.06-.94 2.06-2.06.94zm-11 1L8.5 8.5l.94-2.06 2.06-.94-2.06-.94L8.5 2.5l-.94 2.06-2.06.94zm10 10l.94 2.06.94-2.06 2.06-.94-2.06-.94-.94-2.06-.94 2.06-2.06.94z\"/><path d=\"M17.41 7.96l-1.37-1.37c-.4-.4-.92-.59-1.43-.59-.52 0-1.04.2-1.43.59L10.3 9.45l-7.72 7.72c-.78.78-.78 2.05 0 2.83L4 21.41c.39.39.9.59 1.41.59.51 0 1.02-.2 1.41-.59l7.78-7.78 2.81-2.81c.8-.78.8-2.07 0-2.86zM5.41 20L4 18.59l7.72-7.72 1.47 1.35L5.41 20z\"/>\n",
              "  </svg>\n",
              "      </button>\n",
              "      \n",
              "  <style>\n",
              "    .colab-df-container {\n",
              "      display:flex;\n",
              "      flex-wrap:wrap;\n",
              "      gap: 12px;\n",
              "    }\n",
              "\n",
              "    .colab-df-convert {\n",
              "      background-color: #E8F0FE;\n",
              "      border: none;\n",
              "      border-radius: 50%;\n",
              "      cursor: pointer;\n",
              "      display: none;\n",
              "      fill: #1967D2;\n",
              "      height: 32px;\n",
              "      padding: 0 0 0 0;\n",
              "      width: 32px;\n",
              "    }\n",
              "\n",
              "    .colab-df-convert:hover {\n",
              "      background-color: #E2EBFA;\n",
              "      box-shadow: 0px 1px 2px rgba(60, 64, 67, 0.3), 0px 1px 3px 1px rgba(60, 64, 67, 0.15);\n",
              "      fill: #174EA6;\n",
              "    }\n",
              "\n",
              "    [theme=dark] .colab-df-convert {\n",
              "      background-color: #3B4455;\n",
              "      fill: #D2E3FC;\n",
              "    }\n",
              "\n",
              "    [theme=dark] .colab-df-convert:hover {\n",
              "      background-color: #434B5C;\n",
              "      box-shadow: 0px 1px 3px 1px rgba(0, 0, 0, 0.15);\n",
              "      filter: drop-shadow(0px 1px 2px rgba(0, 0, 0, 0.3));\n",
              "      fill: #FFFFFF;\n",
              "    }\n",
              "  </style>\n",
              "\n",
              "      <script>\n",
              "        const buttonEl =\n",
              "          document.querySelector('#df-44304f68-56ce-412f-9f3b-0f78f30c27e8 button.colab-df-convert');\n",
              "        buttonEl.style.display =\n",
              "          google.colab.kernel.accessAllowed ? 'block' : 'none';\n",
              "\n",
              "        async function convertToInteractive(key) {\n",
              "          const element = document.querySelector('#df-44304f68-56ce-412f-9f3b-0f78f30c27e8');\n",
              "          const dataTable =\n",
              "            await google.colab.kernel.invokeFunction('convertToInteractive',\n",
              "                                                     [key], {});\n",
              "          if (!dataTable) return;\n",
              "\n",
              "          const docLinkHtml = 'Like what you see? Visit the ' +\n",
              "            '<a target=\"_blank\" href=https://colab.research.google.com/notebooks/data_table.ipynb>data table notebook</a>'\n",
              "            + ' to learn more about interactive tables.';\n",
              "          element.innerHTML = '';\n",
              "          dataTable['output_type'] = 'display_data';\n",
              "          await google.colab.output.renderOutput(dataTable, element);\n",
              "          const docLink = document.createElement('div');\n",
              "          docLink.innerHTML = docLinkHtml;\n",
              "          element.appendChild(docLink);\n",
              "        }\n",
              "      </script>\n",
              "    </div>\n",
              "  </div>\n",
              "  "
            ]
          },
          "metadata": {},
          "execution_count": 9
        }
      ],
      "source": [
        "train.head()"
      ]
    },
    {
      "cell_type": "code",
      "execution_count": 10,
      "id": "91ab54ed",
      "metadata": {
        "colab": {
          "base_uri": "https://localhost:8080/",
          "height": 206
        },
        "id": "91ab54ed",
        "outputId": "2e65a570-9050-4bbb-fff4-d8694b7f2c83"
      },
      "outputs": [
        {
          "output_type": "execute_result",
          "data": {
            "text/plain": [
              "        date  hour  year  month  day\n",
              "0 2021-03-01     0  2018      8   18\n",
              "1 2021-03-01     1  2018      8   18\n",
              "2 2021-03-01     2  2018      8   18\n",
              "3 2021-03-01     3  2018      8   18\n",
              "4 2021-03-01     5  2018      8   18"
            ],
            "text/html": [
              "\n",
              "  <div id=\"df-887d3b78-c4a5-45f8-8932-ecdf237310a0\">\n",
              "    <div class=\"colab-df-container\">\n",
              "      <div>\n",
              "<style scoped>\n",
              "    .dataframe tbody tr th:only-of-type {\n",
              "        vertical-align: middle;\n",
              "    }\n",
              "\n",
              "    .dataframe tbody tr th {\n",
              "        vertical-align: top;\n",
              "    }\n",
              "\n",
              "    .dataframe thead th {\n",
              "        text-align: right;\n",
              "    }\n",
              "</style>\n",
              "<table border=\"1\" class=\"dataframe\">\n",
              "  <thead>\n",
              "    <tr style=\"text-align: right;\">\n",
              "      <th></th>\n",
              "      <th>date</th>\n",
              "      <th>hour</th>\n",
              "      <th>year</th>\n",
              "      <th>month</th>\n",
              "      <th>day</th>\n",
              "    </tr>\n",
              "  </thead>\n",
              "  <tbody>\n",
              "    <tr>\n",
              "      <th>0</th>\n",
              "      <td>2021-03-01</td>\n",
              "      <td>0</td>\n",
              "      <td>2018</td>\n",
              "      <td>8</td>\n",
              "      <td>18</td>\n",
              "    </tr>\n",
              "    <tr>\n",
              "      <th>1</th>\n",
              "      <td>2021-03-01</td>\n",
              "      <td>1</td>\n",
              "      <td>2018</td>\n",
              "      <td>8</td>\n",
              "      <td>18</td>\n",
              "    </tr>\n",
              "    <tr>\n",
              "      <th>2</th>\n",
              "      <td>2021-03-01</td>\n",
              "      <td>2</td>\n",
              "      <td>2018</td>\n",
              "      <td>8</td>\n",
              "      <td>18</td>\n",
              "    </tr>\n",
              "    <tr>\n",
              "      <th>3</th>\n",
              "      <td>2021-03-01</td>\n",
              "      <td>3</td>\n",
              "      <td>2018</td>\n",
              "      <td>8</td>\n",
              "      <td>18</td>\n",
              "    </tr>\n",
              "    <tr>\n",
              "      <th>4</th>\n",
              "      <td>2021-03-01</td>\n",
              "      <td>5</td>\n",
              "      <td>2018</td>\n",
              "      <td>8</td>\n",
              "      <td>18</td>\n",
              "    </tr>\n",
              "  </tbody>\n",
              "</table>\n",
              "</div>\n",
              "      <button class=\"colab-df-convert\" onclick=\"convertToInteractive('df-887d3b78-c4a5-45f8-8932-ecdf237310a0')\"\n",
              "              title=\"Convert this dataframe to an interactive table.\"\n",
              "              style=\"display:none;\">\n",
              "        \n",
              "  <svg xmlns=\"http://www.w3.org/2000/svg\" height=\"24px\"viewBox=\"0 0 24 24\"\n",
              "       width=\"24px\">\n",
              "    <path d=\"M0 0h24v24H0V0z\" fill=\"none\"/>\n",
              "    <path d=\"M18.56 5.44l.94 2.06.94-2.06 2.06-.94-2.06-.94-.94-2.06-.94 2.06-2.06.94zm-11 1L8.5 8.5l.94-2.06 2.06-.94-2.06-.94L8.5 2.5l-.94 2.06-2.06.94zm10 10l.94 2.06.94-2.06 2.06-.94-2.06-.94-.94-2.06-.94 2.06-2.06.94z\"/><path d=\"M17.41 7.96l-1.37-1.37c-.4-.4-.92-.59-1.43-.59-.52 0-1.04.2-1.43.59L10.3 9.45l-7.72 7.72c-.78.78-.78 2.05 0 2.83L4 21.41c.39.39.9.59 1.41.59.51 0 1.02-.2 1.41-.59l7.78-7.78 2.81-2.81c.8-.78.8-2.07 0-2.86zM5.41 20L4 18.59l7.72-7.72 1.47 1.35L5.41 20z\"/>\n",
              "  </svg>\n",
              "      </button>\n",
              "      \n",
              "  <style>\n",
              "    .colab-df-container {\n",
              "      display:flex;\n",
              "      flex-wrap:wrap;\n",
              "      gap: 12px;\n",
              "    }\n",
              "\n",
              "    .colab-df-convert {\n",
              "      background-color: #E8F0FE;\n",
              "      border: none;\n",
              "      border-radius: 50%;\n",
              "      cursor: pointer;\n",
              "      display: none;\n",
              "      fill: #1967D2;\n",
              "      height: 32px;\n",
              "      padding: 0 0 0 0;\n",
              "      width: 32px;\n",
              "    }\n",
              "\n",
              "    .colab-df-convert:hover {\n",
              "      background-color: #E2EBFA;\n",
              "      box-shadow: 0px 1px 2px rgba(60, 64, 67, 0.3), 0px 1px 3px 1px rgba(60, 64, 67, 0.15);\n",
              "      fill: #174EA6;\n",
              "    }\n",
              "\n",
              "    [theme=dark] .colab-df-convert {\n",
              "      background-color: #3B4455;\n",
              "      fill: #D2E3FC;\n",
              "    }\n",
              "\n",
              "    [theme=dark] .colab-df-convert:hover {\n",
              "      background-color: #434B5C;\n",
              "      box-shadow: 0px 1px 3px 1px rgba(0, 0, 0, 0.15);\n",
              "      filter: drop-shadow(0px 1px 2px rgba(0, 0, 0, 0.3));\n",
              "      fill: #FFFFFF;\n",
              "    }\n",
              "  </style>\n",
              "\n",
              "      <script>\n",
              "        const buttonEl =\n",
              "          document.querySelector('#df-887d3b78-c4a5-45f8-8932-ecdf237310a0 button.colab-df-convert');\n",
              "        buttonEl.style.display =\n",
              "          google.colab.kernel.accessAllowed ? 'block' : 'none';\n",
              "\n",
              "        async function convertToInteractive(key) {\n",
              "          const element = document.querySelector('#df-887d3b78-c4a5-45f8-8932-ecdf237310a0');\n",
              "          const dataTable =\n",
              "            await google.colab.kernel.invokeFunction('convertToInteractive',\n",
              "                                                     [key], {});\n",
              "          if (!dataTable) return;\n",
              "\n",
              "          const docLinkHtml = 'Like what you see? Visit the ' +\n",
              "            '<a target=\"_blank\" href=https://colab.research.google.com/notebooks/data_table.ipynb>data table notebook</a>'\n",
              "            + ' to learn more about interactive tables.';\n",
              "          element.innerHTML = '';\n",
              "          dataTable['output_type'] = 'display_data';\n",
              "          await google.colab.output.renderOutput(dataTable, element);\n",
              "          const docLink = document.createElement('div');\n",
              "          docLink.innerHTML = docLinkHtml;\n",
              "          element.appendChild(docLink);\n",
              "        }\n",
              "      </script>\n",
              "    </div>\n",
              "  </div>\n",
              "  "
            ]
          },
          "metadata": {},
          "execution_count": 10
        }
      ],
      "source": [
        "test.head()"
      ]
    },
    {
      "cell_type": "markdown",
      "source": [
        "##Feature Engineering"
      ],
      "metadata": {
        "id": "j7RbFHFJtafk"
      },
      "id": "j7RbFHFJtafk"
    },
    {
      "cell_type": "code",
      "execution_count": 11,
      "id": "b773d5aa",
      "metadata": {
        "id": "b773d5aa"
      },
      "outputs": [],
      "source": [
        "#introducing the column weekday\n",
        "train['weekday'] = train['date'].apply(lambda x: x.weekday())\n",
        "test['weekday'] = train['date'].apply(lambda x: x.weekday())"
      ]
    },
    {
      "cell_type": "code",
      "execution_count": 12,
      "id": "fa3098ec",
      "metadata": {
        "colab": {
          "base_uri": "https://localhost:8080/",
          "height": 206
        },
        "id": "fa3098ec",
        "outputId": "eecf5258-a9f6-4d34-e4b9-d348386d2c9b"
      },
      "outputs": [
        {
          "output_type": "execute_result",
          "data": {
            "text/plain": [
              "        date  hour  demand  year  month  day  weekday\n",
              "0 2018-08-18     9      91  2018      8   18        5\n",
              "1 2018-08-18    10      21  2018      8   18        5\n",
              "2 2018-08-18    13      23  2018      8   18        5\n",
              "3 2018-08-18    14     104  2018      8   18        5\n",
              "4 2018-08-18    15      81  2018      8   18        5"
            ],
            "text/html": [
              "\n",
              "  <div id=\"df-9e27cb61-f0fe-446e-9598-f07b3c4fe643\">\n",
              "    <div class=\"colab-df-container\">\n",
              "      <div>\n",
              "<style scoped>\n",
              "    .dataframe tbody tr th:only-of-type {\n",
              "        vertical-align: middle;\n",
              "    }\n",
              "\n",
              "    .dataframe tbody tr th {\n",
              "        vertical-align: top;\n",
              "    }\n",
              "\n",
              "    .dataframe thead th {\n",
              "        text-align: right;\n",
              "    }\n",
              "</style>\n",
              "<table border=\"1\" class=\"dataframe\">\n",
              "  <thead>\n",
              "    <tr style=\"text-align: right;\">\n",
              "      <th></th>\n",
              "      <th>date</th>\n",
              "      <th>hour</th>\n",
              "      <th>demand</th>\n",
              "      <th>year</th>\n",
              "      <th>month</th>\n",
              "      <th>day</th>\n",
              "      <th>weekday</th>\n",
              "    </tr>\n",
              "  </thead>\n",
              "  <tbody>\n",
              "    <tr>\n",
              "      <th>0</th>\n",
              "      <td>2018-08-18</td>\n",
              "      <td>9</td>\n",
              "      <td>91</td>\n",
              "      <td>2018</td>\n",
              "      <td>8</td>\n",
              "      <td>18</td>\n",
              "      <td>5</td>\n",
              "    </tr>\n",
              "    <tr>\n",
              "      <th>1</th>\n",
              "      <td>2018-08-18</td>\n",
              "      <td>10</td>\n",
              "      <td>21</td>\n",
              "      <td>2018</td>\n",
              "      <td>8</td>\n",
              "      <td>18</td>\n",
              "      <td>5</td>\n",
              "    </tr>\n",
              "    <tr>\n",
              "      <th>2</th>\n",
              "      <td>2018-08-18</td>\n",
              "      <td>13</td>\n",
              "      <td>23</td>\n",
              "      <td>2018</td>\n",
              "      <td>8</td>\n",
              "      <td>18</td>\n",
              "      <td>5</td>\n",
              "    </tr>\n",
              "    <tr>\n",
              "      <th>3</th>\n",
              "      <td>2018-08-18</td>\n",
              "      <td>14</td>\n",
              "      <td>104</td>\n",
              "      <td>2018</td>\n",
              "      <td>8</td>\n",
              "      <td>18</td>\n",
              "      <td>5</td>\n",
              "    </tr>\n",
              "    <tr>\n",
              "      <th>4</th>\n",
              "      <td>2018-08-18</td>\n",
              "      <td>15</td>\n",
              "      <td>81</td>\n",
              "      <td>2018</td>\n",
              "      <td>8</td>\n",
              "      <td>18</td>\n",
              "      <td>5</td>\n",
              "    </tr>\n",
              "  </tbody>\n",
              "</table>\n",
              "</div>\n",
              "      <button class=\"colab-df-convert\" onclick=\"convertToInteractive('df-9e27cb61-f0fe-446e-9598-f07b3c4fe643')\"\n",
              "              title=\"Convert this dataframe to an interactive table.\"\n",
              "              style=\"display:none;\">\n",
              "        \n",
              "  <svg xmlns=\"http://www.w3.org/2000/svg\" height=\"24px\"viewBox=\"0 0 24 24\"\n",
              "       width=\"24px\">\n",
              "    <path d=\"M0 0h24v24H0V0z\" fill=\"none\"/>\n",
              "    <path d=\"M18.56 5.44l.94 2.06.94-2.06 2.06-.94-2.06-.94-.94-2.06-.94 2.06-2.06.94zm-11 1L8.5 8.5l.94-2.06 2.06-.94-2.06-.94L8.5 2.5l-.94 2.06-2.06.94zm10 10l.94 2.06.94-2.06 2.06-.94-2.06-.94-.94-2.06-.94 2.06-2.06.94z\"/><path d=\"M17.41 7.96l-1.37-1.37c-.4-.4-.92-.59-1.43-.59-.52 0-1.04.2-1.43.59L10.3 9.45l-7.72 7.72c-.78.78-.78 2.05 0 2.83L4 21.41c.39.39.9.59 1.41.59.51 0 1.02-.2 1.41-.59l7.78-7.78 2.81-2.81c.8-.78.8-2.07 0-2.86zM5.41 20L4 18.59l7.72-7.72 1.47 1.35L5.41 20z\"/>\n",
              "  </svg>\n",
              "      </button>\n",
              "      \n",
              "  <style>\n",
              "    .colab-df-container {\n",
              "      display:flex;\n",
              "      flex-wrap:wrap;\n",
              "      gap: 12px;\n",
              "    }\n",
              "\n",
              "    .colab-df-convert {\n",
              "      background-color: #E8F0FE;\n",
              "      border: none;\n",
              "      border-radius: 50%;\n",
              "      cursor: pointer;\n",
              "      display: none;\n",
              "      fill: #1967D2;\n",
              "      height: 32px;\n",
              "      padding: 0 0 0 0;\n",
              "      width: 32px;\n",
              "    }\n",
              "\n",
              "    .colab-df-convert:hover {\n",
              "      background-color: #E2EBFA;\n",
              "      box-shadow: 0px 1px 2px rgba(60, 64, 67, 0.3), 0px 1px 3px 1px rgba(60, 64, 67, 0.15);\n",
              "      fill: #174EA6;\n",
              "    }\n",
              "\n",
              "    [theme=dark] .colab-df-convert {\n",
              "      background-color: #3B4455;\n",
              "      fill: #D2E3FC;\n",
              "    }\n",
              "\n",
              "    [theme=dark] .colab-df-convert:hover {\n",
              "      background-color: #434B5C;\n",
              "      box-shadow: 0px 1px 3px 1px rgba(0, 0, 0, 0.15);\n",
              "      filter: drop-shadow(0px 1px 2px rgba(0, 0, 0, 0.3));\n",
              "      fill: #FFFFFF;\n",
              "    }\n",
              "  </style>\n",
              "\n",
              "      <script>\n",
              "        const buttonEl =\n",
              "          document.querySelector('#df-9e27cb61-f0fe-446e-9598-f07b3c4fe643 button.colab-df-convert');\n",
              "        buttonEl.style.display =\n",
              "          google.colab.kernel.accessAllowed ? 'block' : 'none';\n",
              "\n",
              "        async function convertToInteractive(key) {\n",
              "          const element = document.querySelector('#df-9e27cb61-f0fe-446e-9598-f07b3c4fe643');\n",
              "          const dataTable =\n",
              "            await google.colab.kernel.invokeFunction('convertToInteractive',\n",
              "                                                     [key], {});\n",
              "          if (!dataTable) return;\n",
              "\n",
              "          const docLinkHtml = 'Like what you see? Visit the ' +\n",
              "            '<a target=\"_blank\" href=https://colab.research.google.com/notebooks/data_table.ipynb>data table notebook</a>'\n",
              "            + ' to learn more about interactive tables.';\n",
              "          element.innerHTML = '';\n",
              "          dataTable['output_type'] = 'display_data';\n",
              "          await google.colab.output.renderOutput(dataTable, element);\n",
              "          const docLink = document.createElement('div');\n",
              "          docLink.innerHTML = docLinkHtml;\n",
              "          element.appendChild(docLink);\n",
              "        }\n",
              "      </script>\n",
              "    </div>\n",
              "  </div>\n",
              "  "
            ]
          },
          "metadata": {},
          "execution_count": 12
        }
      ],
      "source": [
        "train.head()"
      ]
    },
    {
      "cell_type": "code",
      "execution_count": 13,
      "id": "1fb374a9",
      "metadata": {
        "id": "1fb374a9"
      },
      "outputs": [],
      "source": [
        "#introducing the column weekend\n",
        "train['isWeekend'] = train['weekday'].apply(lambda x:1 if x>4 else 0)\n",
        "test['isWeekend'] = test['weekday'].apply(lambda x:1 if x>4 else 0)"
      ]
    },
    {
      "cell_type": "code",
      "execution_count": 14,
      "id": "d430fee6",
      "metadata": {
        "id": "d430fee6"
      },
      "outputs": [],
      "source": [
        "#adding the column quarter according to the financial year division\n",
        "def quarters(n):\n",
        "    if n in range(4,7):\n",
        "        return 'Q1'\n",
        "    elif n in range(7,10):\n",
        "        return 'Q2'\n",
        "    elif n in range(10,12) or n ==12 :\n",
        "        return 'Q3'\n",
        "    elif n in range(1,4):\n",
        "        return 'Q4'"
      ]
    },
    {
      "cell_type": "code",
      "execution_count": 15,
      "id": "d03910e5",
      "metadata": {
        "id": "d03910e5"
      },
      "outputs": [],
      "source": [
        "train['Quarter'] = train['month'].apply(quarters)\n",
        "test['Quarter'] = test['month'].apply(quarters)"
      ]
    },
    {
      "cell_type": "code",
      "execution_count": 16,
      "id": "6028db7e",
      "metadata": {
        "id": "6028db7e"
      },
      "outputs": [],
      "source": [
        "#function to identify the timing of the day\n",
        "def timeOfDay(n):\n",
        "    if n in range(0,6):\n",
        "        return 'Night'\n",
        "    elif n in range(6,12):\n",
        "        return 'Morning'\n",
        "    elif n in range(12,18):\n",
        "        return 'Afternoon'\n",
        "    elif n in range(18,23) or n == 23:\n",
        "        return 'Evening'\n",
        "    "
      ]
    },
    {
      "cell_type": "code",
      "execution_count": 17,
      "id": "8b22ce6d",
      "metadata": {
        "id": "8b22ce6d"
      },
      "outputs": [],
      "source": [
        "train['typeOfDay'] = train['hour'].apply(lambda x: timeOfDay(x))\n",
        "test['typeOfDay'] = test['hour'].apply(lambda x: timeOfDay(x))"
      ]
    },
    {
      "cell_type": "code",
      "execution_count": 18,
      "id": "05d13fcc",
      "metadata": {
        "id": "05d13fcc"
      },
      "outputs": [],
      "source": [
        "#function for converting the months to seasons\n",
        "def monthToSeasons(x):\n",
        "    if x in[9,10,11]:\n",
        "        return 'Autumn'\n",
        "    elif x in [12,1,2]:\n",
        "        return 'Winter'\n",
        "    elif x in [3,4,5]:\n",
        "        return 'Spring'\n",
        "    elif x in [6,7,8]:\n",
        "        return 'Summer'"
      ]
    },
    {
      "cell_type": "code",
      "execution_count": 19,
      "id": "c7ac9e9f",
      "metadata": {
        "id": "c7ac9e9f"
      },
      "outputs": [],
      "source": [
        "train['Season'] = train['month'].apply(monthToSeasons)\n",
        "test['Season'] = test['month'].apply(monthToSeasons)"
      ]
    },
    {
      "cell_type": "code",
      "execution_count": 20,
      "id": "fb94c95e",
      "metadata": {
        "colab": {
          "base_uri": "https://localhost:8080/",
          "height": 206
        },
        "id": "fb94c95e",
        "outputId": "5967c6f0-791f-4b52-aa31-5a451c2ec190"
      },
      "outputs": [
        {
          "output_type": "execute_result",
          "data": {
            "text/plain": [
              "        date  hour  demand  year  month  day  weekday  isWeekend Quarter  \\\n",
              "0 2018-08-18     9      91  2018      8   18        5          1      Q2   \n",
              "1 2018-08-18    10      21  2018      8   18        5          1      Q2   \n",
              "2 2018-08-18    13      23  2018      8   18        5          1      Q2   \n",
              "3 2018-08-18    14     104  2018      8   18        5          1      Q2   \n",
              "4 2018-08-18    15      81  2018      8   18        5          1      Q2   \n",
              "\n",
              "   typeOfDay  Season  \n",
              "0    Morning  Summer  \n",
              "1    Morning  Summer  \n",
              "2  Afternoon  Summer  \n",
              "3  Afternoon  Summer  \n",
              "4  Afternoon  Summer  "
            ],
            "text/html": [
              "\n",
              "  <div id=\"df-29bc8044-7c93-475c-a78b-b19c9130fa9b\">\n",
              "    <div class=\"colab-df-container\">\n",
              "      <div>\n",
              "<style scoped>\n",
              "    .dataframe tbody tr th:only-of-type {\n",
              "        vertical-align: middle;\n",
              "    }\n",
              "\n",
              "    .dataframe tbody tr th {\n",
              "        vertical-align: top;\n",
              "    }\n",
              "\n",
              "    .dataframe thead th {\n",
              "        text-align: right;\n",
              "    }\n",
              "</style>\n",
              "<table border=\"1\" class=\"dataframe\">\n",
              "  <thead>\n",
              "    <tr style=\"text-align: right;\">\n",
              "      <th></th>\n",
              "      <th>date</th>\n",
              "      <th>hour</th>\n",
              "      <th>demand</th>\n",
              "      <th>year</th>\n",
              "      <th>month</th>\n",
              "      <th>day</th>\n",
              "      <th>weekday</th>\n",
              "      <th>isWeekend</th>\n",
              "      <th>Quarter</th>\n",
              "      <th>typeOfDay</th>\n",
              "      <th>Season</th>\n",
              "    </tr>\n",
              "  </thead>\n",
              "  <tbody>\n",
              "    <tr>\n",
              "      <th>0</th>\n",
              "      <td>2018-08-18</td>\n",
              "      <td>9</td>\n",
              "      <td>91</td>\n",
              "      <td>2018</td>\n",
              "      <td>8</td>\n",
              "      <td>18</td>\n",
              "      <td>5</td>\n",
              "      <td>1</td>\n",
              "      <td>Q2</td>\n",
              "      <td>Morning</td>\n",
              "      <td>Summer</td>\n",
              "    </tr>\n",
              "    <tr>\n",
              "      <th>1</th>\n",
              "      <td>2018-08-18</td>\n",
              "      <td>10</td>\n",
              "      <td>21</td>\n",
              "      <td>2018</td>\n",
              "      <td>8</td>\n",
              "      <td>18</td>\n",
              "      <td>5</td>\n",
              "      <td>1</td>\n",
              "      <td>Q2</td>\n",
              "      <td>Morning</td>\n",
              "      <td>Summer</td>\n",
              "    </tr>\n",
              "    <tr>\n",
              "      <th>2</th>\n",
              "      <td>2018-08-18</td>\n",
              "      <td>13</td>\n",
              "      <td>23</td>\n",
              "      <td>2018</td>\n",
              "      <td>8</td>\n",
              "      <td>18</td>\n",
              "      <td>5</td>\n",
              "      <td>1</td>\n",
              "      <td>Q2</td>\n",
              "      <td>Afternoon</td>\n",
              "      <td>Summer</td>\n",
              "    </tr>\n",
              "    <tr>\n",
              "      <th>3</th>\n",
              "      <td>2018-08-18</td>\n",
              "      <td>14</td>\n",
              "      <td>104</td>\n",
              "      <td>2018</td>\n",
              "      <td>8</td>\n",
              "      <td>18</td>\n",
              "      <td>5</td>\n",
              "      <td>1</td>\n",
              "      <td>Q2</td>\n",
              "      <td>Afternoon</td>\n",
              "      <td>Summer</td>\n",
              "    </tr>\n",
              "    <tr>\n",
              "      <th>4</th>\n",
              "      <td>2018-08-18</td>\n",
              "      <td>15</td>\n",
              "      <td>81</td>\n",
              "      <td>2018</td>\n",
              "      <td>8</td>\n",
              "      <td>18</td>\n",
              "      <td>5</td>\n",
              "      <td>1</td>\n",
              "      <td>Q2</td>\n",
              "      <td>Afternoon</td>\n",
              "      <td>Summer</td>\n",
              "    </tr>\n",
              "  </tbody>\n",
              "</table>\n",
              "</div>\n",
              "      <button class=\"colab-df-convert\" onclick=\"convertToInteractive('df-29bc8044-7c93-475c-a78b-b19c9130fa9b')\"\n",
              "              title=\"Convert this dataframe to an interactive table.\"\n",
              "              style=\"display:none;\">\n",
              "        \n",
              "  <svg xmlns=\"http://www.w3.org/2000/svg\" height=\"24px\"viewBox=\"0 0 24 24\"\n",
              "       width=\"24px\">\n",
              "    <path d=\"M0 0h24v24H0V0z\" fill=\"none\"/>\n",
              "    <path d=\"M18.56 5.44l.94 2.06.94-2.06 2.06-.94-2.06-.94-.94-2.06-.94 2.06-2.06.94zm-11 1L8.5 8.5l.94-2.06 2.06-.94-2.06-.94L8.5 2.5l-.94 2.06-2.06.94zm10 10l.94 2.06.94-2.06 2.06-.94-2.06-.94-.94-2.06-.94 2.06-2.06.94z\"/><path d=\"M17.41 7.96l-1.37-1.37c-.4-.4-.92-.59-1.43-.59-.52 0-1.04.2-1.43.59L10.3 9.45l-7.72 7.72c-.78.78-.78 2.05 0 2.83L4 21.41c.39.39.9.59 1.41.59.51 0 1.02-.2 1.41-.59l7.78-7.78 2.81-2.81c.8-.78.8-2.07 0-2.86zM5.41 20L4 18.59l7.72-7.72 1.47 1.35L5.41 20z\"/>\n",
              "  </svg>\n",
              "      </button>\n",
              "      \n",
              "  <style>\n",
              "    .colab-df-container {\n",
              "      display:flex;\n",
              "      flex-wrap:wrap;\n",
              "      gap: 12px;\n",
              "    }\n",
              "\n",
              "    .colab-df-convert {\n",
              "      background-color: #E8F0FE;\n",
              "      border: none;\n",
              "      border-radius: 50%;\n",
              "      cursor: pointer;\n",
              "      display: none;\n",
              "      fill: #1967D2;\n",
              "      height: 32px;\n",
              "      padding: 0 0 0 0;\n",
              "      width: 32px;\n",
              "    }\n",
              "\n",
              "    .colab-df-convert:hover {\n",
              "      background-color: #E2EBFA;\n",
              "      box-shadow: 0px 1px 2px rgba(60, 64, 67, 0.3), 0px 1px 3px 1px rgba(60, 64, 67, 0.15);\n",
              "      fill: #174EA6;\n",
              "    }\n",
              "\n",
              "    [theme=dark] .colab-df-convert {\n",
              "      background-color: #3B4455;\n",
              "      fill: #D2E3FC;\n",
              "    }\n",
              "\n",
              "    [theme=dark] .colab-df-convert:hover {\n",
              "      background-color: #434B5C;\n",
              "      box-shadow: 0px 1px 3px 1px rgba(0, 0, 0, 0.15);\n",
              "      filter: drop-shadow(0px 1px 2px rgba(0, 0, 0, 0.3));\n",
              "      fill: #FFFFFF;\n",
              "    }\n",
              "  </style>\n",
              "\n",
              "      <script>\n",
              "        const buttonEl =\n",
              "          document.querySelector('#df-29bc8044-7c93-475c-a78b-b19c9130fa9b button.colab-df-convert');\n",
              "        buttonEl.style.display =\n",
              "          google.colab.kernel.accessAllowed ? 'block' : 'none';\n",
              "\n",
              "        async function convertToInteractive(key) {\n",
              "          const element = document.querySelector('#df-29bc8044-7c93-475c-a78b-b19c9130fa9b');\n",
              "          const dataTable =\n",
              "            await google.colab.kernel.invokeFunction('convertToInteractive',\n",
              "                                                     [key], {});\n",
              "          if (!dataTable) return;\n",
              "\n",
              "          const docLinkHtml = 'Like what you see? Visit the ' +\n",
              "            '<a target=\"_blank\" href=https://colab.research.google.com/notebooks/data_table.ipynb>data table notebook</a>'\n",
              "            + ' to learn more about interactive tables.';\n",
              "          element.innerHTML = '';\n",
              "          dataTable['output_type'] = 'display_data';\n",
              "          await google.colab.output.renderOutput(dataTable, element);\n",
              "          const docLink = document.createElement('div');\n",
              "          docLink.innerHTML = docLinkHtml;\n",
              "          element.appendChild(docLink);\n",
              "        }\n",
              "      </script>\n",
              "    </div>\n",
              "  </div>\n",
              "  "
            ]
          },
          "metadata": {},
          "execution_count": 20
        }
      ],
      "source": [
        "train.head()"
      ]
    },
    {
      "cell_type": "code",
      "execution_count": 21,
      "id": "050bc97f",
      "metadata": {
        "colab": {
          "base_uri": "https://localhost:8080/",
          "height": 206
        },
        "id": "050bc97f",
        "outputId": "358c7115-ac69-4107-8c33-685b3dc36482"
      },
      "outputs": [
        {
          "output_type": "execute_result",
          "data": {
            "text/plain": [
              "        date  hour  year  month  day  weekday  isWeekend Quarter typeOfDay  \\\n",
              "0 2021-03-01     0  2018      8   18        5          1      Q2     Night   \n",
              "1 2021-03-01     1  2018      8   18        5          1      Q2     Night   \n",
              "2 2021-03-01     2  2018      8   18        5          1      Q2     Night   \n",
              "3 2021-03-01     3  2018      8   18        5          1      Q2     Night   \n",
              "4 2021-03-01     5  2018      8   18        5          1      Q2     Night   \n",
              "\n",
              "   Season  \n",
              "0  Summer  \n",
              "1  Summer  \n",
              "2  Summer  \n",
              "3  Summer  \n",
              "4  Summer  "
            ],
            "text/html": [
              "\n",
              "  <div id=\"df-5f857ee2-13eb-42e1-b7f8-60937b37becf\">\n",
              "    <div class=\"colab-df-container\">\n",
              "      <div>\n",
              "<style scoped>\n",
              "    .dataframe tbody tr th:only-of-type {\n",
              "        vertical-align: middle;\n",
              "    }\n",
              "\n",
              "    .dataframe tbody tr th {\n",
              "        vertical-align: top;\n",
              "    }\n",
              "\n",
              "    .dataframe thead th {\n",
              "        text-align: right;\n",
              "    }\n",
              "</style>\n",
              "<table border=\"1\" class=\"dataframe\">\n",
              "  <thead>\n",
              "    <tr style=\"text-align: right;\">\n",
              "      <th></th>\n",
              "      <th>date</th>\n",
              "      <th>hour</th>\n",
              "      <th>year</th>\n",
              "      <th>month</th>\n",
              "      <th>day</th>\n",
              "      <th>weekday</th>\n",
              "      <th>isWeekend</th>\n",
              "      <th>Quarter</th>\n",
              "      <th>typeOfDay</th>\n",
              "      <th>Season</th>\n",
              "    </tr>\n",
              "  </thead>\n",
              "  <tbody>\n",
              "    <tr>\n",
              "      <th>0</th>\n",
              "      <td>2021-03-01</td>\n",
              "      <td>0</td>\n",
              "      <td>2018</td>\n",
              "      <td>8</td>\n",
              "      <td>18</td>\n",
              "      <td>5</td>\n",
              "      <td>1</td>\n",
              "      <td>Q2</td>\n",
              "      <td>Night</td>\n",
              "      <td>Summer</td>\n",
              "    </tr>\n",
              "    <tr>\n",
              "      <th>1</th>\n",
              "      <td>2021-03-01</td>\n",
              "      <td>1</td>\n",
              "      <td>2018</td>\n",
              "      <td>8</td>\n",
              "      <td>18</td>\n",
              "      <td>5</td>\n",
              "      <td>1</td>\n",
              "      <td>Q2</td>\n",
              "      <td>Night</td>\n",
              "      <td>Summer</td>\n",
              "    </tr>\n",
              "    <tr>\n",
              "      <th>2</th>\n",
              "      <td>2021-03-01</td>\n",
              "      <td>2</td>\n",
              "      <td>2018</td>\n",
              "      <td>8</td>\n",
              "      <td>18</td>\n",
              "      <td>5</td>\n",
              "      <td>1</td>\n",
              "      <td>Q2</td>\n",
              "      <td>Night</td>\n",
              "      <td>Summer</td>\n",
              "    </tr>\n",
              "    <tr>\n",
              "      <th>3</th>\n",
              "      <td>2021-03-01</td>\n",
              "      <td>3</td>\n",
              "      <td>2018</td>\n",
              "      <td>8</td>\n",
              "      <td>18</td>\n",
              "      <td>5</td>\n",
              "      <td>1</td>\n",
              "      <td>Q2</td>\n",
              "      <td>Night</td>\n",
              "      <td>Summer</td>\n",
              "    </tr>\n",
              "    <tr>\n",
              "      <th>4</th>\n",
              "      <td>2021-03-01</td>\n",
              "      <td>5</td>\n",
              "      <td>2018</td>\n",
              "      <td>8</td>\n",
              "      <td>18</td>\n",
              "      <td>5</td>\n",
              "      <td>1</td>\n",
              "      <td>Q2</td>\n",
              "      <td>Night</td>\n",
              "      <td>Summer</td>\n",
              "    </tr>\n",
              "  </tbody>\n",
              "</table>\n",
              "</div>\n",
              "      <button class=\"colab-df-convert\" onclick=\"convertToInteractive('df-5f857ee2-13eb-42e1-b7f8-60937b37becf')\"\n",
              "              title=\"Convert this dataframe to an interactive table.\"\n",
              "              style=\"display:none;\">\n",
              "        \n",
              "  <svg xmlns=\"http://www.w3.org/2000/svg\" height=\"24px\"viewBox=\"0 0 24 24\"\n",
              "       width=\"24px\">\n",
              "    <path d=\"M0 0h24v24H0V0z\" fill=\"none\"/>\n",
              "    <path d=\"M18.56 5.44l.94 2.06.94-2.06 2.06-.94-2.06-.94-.94-2.06-.94 2.06-2.06.94zm-11 1L8.5 8.5l.94-2.06 2.06-.94-2.06-.94L8.5 2.5l-.94 2.06-2.06.94zm10 10l.94 2.06.94-2.06 2.06-.94-2.06-.94-.94-2.06-.94 2.06-2.06.94z\"/><path d=\"M17.41 7.96l-1.37-1.37c-.4-.4-.92-.59-1.43-.59-.52 0-1.04.2-1.43.59L10.3 9.45l-7.72 7.72c-.78.78-.78 2.05 0 2.83L4 21.41c.39.39.9.59 1.41.59.51 0 1.02-.2 1.41-.59l7.78-7.78 2.81-2.81c.8-.78.8-2.07 0-2.86zM5.41 20L4 18.59l7.72-7.72 1.47 1.35L5.41 20z\"/>\n",
              "  </svg>\n",
              "      </button>\n",
              "      \n",
              "  <style>\n",
              "    .colab-df-container {\n",
              "      display:flex;\n",
              "      flex-wrap:wrap;\n",
              "      gap: 12px;\n",
              "    }\n",
              "\n",
              "    .colab-df-convert {\n",
              "      background-color: #E8F0FE;\n",
              "      border: none;\n",
              "      border-radius: 50%;\n",
              "      cursor: pointer;\n",
              "      display: none;\n",
              "      fill: #1967D2;\n",
              "      height: 32px;\n",
              "      padding: 0 0 0 0;\n",
              "      width: 32px;\n",
              "    }\n",
              "\n",
              "    .colab-df-convert:hover {\n",
              "      background-color: #E2EBFA;\n",
              "      box-shadow: 0px 1px 2px rgba(60, 64, 67, 0.3), 0px 1px 3px 1px rgba(60, 64, 67, 0.15);\n",
              "      fill: #174EA6;\n",
              "    }\n",
              "\n",
              "    [theme=dark] .colab-df-convert {\n",
              "      background-color: #3B4455;\n",
              "      fill: #D2E3FC;\n",
              "    }\n",
              "\n",
              "    [theme=dark] .colab-df-convert:hover {\n",
              "      background-color: #434B5C;\n",
              "      box-shadow: 0px 1px 3px 1px rgba(0, 0, 0, 0.15);\n",
              "      filter: drop-shadow(0px 1px 2px rgba(0, 0, 0, 0.3));\n",
              "      fill: #FFFFFF;\n",
              "    }\n",
              "  </style>\n",
              "\n",
              "      <script>\n",
              "        const buttonEl =\n",
              "          document.querySelector('#df-5f857ee2-13eb-42e1-b7f8-60937b37becf button.colab-df-convert');\n",
              "        buttonEl.style.display =\n",
              "          google.colab.kernel.accessAllowed ? 'block' : 'none';\n",
              "\n",
              "        async function convertToInteractive(key) {\n",
              "          const element = document.querySelector('#df-5f857ee2-13eb-42e1-b7f8-60937b37becf');\n",
              "          const dataTable =\n",
              "            await google.colab.kernel.invokeFunction('convertToInteractive',\n",
              "                                                     [key], {});\n",
              "          if (!dataTable) return;\n",
              "\n",
              "          const docLinkHtml = 'Like what you see? Visit the ' +\n",
              "            '<a target=\"_blank\" href=https://colab.research.google.com/notebooks/data_table.ipynb>data table notebook</a>'\n",
              "            + ' to learn more about interactive tables.';\n",
              "          element.innerHTML = '';\n",
              "          dataTable['output_type'] = 'display_data';\n",
              "          await google.colab.output.renderOutput(dataTable, element);\n",
              "          const docLink = document.createElement('div');\n",
              "          docLink.innerHTML = docLinkHtml;\n",
              "          element.appendChild(docLink);\n",
              "        }\n",
              "      </script>\n",
              "    </div>\n",
              "  </div>\n",
              "  "
            ]
          },
          "metadata": {},
          "execution_count": 21
        }
      ],
      "source": [
        "test.head()"
      ]
    },
    {
      "cell_type": "code",
      "execution_count": 22,
      "id": "06d59d68",
      "metadata": {
        "id": "06d59d68"
      },
      "outputs": [],
      "source": [
        "#dropping the column date\n",
        "train=train.drop(['date'],axis=1)\n",
        "test=test.drop(['date'],axis=1)"
      ]
    },
    {
      "cell_type": "code",
      "execution_count": 23,
      "id": "4602e35a",
      "metadata": {
        "colab": {
          "base_uri": "https://localhost:8080/"
        },
        "id": "4602e35a",
        "outputId": "cb51d5f3-7a47-4fe6-d974-3e9ae0651003"
      },
      "outputs": [
        {
          "output_type": "execute_result",
          "data": {
            "text/plain": [
              "Index(['hour', 'demand', 'year', 'month', 'day', 'weekday', 'isWeekend',\n",
              "       'Quarter', 'typeOfDay', 'Season'],\n",
              "      dtype='object')"
            ]
          },
          "metadata": {},
          "execution_count": 23
        }
      ],
      "source": [
        "train.columns"
      ]
    },
    {
      "cell_type": "code",
      "execution_count": 24,
      "id": "c2a3c95d",
      "metadata": {
        "colab": {
          "base_uri": "https://localhost:8080/"
        },
        "id": "c2a3c95d",
        "outputId": "f3adbee3-c3a7-444a-f225-34ecb3adb0d5"
      },
      "outputs": [
        {
          "output_type": "execute_result",
          "data": {
            "text/plain": [
              "Index(['hour', 'year', 'month', 'day', 'weekday', 'isWeekend', 'Quarter',\n",
              "       'typeOfDay', 'Season'],\n",
              "      dtype='object')"
            ]
          },
          "metadata": {},
          "execution_count": 24
        }
      ],
      "source": [
        "test.columns"
      ]
    },
    {
      "cell_type": "markdown",
      "id": "2f1f7957",
      "metadata": {
        "id": "2f1f7957"
      },
      "source": [
        "# EDA"
      ]
    },
    {
      "cell_type": "code",
      "execution_count": 25,
      "id": "ad703d36",
      "metadata": {
        "colab": {
          "base_uri": "https://localhost:8080/",
          "height": 516
        },
        "id": "ad703d36",
        "outputId": "944df172-925a-40d4-d145-eaed852c82e9"
      },
      "outputs": [
        {
          "output_type": "execute_result",
          "data": {
            "text/plain": [
              "[]"
            ]
          },
          "metadata": {},
          "execution_count": 25
        },
        {
          "output_type": "display_data",
          "data": {
            "text/plain": [
              "<Figure size 576x576 with 9 Axes>"
            ],
            "image/png": "[encoded data removed]"
          },
          "metadata": {
            "needs_background": "light"
          }
        }
      ],
      "source": [
        "train.hist(figsize=(8,8))\n",
        "plt.plot()"
      ]
    },
    {
      "cell_type": "code",
      "execution_count": 26,
      "id": "cb14df02",
      "metadata": {
        "colab": {
          "base_uri": "https://localhost:8080/",
          "height": 1000
        },
        "id": "cb14df02",
        "outputId": "d71fbf1a-eab3-430c-983b-925fb89840bb"
      },
      "outputs": [
        {
          "output_type": "execute_result",
          "data": {
            "text/plain": [
              "<seaborn.axisgrid.PairGrid at 0x7fa2e7ffb550>"
            ]
          },
          "metadata": {},
          "execution_count": 26
        },
        {
          "output_type": "display_data",
          "data": {
            "text/plain": [
              "<Figure size 1260x1260 with 56 Axes>"
            ],
            "image/png": "[encoded data removed]"
          },
          "metadata": {
            "needs_background": "light"
          }
        }
      ],
      "source": [
        "sns.pairplot(train)"
      ]
    },
    {
      "cell_type": "code",
      "execution_count": 27,
      "id": "d58de880",
      "metadata": {
        "colab": {
          "base_uri": "https://localhost:8080/",
          "height": 393
        },
        "id": "d58de880",
        "outputId": "ee623454-6e57-46db-d88f-2be39d98631b"
      },
      "outputs": [
        {
          "output_type": "execute_result",
          "data": {
            "text/plain": [
              "(-1.1000942914596592,\n",
              " 1.1000044900695076,\n",
              " -1.1272407823461028,\n",
              " 1.1106972931684294)"
            ]
          },
          "metadata": {},
          "execution_count": 27
        },
        {
          "output_type": "display_data",
          "data": {
            "text/plain": [
              "<Figure size 360x360 with 1 Axes>"
            ],
            "image/png": "[encoded data removed]"
          },
          "metadata": {}
        }
      ],
      "source": [
        "plt.figure(figsize=(5,5))\n",
        "train['Season'].value_counts().plot(kind='pie')\n",
        "plt.title(\"Season\",size=20)\n",
        "plt.axis('equal')"
      ]
    },
    {
      "cell_type": "code",
      "execution_count": 28,
      "id": "df0906ec",
      "metadata": {
        "colab": {
          "base_uri": "https://localhost:8080/",
          "height": 393
        },
        "id": "df0906ec",
        "outputId": "a69ec4a0-7c49-41dd-a4ec-057fe08f9e40"
      },
      "outputs": [
        {
          "output_type": "execute_result",
          "data": {
            "text/plain": [
              "(-1.1084193089957362,\n",
              " 1.1004009194759874,\n",
              " -1.1315313286291473,\n",
              " 1.1115538779997485)"
            ]
          },
          "metadata": {},
          "execution_count": 28
        },
        {
          "output_type": "display_data",
          "data": {
            "text/plain": [
              "<Figure size 360x360 with 1 Axes>"
            ],
            "image/png": "[encoded data removed]"
          },
          "metadata": {}
        }
      ],
      "source": [
        "plt.figure(figsize=(5,5))\n",
        "train['Quarter'].value_counts().plot(kind='pie')\n",
        "plt.title(\"Quarter\",size=20)\n",
        "plt.axis('equal')"
      ]
    },
    {
      "cell_type": "code",
      "execution_count": 29,
      "id": "fb06fd55",
      "metadata": {
        "colab": {
          "base_uri": "https://localhost:8080/",
          "height": 559
        },
        "id": "fb06fd55",
        "outputId": "53d35314-0579-4dba-b9e1-f117e9b92bd1"
      },
      "outputs": [
        {
          "output_type": "execute_result",
          "data": {
            "text/plain": [
              "(-1.101696470079341,\n",
              " 1.1000807842894924,\n",
              " -1.1109740676999122,\n",
              " 1.111950302916158)"
            ]
          },
          "metadata": {},
          "execution_count": 29
        },
        {
          "output_type": "display_data",
          "data": {
            "text/plain": [
              "<Figure size 576x576 with 1 Axes>"
            ],
            "image/png": "[encoded data removed]"
          },
          "metadata": {}
        }
      ],
      "source": [
        "plt.figure(figsize=(8,8))\n",
        "train['typeOfDay'].value_counts().plot(kind='pie')\n",
        "plt.title(\"typeOfDay\",size=20)\n",
        "plt.axis('equal')"
      ]
    },
    {
      "cell_type": "code",
      "execution_count": 30,
      "id": "cdf8eb0f",
      "metadata": {
        "colab": {
          "base_uri": "https://localhost:8080/",
          "height": 444
        },
        "id": "cdf8eb0f",
        "outputId": "7e739a99-3ba4-4cf6-d8f1-4ec439bf4263"
      },
      "outputs": [
        {
          "output_type": "execute_result",
          "data": {
            "text/plain": [
              "<matplotlib.axes._subplots.AxesSubplot at 0x7fa2e3fd7f50>"
            ]
          },
          "metadata": {},
          "execution_count": 30
        },
        {
          "output_type": "display_data",
          "data": {
            "text/plain": [
              "<Figure size 576x432 with 1 Axes>"
            ],
            "image/png": "[encoded data removed]"
          },
          "metadata": {
            "needs_background": "light"
          }
        }
      ],
      "source": [
        "plt.figure(figsize=(8,6))\n",
        "train.groupby('typeOfDay')['demand'].sum().plot(kind='bar',color='tab:cyan')"
      ]
    },
    {
      "cell_type": "markdown",
      "id": "2b49e81c",
      "metadata": {
        "id": "2b49e81c"
      },
      "source": [
        "Highest demand is during night"
      ]
    },
    {
      "cell_type": "code",
      "execution_count": 31,
      "id": "b7b8cce2",
      "metadata": {
        "colab": {
          "base_uri": "https://localhost:8080/",
          "height": 953
        },
        "id": "b7b8cce2",
        "outputId": "016a6b33-9f5d-4555-d617-9cb0c6500d36"
      },
      "outputs": [
        {
          "output_type": "execute_result",
          "data": {
            "text/plain": [
              "<matplotlib.axes._subplots.AxesSubplot at 0x7fa2e26f4490>"
            ]
          },
          "metadata": {},
          "execution_count": 31
        },
        {
          "output_type": "display_data",
          "data": {
            "text/plain": [
              "<Figure size 576x1152 with 2 Axes>"
            ],
            "image/png": "[encoded data removed]"
          },
          "metadata": {
            "needs_background": "light"
          }
        }
      ],
      "source": [
        "plt.figure(figsize=(8,16))\n",
        "plt.subplot(2,1,1)\n",
        "train.groupby('Season')['demand'].sum().plot(kind='bar')\n",
        "\n",
        "plt.subplot(2,1,2)\n",
        "train.groupby('Quarter')['demand'].sum().plot(kind='bar')\n"
      ]
    },
    {
      "cell_type": "markdown",
      "id": "81814b03",
      "metadata": {
        "id": "81814b03"
      },
      "source": [
        "The car demand is high during autumn and the third quarter of the year"
      ]
    },
    {
      "cell_type": "code",
      "execution_count": 32,
      "id": "64322c71",
      "metadata": {
        "scrolled": true,
        "colab": {
          "base_uri": "https://localhost:8080/",
          "height": 840
        },
        "id": "64322c71",
        "outputId": "41419eaa-7599-4931-db2c-3cc14f7c301c"
      },
      "outputs": [
        {
          "output_type": "execute_result",
          "data": {
            "text/plain": [
              "<matplotlib.axes._subplots.AxesSubplot at 0x7fa2e258ef90>"
            ]
          },
          "metadata": {},
          "execution_count": 32
        },
        {
          "output_type": "display_data",
          "data": {
            "text/plain": [
              "<Figure size 576x1008 with 2 Axes>"
            ],
            "image/png": "[encoded data removed]"
          },
          "metadata": {
            "needs_background": "light"
          }
        }
      ],
      "source": [
        "plt.figure(figsize=(8,14))\n",
        "plt.subplot(2,1,1)\n",
        "sns.barplot(x=train['hour'], y=train['demand'])\n",
        "\n",
        "plt.subplot(2,1,2)\n",
        "sns.barplot(x=train['hour'], y=train['demand'])\n",
        "\n"
      ]
    },
    {
      "cell_type": "code",
      "execution_count": 33,
      "id": "b73be015",
      "metadata": {
        "colab": {
          "base_uri": "https://localhost:8080/",
          "height": 514
        },
        "id": "b73be015",
        "outputId": "0106923b-09e5-438a-f2a3-56bd1c077332"
      },
      "outputs": [
        {
          "output_type": "execute_result",
          "data": {
            "text/plain": [
              "<matplotlib.axes._subplots.AxesSubplot at 0x7fa2e262d510>"
            ]
          },
          "metadata": {},
          "execution_count": 33
        },
        {
          "output_type": "display_data",
          "data": {
            "text/plain": [
              "<Figure size 576x576 with 1 Axes>"
            ],
            "image/png": "[encoded data removed]"
          },
          "metadata": {
            "needs_background": "light"
          }
        }
      ],
      "source": [
        "plt.figure(figsize=(8,8))\n",
        "sns.lineplot(x='year', y='demand', data= train)"
      ]
    },
    {
      "cell_type": "markdown",
      "id": "f7735131",
      "metadata": {
        "id": "f7735131"
      },
      "source": [
        "There is an uptrend in the car demand from 2018 to 2021"
      ]
    },
    {
      "cell_type": "code",
      "execution_count": 34,
      "id": "33efdbd2",
      "metadata": {
        "colab": {
          "base_uri": "https://localhost:8080/"
        },
        "id": "33efdbd2",
        "outputId": "ca8a54c6-c510-474e-b57b-3e9f81ba1ab8"
      },
      "outputs": [
        {
          "output_type": "execute_result",
          "data": {
            "text/plain": [
              "hour         0\n",
              "demand       0\n",
              "year         0\n",
              "month        0\n",
              "day          0\n",
              "weekday      0\n",
              "isWeekend    0\n",
              "Quarter      0\n",
              "typeOfDay    0\n",
              "Season       0\n",
              "dtype: int64"
            ]
          },
          "metadata": {},
          "execution_count": 34
        }
      ],
      "source": [
        "#checking for null values\n",
        "train.isna().sum()"
      ]
    },
    {
      "cell_type": "code",
      "execution_count": 35,
      "id": "ba19e47d",
      "metadata": {
        "colab": {
          "base_uri": "https://localhost:8080/"
        },
        "id": "ba19e47d",
        "outputId": "7c818ce8-8ac2-457b-f1b0-8ca76eab8f7d"
      },
      "outputs": [
        {
          "output_type": "execute_result",
          "data": {
            "text/plain": [
              "hour         0\n",
              "year         0\n",
              "month        0\n",
              "day          0\n",
              "weekday      0\n",
              "isWeekend    0\n",
              "Quarter      0\n",
              "typeOfDay    0\n",
              "Season       0\n",
              "dtype: int64"
            ]
          },
          "metadata": {},
          "execution_count": 35
        }
      ],
      "source": [
        "test.isna().sum()"
      ]
    },
    {
      "cell_type": "code",
      "execution_count": 36,
      "id": "7ad0a44d",
      "metadata": {
        "colab": {
          "base_uri": "https://localhost:8080/",
          "height": 404
        },
        "id": "7ad0a44d",
        "outputId": "d5149ece-e574-4842-a351-8555455941e3"
      },
      "outputs": [
        {
          "output_type": "display_data",
          "data": {
            "text/plain": [
              "<Figure size 1440x432 with 8 Axes>"
            ],
            "image/png": "[encoded data removed]"
          },
          "metadata": {
            "needs_background": "light"
          }
        }
      ],
      "source": [
        "train.plot(kind='box',subplots=True,layout=(2,4),figsize=(20,6),title='Outlier Visualization')\n",
        "plt.show()"
      ]
    },
    {
      "cell_type": "code",
      "execution_count": 37,
      "id": "9c78c437",
      "metadata": {
        "colab": {
          "base_uri": "https://localhost:8080/"
        },
        "id": "9c78c437",
        "outputId": "f99598c8-e596-45fb-9ab3-a100e7f52b7a"
      },
      "outputs": [
        {
          "output_type": "execute_result",
          "data": {
            "text/plain": [
              "hour          int64\n",
              "demand        int64\n",
              "year          int64\n",
              "month         int64\n",
              "day           int64\n",
              "weekday       int64\n",
              "isWeekend     int64\n",
              "Quarter      object\n",
              "typeOfDay    object\n",
              "Season       object\n",
              "dtype: object"
            ]
          },
          "metadata": {},
          "execution_count": 37
        }
      ],
      "source": [
        "train.dtypes"
      ]
    },
    {
      "cell_type": "code",
      "execution_count": 38,
      "id": "930d20f8",
      "metadata": {
        "colab": {
          "base_uri": "https://localhost:8080/"
        },
        "id": "930d20f8",
        "outputId": "efdcd8e8-26f5-49cd-e787-42766d2088f9"
      },
      "outputs": [
        {
          "output_type": "execute_result",
          "data": {
            "text/plain": [
              "Quarter      4\n",
              "typeOfDay    4\n",
              "Season       4\n",
              "dtype: int64"
            ]
          },
          "metadata": {},
          "execution_count": 38
        }
      ],
      "source": [
        "train[['Quarter','typeOfDay','Season']].nunique()"
      ]
    },
    {
      "cell_type": "code",
      "execution_count": 39,
      "id": "2e85de53",
      "metadata": {
        "colab": {
          "base_uri": "https://localhost:8080/"
        },
        "id": "2e85de53",
        "outputId": "3c67e6ad-bb00-444d-ddab-8fc97e7ed05f"
      },
      "outputs": [
        {
          "output_type": "execute_result",
          "data": {
            "text/plain": [
              "Afternoon    5334\n",
              "Evening      5097\n",
              "Morning      5000\n",
              "Night        2816\n",
              "Name: typeOfDay, dtype: int64"
            ]
          },
          "metadata": {},
          "execution_count": 39
        }
      ],
      "source": [
        "train['typeOfDay'].value_counts()"
      ]
    },
    {
      "cell_type": "code",
      "execution_count": 40,
      "id": "c9d0f194",
      "metadata": {
        "colab": {
          "base_uri": "https://localhost:8080/"
        },
        "id": "c9d0f194",
        "outputId": "96651a3f-cbf0-45f3-f0ab-be1055bdd137"
      },
      "outputs": [
        {
          "output_type": "execute_result",
          "data": {
            "text/plain": [
              "Autumn    5238\n",
              "Winter    5183\n",
              "Spring    3925\n",
              "Summer    3901\n",
              "Name: Season, dtype: int64"
            ]
          },
          "metadata": {},
          "execution_count": 40
        }
      ],
      "source": [
        "train['Season'].value_counts()"
      ]
    },
    {
      "cell_type": "code",
      "execution_count": 41,
      "id": "ac9d4cd9",
      "metadata": {
        "id": "ac9d4cd9"
      },
      "outputs": [],
      "source": [
        "#converting categorical values into numerical values\n",
        "train['Quarter'].replace([\"Q1\", \"Q2\", \"Q3\",\"Q4\"], [1, 2, 3,4], inplace=True)\n",
        "train['typeOfDay'].replace([\"Morning\", \"Afternoon\",\"Evening\",\"Night\"], [1, 2, 3,4], inplace=True)\n",
        "train['Season'].replace([\"Winter\", \"Spring\", \"Summer\",\"Autumn\"], [1, 2, 3,4], inplace=True)\n",
        "\n",
        "test['Quarter'].replace([\"Q1\", \"Q2\", \"Q3\",\"Q4\"], [1, 2, 3,4], inplace=True)\n",
        "test['typeOfDay'].replace([\"Morning\", \"Afternoon\",\"Evening\",\"Night\"], [1, 2, 3,4], inplace=True)\n",
        "test['Season'].replace([\"Winter\", \"Spring\", \"Summer\",\"Autumn\"], [1, 2, 3,4], inplace=True)\n",
        "\n"
      ]
    },
    {
      "cell_type": "code",
      "execution_count": 42,
      "id": "8bf043fc",
      "metadata": {
        "colab": {
          "base_uri": "https://localhost:8080/",
          "height": 206
        },
        "id": "8bf043fc",
        "outputId": "d24cdfc3-d5f5-4f1a-b377-300a55bb6747"
      },
      "outputs": [
        {
          "output_type": "execute_result",
          "data": {
            "text/plain": [
              "   hour  demand  year  month  day  weekday  isWeekend  Quarter  typeOfDay  \\\n",
              "0     9      91  2018      8   18        5          1        2          1   \n",
              "1    10      21  2018      8   18        5          1        2          1   \n",
              "2    13      23  2018      8   18        5          1        2          2   \n",
              "3    14     104  2018      8   18        5          1        2          2   \n",
              "4    15      81  2018      8   18        5          1        2          2   \n",
              "\n",
              "   Season  \n",
              "0       3  \n",
              "1       3  \n",
              "2       3  \n",
              "3       3  \n",
              "4       3  "
            ],
            "text/html": [
              "\n",
              "  <div id=\"df-3d67122f-7c02-487e-88ab-637fb3069a1a\">\n",
              "    <div class=\"colab-df-container\">\n",
              "      <div>\n",
              "<style scoped>\n",
              "    .dataframe tbody tr th:only-of-type {\n",
              "        vertical-align: middle;\n",
              "    }\n",
              "\n",
              "    .dataframe tbody tr th {\n",
              "        vertical-align: top;\n",
              "    }\n",
              "\n",
              "    .dataframe thead th {\n",
              "        text-align: right;\n",
              "    }\n",
              "</style>\n",
              "<table border=\"1\" class=\"dataframe\">\n",
              "  <thead>\n",
              "    <tr style=\"text-align: right;\">\n",
              "      <th></th>\n",
              "      <th>hour</th>\n",
              "      <th>demand</th>\n",
              "      <th>year</th>\n",
              "      <th>month</th>\n",
              "      <th>day</th>\n",
              "      <th>weekday</th>\n",
              "      <th>isWeekend</th>\n",
              "      <th>Quarter</th>\n",
              "      <th>typeOfDay</th>\n",
              "      <th>Season</th>\n",
              "    </tr>\n",
              "  </thead>\n",
              "  <tbody>\n",
              "    <tr>\n",
              "      <th>0</th>\n",
              "      <td>9</td>\n",
              "      <td>91</td>\n",
              "      <td>2018</td>\n",
              "      <td>8</td>\n",
              "      <td>18</td>\n",
              "      <td>5</td>\n",
              "      <td>1</td>\n",
              "      <td>2</td>\n",
              "      <td>1</td>\n",
              "      <td>3</td>\n",
              "    </tr>\n",
              "    <tr>\n",
              "      <th>1</th>\n",
              "      <td>10</td>\n",
              "      <td>21</td>\n",
              "      <td>2018</td>\n",
              "      <td>8</td>\n",
              "      <td>18</td>\n",
              "      <td>5</td>\n",
              "      <td>1</td>\n",
              "      <td>2</td>\n",
              "      <td>1</td>\n",
              "      <td>3</td>\n",
              "    </tr>\n",
              "    <tr>\n",
              "      <th>2</th>\n",
              "      <td>13</td>\n",
              "      <td>23</td>\n",
              "      <td>2018</td>\n",
              "      <td>8</td>\n",
              "      <td>18</td>\n",
              "      <td>5</td>\n",
              "      <td>1</td>\n",
              "      <td>2</td>\n",
              "      <td>2</td>\n",
              "      <td>3</td>\n",
              "    </tr>\n",
              "    <tr>\n",
              "      <th>3</th>\n",
              "      <td>14</td>\n",
              "      <td>104</td>\n",
              "      <td>2018</td>\n",
              "      <td>8</td>\n",
              "      <td>18</td>\n",
              "      <td>5</td>\n",
              "      <td>1</td>\n",
              "      <td>2</td>\n",
              "      <td>2</td>\n",
              "      <td>3</td>\n",
              "    </tr>\n",
              "    <tr>\n",
              "      <th>4</th>\n",
              "      <td>15</td>\n",
              "      <td>81</td>\n",
              "      <td>2018</td>\n",
              "      <td>8</td>\n",
              "      <td>18</td>\n",
              "      <td>5</td>\n",
              "      <td>1</td>\n",
              "      <td>2</td>\n",
              "      <td>2</td>\n",
              "      <td>3</td>\n",
              "    </tr>\n",
              "  </tbody>\n",
              "</table>\n",
              "</div>\n",
              "      <button class=\"colab-df-convert\" onclick=\"convertToInteractive('df-3d67122f-7c02-487e-88ab-637fb3069a1a')\"\n",
              "              title=\"Convert this dataframe to an interactive table.\"\n",
              "              style=\"display:none;\">\n",
              "        \n",
              "  <svg xmlns=\"http://www.w3.org/2000/svg\" height=\"24px\"viewBox=\"0 0 24 24\"\n",
              "       width=\"24px\">\n",
              "    <path d=\"M0 0h24v24H0V0z\" fill=\"none\"/>\n",
              "    <path d=\"M18.56 5.44l.94 2.06.94-2.06 2.06-.94-2.06-.94-.94-2.06-.94 2.06-2.06.94zm-11 1L8.5 8.5l.94-2.06 2.06-.94-2.06-.94L8.5 2.5l-.94 2.06-2.06.94zm10 10l.94 2.06.94-2.06 2.06-.94-2.06-.94-.94-2.06-.94 2.06-2.06.94z\"/><path d=\"M17.41 7.96l-1.37-1.37c-.4-.4-.92-.59-1.43-.59-.52 0-1.04.2-1.43.59L10.3 9.45l-7.72 7.72c-.78.78-.78 2.05 0 2.83L4 21.41c.39.39.9.59 1.41.59.51 0 1.02-.2 1.41-.59l7.78-7.78 2.81-2.81c.8-.78.8-2.07 0-2.86zM5.41 20L4 18.59l7.72-7.72 1.47 1.35L5.41 20z\"/>\n",
              "  </svg>\n",
              "      </button>\n",
              "      \n",
              "  <style>\n",
              "    .colab-df-container {\n",
              "      display:flex;\n",
              "      flex-wrap:wrap;\n",
              "      gap: 12px;\n",
              "    }\n",
              "\n",
              "    .colab-df-convert {\n",
              "      background-color: #E8F0FE;\n",
              "      border: none;\n",
              "      border-radius: 50%;\n",
              "      cursor: pointer;\n",
              "      display: none;\n",
              "      fill: #1967D2;\n",
              "      height: 32px;\n",
              "      padding: 0 0 0 0;\n",
              "      width: 32px;\n",
              "    }\n",
              "\n",
              "    .colab-df-convert:hover {\n",
              "      background-color: #E2EBFA;\n",
              "      box-shadow: 0px 1px 2px rgba(60, 64, 67, 0.3), 0px 1px 3px 1px rgba(60, 64, 67, 0.15);\n",
              "      fill: #174EA6;\n",
              "    }\n",
              "\n",
              "    [theme=dark] .colab-df-convert {\n",
              "      background-color: #3B4455;\n",
              "      fill: #D2E3FC;\n",
              "    }\n",
              "\n",
              "    [theme=dark] .colab-df-convert:hover {\n",
              "      background-color: #434B5C;\n",
              "      box-shadow: 0px 1px 3px 1px rgba(0, 0, 0, 0.15);\n",
              "      filter: drop-shadow(0px 1px 2px rgba(0, 0, 0, 0.3));\n",
              "      fill: #FFFFFF;\n",
              "    }\n",
              "  </style>\n",
              "\n",
              "      <script>\n",
              "        const buttonEl =\n",
              "          document.querySelector('#df-3d67122f-7c02-487e-88ab-637fb3069a1a button.colab-df-convert');\n",
              "        buttonEl.style.display =\n",
              "          google.colab.kernel.accessAllowed ? 'block' : 'none';\n",
              "\n",
              "        async function convertToInteractive(key) {\n",
              "          const element = document.querySelector('#df-3d67122f-7c02-487e-88ab-637fb3069a1a');\n",
              "          const dataTable =\n",
              "            await google.colab.kernel.invokeFunction('convertToInteractive',\n",
              "                                                     [key], {});\n",
              "          if (!dataTable) return;\n",
              "\n",
              "          const docLinkHtml = 'Like what you see? Visit the ' +\n",
              "            '<a target=\"_blank\" href=https://colab.research.google.com/notebooks/data_table.ipynb>data table notebook</a>'\n",
              "            + ' to learn more about interactive tables.';\n",
              "          element.innerHTML = '';\n",
              "          dataTable['output_type'] = 'display_data';\n",
              "          await google.colab.output.renderOutput(dataTable, element);\n",
              "          const docLink = document.createElement('div');\n",
              "          docLink.innerHTML = docLinkHtml;\n",
              "          element.appendChild(docLink);\n",
              "        }\n",
              "      </script>\n",
              "    </div>\n",
              "  </div>\n",
              "  "
            ]
          },
          "metadata": {},
          "execution_count": 42
        }
      ],
      "source": [
        "train.head()"
      ]
    },
    {
      "cell_type": "code",
      "execution_count": 43,
      "id": "58735814",
      "metadata": {
        "colab": {
          "base_uri": "https://localhost:8080/",
          "height": 721
        },
        "id": "58735814",
        "outputId": "b32d728a-2317-435a-85cc-b0e962ee6591"
      },
      "outputs": [
        {
          "output_type": "execute_result",
          "data": {
            "text/plain": [
              "<matplotlib.axes._subplots.AxesSubplot at 0x7fa2e85920d0>"
            ]
          },
          "metadata": {},
          "execution_count": 43
        },
        {
          "output_type": "display_data",
          "data": {
            "text/plain": [
              "<Figure size 864x864 with 2 Axes>"
            ],
            "image/png": "[encoded data removed]"
          },
          "metadata": {
            "needs_background": "light"
          }
        }
      ],
      "source": [
        "correlation = train.corr()\n",
        "plt.figure(figsize=(12,12))\n",
        "sns.heatmap(correlation, annot=True, vmin=-0.49, vmax= 1,linewidths=0.2)"
      ]
    },
    {
      "cell_type": "code",
      "execution_count": 44,
      "id": "02648c23",
      "metadata": {
        "id": "02648c23"
      },
      "outputs": [],
      "source": [
        "#encoding the cyclic features\n",
        "train['hour_sin'] = np.sin(train['hour']*(2.*np.pi/23))\n",
        "train['hour_cos'] = np.cos(train['hour']*(2.*np.pi/23))\n",
        "train['month_sin'] = np.sin(train['month']*(2.*np.pi/12))\n",
        "train['month_cos'] = np.cos(train['month']*(2.*np.pi/12))\n",
        "train['weekday'] = np.sin(train['weekday']*(2.*np.pi/6))\n",
        "train['weekday'] = np.cos(train['weekday']*(2.*np.pi/6))\n",
        "\n",
        "test['hour_sin'] = np.sin(test['hour']*(2.*np.pi/23))\n",
        "test['hour_cos'] = np.cos(test['hour']*(2.*np.pi/23))\n",
        "test['month_sin'] = np.sin(test['month']*(2.*np.pi/12))\n",
        "test['month_cos'] = np.cos(test['month']*(2.*np.pi/12))\n",
        "test['weekday'] = np.sin(test['weekday']*(2.*np.pi/6))\n",
        "test['weekday'] = np.cos(test['weekday']*(2.*np.pi/6))"
      ]
    },
    {
      "cell_type": "code",
      "execution_count": 45,
      "id": "c7d523fb",
      "metadata": {
        "id": "c7d523fb"
      },
      "outputs": [],
      "source": [
        "train=train.drop(['hour','month','weekday'],axis=1)\n",
        "test=test.drop(['hour','month','weekday'],axis=1)"
      ]
    },
    {
      "cell_type": "code",
      "execution_count": 46,
      "id": "e1486417",
      "metadata": {
        "colab": {
          "base_uri": "https://localhost:8080/"
        },
        "id": "e1486417",
        "outputId": "2e79e698-a533-4704-9217-fb3ba84f6d5a"
      },
      "outputs": [
        {
          "output_type": "execute_result",
          "data": {
            "text/plain": [
              "Index(['demand', 'year', 'day', 'isWeekend', 'Quarter', 'typeOfDay', 'Season',\n",
              "       'hour_sin', 'hour_cos', 'month_sin', 'month_cos'],\n",
              "      dtype='object')"
            ]
          },
          "metadata": {},
          "execution_count": 46
        }
      ],
      "source": [
        "train.columns"
      ]
    },
    {
      "cell_type": "code",
      "execution_count": 47,
      "id": "aff07f77",
      "metadata": {
        "colab": {
          "base_uri": "https://localhost:8080/"
        },
        "id": "aff07f77",
        "outputId": "20a9f90e-a073-45cd-d41c-58992983a2cf"
      },
      "outputs": [
        {
          "output_type": "execute_result",
          "data": {
            "text/plain": [
              "Index(['year', 'day', 'isWeekend', 'Quarter', 'typeOfDay', 'Season',\n",
              "       'hour_sin', 'hour_cos', 'month_sin', 'month_cos'],\n",
              "      dtype='object')"
            ]
          },
          "metadata": {},
          "execution_count": 47
        }
      ],
      "source": [
        "test.columns"
      ]
    },
    {
      "cell_type": "code",
      "execution_count": 48,
      "id": "01e7f5da",
      "metadata": {
        "id": "01e7f5da"
      },
      "outputs": [],
      "source": [
        "#Splitting the dataset into X and Y\n",
        "y = train['demand']\n",
        "X = train.drop('demand',axis=1).copy()"
      ]
    },
    {
      "cell_type": "code",
      "execution_count": 49,
      "id": "720336c5",
      "metadata": {
        "colab": {
          "base_uri": "https://localhost:8080/",
          "height": 344
        },
        "id": "720336c5",
        "outputId": "06833409-d4ff-41d9-b149-01a2e6b50f5a"
      },
      "outputs": [
        {
          "output_type": "execute_result",
          "data": {
            "text/plain": [
              "               year           day     isWeekend       Quarter     typeOfDay  \\\n",
              "count  18247.000000  18247.000000  18247.000000  18247.000000  18247.000000   \n",
              "mean    2019.396997     15.782430      0.290788      2.626898      2.313969   \n",
              "std        0.810979      8.772904      0.454138      1.104481      1.035442   \n",
              "min     2018.000000      1.000000      0.000000      1.000000      1.000000   \n",
              "25%     2019.000000      8.000000      0.000000      2.000000      1.000000   \n",
              "50%     2019.000000     16.000000      0.000000      3.000000      2.000000   \n",
              "75%     2020.000000     23.000000      1.000000      4.000000      3.000000   \n",
              "max     2021.000000     31.000000      1.000000      4.000000      4.000000   \n",
              "\n",
              "             Season      hour_sin      hour_cos     month_sin     month_cos  \n",
              "count  18247.000000  18247.000000  18247.000000  1.824700e+04  1.824700e+04  \n",
              "mean       2.503864     -0.108939     -0.042373 -1.339525e-02  9.253697e-02  \n",
              "std        1.179948      0.672928      0.730451  7.118374e-01  6.961317e-01  \n",
              "min        1.000000     -0.997669     -0.990686 -1.000000e+00 -1.000000e+00  \n",
              "25%        1.000000     -0.730836     -0.775711 -8.660254e-01 -5.000000e-01  \n",
              "50%        3.000000     -0.136167     -0.068242 -2.449294e-16  6.123234e-17  \n",
              "75%        4.000000      0.519584      0.682553  5.000000e-01  8.660254e-01  \n",
              "max        4.000000      0.997669      1.000000  1.000000e+00  1.000000e+00  "
            ],
            "text/html": [
              "\n",
              "  <div id=\"df-9a454060-c6f3-40e4-8cbc-845ad8be8447\">\n",
              "    <div class=\"colab-df-container\">\n",
              "      <div>\n",
              "<style scoped>\n",
              "    .dataframe tbody tr th:only-of-type {\n",
              "        vertical-align: middle;\n",
              "    }\n",
              "\n",
              "    .dataframe tbody tr th {\n",
              "        vertical-align: top;\n",
              "    }\n",
              "\n",
              "    .dataframe thead th {\n",
              "        text-align: right;\n",
              "    }\n",
              "</style>\n",
              "<table border=\"1\" class=\"dataframe\">\n",
              "  <thead>\n",
              "    <tr style=\"text-align: right;\">\n",
              "      <th></th>\n",
              "      <th>year</th>\n",
              "      <th>day</th>\n",
              "      <th>isWeekend</th>\n",
              "      <th>Quarter</th>\n",
              "      <th>typeOfDay</th>\n",
              "      <th>Season</th>\n",
              "      <th>hour_sin</th>\n",
              "      <th>hour_cos</th>\n",
              "      <th>month_sin</th>\n",
              "      <th>month_cos</th>\n",
              "    </tr>\n",
              "  </thead>\n",
              "  <tbody>\n",
              "    <tr>\n",
              "      <th>count</th>\n",
              "      <td>18247.000000</td>\n",
              "      <td>18247.000000</td>\n",
              "      <td>18247.000000</td>\n",
              "      <td>18247.000000</td>\n",
              "      <td>18247.000000</td>\n",
              "      <td>18247.000000</td>\n",
              "      <td>18247.000000</td>\n",
              "      <td>18247.000000</td>\n",
              "      <td>1.824700e+04</td>\n",
              "      <td>1.824700e+04</td>\n",
              "    </tr>\n",
              "    <tr>\n",
              "      <th>mean</th>\n",
              "      <td>2019.396997</td>\n",
              "      <td>15.782430</td>\n",
              "      <td>0.290788</td>\n",
              "      <td>2.626898</td>\n",
              "      <td>2.313969</td>\n",
              "      <td>2.503864</td>\n",
              "      <td>-0.108939</td>\n",
              "      <td>-0.042373</td>\n",
              "      <td>-1.339525e-02</td>\n",
              "      <td>9.253697e-02</td>\n",
              "    </tr>\n",
              "    <tr>\n",
              "      <th>std</th>\n",
              "      <td>0.810979</td>\n",
              "      <td>8.772904</td>\n",
              "      <td>0.454138</td>\n",
              "      <td>1.104481</td>\n",
              "      <td>1.035442</td>\n",
              "      <td>1.179948</td>\n",
              "      <td>0.672928</td>\n",
              "      <td>0.730451</td>\n",
              "      <td>7.118374e-01</td>\n",
              "      <td>6.961317e-01</td>\n",
              "    </tr>\n",
              "    <tr>\n",
              "      <th>min</th>\n",
              "      <td>2018.000000</td>\n",
              "      <td>1.000000</td>\n",
              "      <td>0.000000</td>\n",
              "      <td>1.000000</td>\n",
              "      <td>1.000000</td>\n",
              "      <td>1.000000</td>\n",
              "      <td>-0.997669</td>\n",
              "      <td>-0.990686</td>\n",
              "      <td>-1.000000e+00</td>\n",
              "      <td>-1.000000e+00</td>\n",
              "    </tr>\n",
              "    <tr>\n",
              "      <th>25%</th>\n",
              "      <td>2019.000000</td>\n",
              "      <td>8.000000</td>\n",
              "      <td>0.000000</td>\n",
              "      <td>2.000000</td>\n",
              "      <td>1.000000</td>\n",
              "      <td>1.000000</td>\n",
              "      <td>-0.730836</td>\n",
              "      <td>-0.775711</td>\n",
              "      <td>-8.660254e-01</td>\n",
              "      <td>-5.000000e-01</td>\n",
              "    </tr>\n",
              "    <tr>\n",
              "      <th>50%</th>\n",
              "      <td>2019.000000</td>\n",
              "      <td>16.000000</td>\n",
              "      <td>0.000000</td>\n",
              "      <td>3.000000</td>\n",
              "      <td>2.000000</td>\n",
              "      <td>3.000000</td>\n",
              "      <td>-0.136167</td>\n",
              "      <td>-0.068242</td>\n",
              "      <td>-2.449294e-16</td>\n",
              "      <td>6.123234e-17</td>\n",
              "    </tr>\n",
              "    <tr>\n",
              "      <th>75%</th>\n",
              "      <td>2020.000000</td>\n",
              "      <td>23.000000</td>\n",
              "      <td>1.000000</td>\n",
              "      <td>4.000000</td>\n",
              "      <td>3.000000</td>\n",
              "      <td>4.000000</td>\n",
              "      <td>0.519584</td>\n",
              "      <td>0.682553</td>\n",
              "      <td>5.000000e-01</td>\n",
              "      <td>8.660254e-01</td>\n",
              "    </tr>\n",
              "    <tr>\n",
              "      <th>max</th>\n",
              "      <td>2021.000000</td>\n",
              "      <td>31.000000</td>\n",
              "      <td>1.000000</td>\n",
              "      <td>4.000000</td>\n",
              "      <td>4.000000</td>\n",
              "      <td>4.000000</td>\n",
              "      <td>0.997669</td>\n",
              "      <td>1.000000</td>\n",
              "      <td>1.000000e+00</td>\n",
              "      <td>1.000000e+00</td>\n",
              "    </tr>\n",
              "  </tbody>\n",
              "</table>\n",
              "</div>\n",
              "      <button class=\"colab-df-convert\" onclick=\"convertToInteractive('df-9a454060-c6f3-40e4-8cbc-845ad8be8447')\"\n",
              "              title=\"Convert this dataframe to an interactive table.\"\n",
              "              style=\"display:none;\">\n",
              "        \n",
              "  <svg xmlns=\"http://www.w3.org/2000/svg\" height=\"24px\"viewBox=\"0 0 24 24\"\n",
              "       width=\"24px\">\n",
              "    <path d=\"M0 0h24v24H0V0z\" fill=\"none\"/>\n",
              "    <path d=\"M18.56 5.44l.94 2.06.94-2.06 2.06-.94-2.06-.94-.94-2.06-.94 2.06-2.06.94zm-11 1L8.5 8.5l.94-2.06 2.06-.94-2.06-.94L8.5 2.5l-.94 2.06-2.06.94zm10 10l.94 2.06.94-2.06 2.06-.94-2.06-.94-.94-2.06-.94 2.06-2.06.94z\"/><path d=\"M17.41 7.96l-1.37-1.37c-.4-.4-.92-.59-1.43-.59-.52 0-1.04.2-1.43.59L10.3 9.45l-7.72 7.72c-.78.78-.78 2.05 0 2.83L4 21.41c.39.39.9.59 1.41.59.51 0 1.02-.2 1.41-.59l7.78-7.78 2.81-2.81c.8-.78.8-2.07 0-2.86zM5.41 20L4 18.59l7.72-7.72 1.47 1.35L5.41 20z\"/>\n",
              "  </svg>\n",
              "      </button>\n",
              "      \n",
              "  <style>\n",
              "    .colab-df-container {\n",
              "      display:flex;\n",
              "      flex-wrap:wrap;\n",
              "      gap: 12px;\n",
              "    }\n",
              "\n",
              "    .colab-df-convert {\n",
              "      background-color: #E8F0FE;\n",
              "      border: none;\n",
              "      border-radius: 50%;\n",
              "      cursor: pointer;\n",
              "      display: none;\n",
              "      fill: #1967D2;\n",
              "      height: 32px;\n",
              "      padding: 0 0 0 0;\n",
              "      width: 32px;\n",
              "    }\n",
              "\n",
              "    .colab-df-convert:hover {\n",
              "      background-color: #E2EBFA;\n",
              "      box-shadow: 0px 1px 2px rgba(60, 64, 67, 0.3), 0px 1px 3px 1px rgba(60, 64, 67, 0.15);\n",
              "      fill: #174EA6;\n",
              "    }\n",
              "\n",
              "    [theme=dark] .colab-df-convert {\n",
              "      background-color: #3B4455;\n",
              "      fill: #D2E3FC;\n",
              "    }\n",
              "\n",
              "    [theme=dark] .colab-df-convert:hover {\n",
              "      background-color: #434B5C;\n",
              "      box-shadow: 0px 1px 3px 1px rgba(0, 0, 0, 0.15);\n",
              "      filter: drop-shadow(0px 1px 2px rgba(0, 0, 0, 0.3));\n",
              "      fill: #FFFFFF;\n",
              "    }\n",
              "  </style>\n",
              "\n",
              "      <script>\n",
              "        const buttonEl =\n",
              "          document.querySelector('#df-9a454060-c6f3-40e4-8cbc-845ad8be8447 button.colab-df-convert');\n",
              "        buttonEl.style.display =\n",
              "          google.colab.kernel.accessAllowed ? 'block' : 'none';\n",
              "\n",
              "        async function convertToInteractive(key) {\n",
              "          const element = document.querySelector('#df-9a454060-c6f3-40e4-8cbc-845ad8be8447');\n",
              "          const dataTable =\n",
              "            await google.colab.kernel.invokeFunction('convertToInteractive',\n",
              "                                                     [key], {});\n",
              "          if (!dataTable) return;\n",
              "\n",
              "          const docLinkHtml = 'Like what you see? Visit the ' +\n",
              "            '<a target=\"_blank\" href=https://colab.research.google.com/notebooks/data_table.ipynb>data table notebook</a>'\n",
              "            + ' to learn more about interactive tables.';\n",
              "          element.innerHTML = '';\n",
              "          dataTable['output_type'] = 'display_data';\n",
              "          await google.colab.output.renderOutput(dataTable, element);\n",
              "          const docLink = document.createElement('div');\n",
              "          docLink.innerHTML = docLinkHtml;\n",
              "          element.appendChild(docLink);\n",
              "        }\n",
              "      </script>\n",
              "    </div>\n",
              "  </div>\n",
              "  "
            ]
          },
          "metadata": {},
          "execution_count": 49
        }
      ],
      "source": [
        "X.describe()"
      ]
    },
    {
      "cell_type": "code",
      "execution_count": 50,
      "id": "bc0d75c1",
      "metadata": {
        "colab": {
          "base_uri": "https://localhost:8080/",
          "height": 363
        },
        "id": "bc0d75c1",
        "outputId": "b3ac43a2-8765-4552-f5df-e52c727a35dd"
      },
      "outputs": [
        {
          "output_type": "execute_result",
          "data": {
            "text/plain": [
              "         VIF    Columns\n",
              "0  54.022332       year\n",
              "3  21.518404    Quarter\n",
              "4  19.487501  typeOfDay\n",
              "5  17.885002     Season\n",
              "1   4.249825        day\n",
              "8   3.295041  month_sin\n",
              "9   3.144664  month_cos\n",
              "7   3.105857   hour_cos\n",
              "2   1.416713  isWeekend\n",
              "6   1.119151   hour_sin"
            ],
            "text/html": [
              "\n",
              "  <div id=\"df-9be6fe51-60d6-4012-9c53-9b3c47aacddb\">\n",
              "    <div class=\"colab-df-container\">\n",
              "      <div>\n",
              "<style scoped>\n",
              "    .dataframe tbody tr th:only-of-type {\n",
              "        vertical-align: middle;\n",
              "    }\n",
              "\n",
              "    .dataframe tbody tr th {\n",
              "        vertical-align: top;\n",
              "    }\n",
              "\n",
              "    .dataframe thead th {\n",
              "        text-align: right;\n",
              "    }\n",
              "</style>\n",
              "<table border=\"1\" class=\"dataframe\">\n",
              "  <thead>\n",
              "    <tr style=\"text-align: right;\">\n",
              "      <th></th>\n",
              "      <th>VIF</th>\n",
              "      <th>Columns</th>\n",
              "    </tr>\n",
              "  </thead>\n",
              "  <tbody>\n",
              "    <tr>\n",
              "      <th>0</th>\n",
              "      <td>54.022332</td>\n",
              "      <td>year</td>\n",
              "    </tr>\n",
              "    <tr>\n",
              "      <th>3</th>\n",
              "      <td>21.518404</td>\n",
              "      <td>Quarter</td>\n",
              "    </tr>\n",
              "    <tr>\n",
              "      <th>4</th>\n",
              "      <td>19.487501</td>\n",
              "      <td>typeOfDay</td>\n",
              "    </tr>\n",
              "    <tr>\n",
              "      <th>5</th>\n",
              "      <td>17.885002</td>\n",
              "      <td>Season</td>\n",
              "    </tr>\n",
              "    <tr>\n",
              "      <th>1</th>\n",
              "      <td>4.249825</td>\n",
              "      <td>day</td>\n",
              "    </tr>\n",
              "    <tr>\n",
              "      <th>8</th>\n",
              "      <td>3.295041</td>\n",
              "      <td>month_sin</td>\n",
              "    </tr>\n",
              "    <tr>\n",
              "      <th>9</th>\n",
              "      <td>3.144664</td>\n",
              "      <td>month_cos</td>\n",
              "    </tr>\n",
              "    <tr>\n",
              "      <th>7</th>\n",
              "      <td>3.105857</td>\n",
              "      <td>hour_cos</td>\n",
              "    </tr>\n",
              "    <tr>\n",
              "      <th>2</th>\n",
              "      <td>1.416713</td>\n",
              "      <td>isWeekend</td>\n",
              "    </tr>\n",
              "    <tr>\n",
              "      <th>6</th>\n",
              "      <td>1.119151</td>\n",
              "      <td>hour_sin</td>\n",
              "    </tr>\n",
              "  </tbody>\n",
              "</table>\n",
              "</div>\n",
              "      <button class=\"colab-df-convert\" onclick=\"convertToInteractive('df-9be6fe51-60d6-4012-9c53-9b3c47aacddb')\"\n",
              "              title=\"Convert this dataframe to an interactive table.\"\n",
              "              style=\"display:none;\">\n",
              "        \n",
              "  <svg xmlns=\"http://www.w3.org/2000/svg\" height=\"24px\"viewBox=\"0 0 24 24\"\n",
              "       width=\"24px\">\n",
              "    <path d=\"M0 0h24v24H0V0z\" fill=\"none\"/>\n",
              "    <path d=\"M18.56 5.44l.94 2.06.94-2.06 2.06-.94-2.06-.94-.94-2.06-.94 2.06-2.06.94zm-11 1L8.5 8.5l.94-2.06 2.06-.94-2.06-.94L8.5 2.5l-.94 2.06-2.06.94zm10 10l.94 2.06.94-2.06 2.06-.94-2.06-.94-.94-2.06-.94 2.06-2.06.94z\"/><path d=\"M17.41 7.96l-1.37-1.37c-.4-.4-.92-.59-1.43-.59-.52 0-1.04.2-1.43.59L10.3 9.45l-7.72 7.72c-.78.78-.78 2.05 0 2.83L4 21.41c.39.39.9.59 1.41.59.51 0 1.02-.2 1.41-.59l7.78-7.78 2.81-2.81c.8-.78.8-2.07 0-2.86zM5.41 20L4 18.59l7.72-7.72 1.47 1.35L5.41 20z\"/>\n",
              "  </svg>\n",
              "      </button>\n",
              "      \n",
              "  <style>\n",
              "    .colab-df-container {\n",
              "      display:flex;\n",
              "      flex-wrap:wrap;\n",
              "      gap: 12px;\n",
              "    }\n",
              "\n",
              "    .colab-df-convert {\n",
              "      background-color: #E8F0FE;\n",
              "      border: none;\n",
              "      border-radius: 50%;\n",
              "      cursor: pointer;\n",
              "      display: none;\n",
              "      fill: #1967D2;\n",
              "      height: 32px;\n",
              "      padding: 0 0 0 0;\n",
              "      width: 32px;\n",
              "    }\n",
              "\n",
              "    .colab-df-convert:hover {\n",
              "      background-color: #E2EBFA;\n",
              "      box-shadow: 0px 1px 2px rgba(60, 64, 67, 0.3), 0px 1px 3px 1px rgba(60, 64, 67, 0.15);\n",
              "      fill: #174EA6;\n",
              "    }\n",
              "\n",
              "    [theme=dark] .colab-df-convert {\n",
              "      background-color: #3B4455;\n",
              "      fill: #D2E3FC;\n",
              "    }\n",
              "\n",
              "    [theme=dark] .colab-df-convert:hover {\n",
              "      background-color: #434B5C;\n",
              "      box-shadow: 0px 1px 3px 1px rgba(0, 0, 0, 0.15);\n",
              "      filter: drop-shadow(0px 1px 2px rgba(0, 0, 0, 0.3));\n",
              "      fill: #FFFFFF;\n",
              "    }\n",
              "  </style>\n",
              "\n",
              "      <script>\n",
              "        const buttonEl =\n",
              "          document.querySelector('#df-9be6fe51-60d6-4012-9c53-9b3c47aacddb button.colab-df-convert');\n",
              "        buttonEl.style.display =\n",
              "          google.colab.kernel.accessAllowed ? 'block' : 'none';\n",
              "\n",
              "        async function convertToInteractive(key) {\n",
              "          const element = document.querySelector('#df-9be6fe51-60d6-4012-9c53-9b3c47aacddb');\n",
              "          const dataTable =\n",
              "            await google.colab.kernel.invokeFunction('convertToInteractive',\n",
              "                                                     [key], {});\n",
              "          if (!dataTable) return;\n",
              "\n",
              "          const docLinkHtml = 'Like what you see? Visit the ' +\n",
              "            '<a target=\"_blank\" href=https://colab.research.google.com/notebooks/data_table.ipynb>data table notebook</a>'\n",
              "            + ' to learn more about interactive tables.';\n",
              "          element.innerHTML = '';\n",
              "          dataTable['output_type'] = 'display_data';\n",
              "          await google.colab.output.renderOutput(dataTable, element);\n",
              "          const docLink = document.createElement('div');\n",
              "          docLink.innerHTML = docLinkHtml;\n",
              "          element.appendChild(docLink);\n",
              "        }\n",
              "      </script>\n",
              "    </div>\n",
              "  </div>\n",
              "  "
            ]
          },
          "metadata": {},
          "execution_count": 50
        }
      ],
      "source": [
        "#Checking the Variation Inflation Factor\n",
        "from statsmodels.stats.outliers_influence import variance_inflation_factor\n",
        "\n",
        "vif = pd.DataFrame()\n",
        "vif['VIF'] = [variance_inflation_factor(X.values,i) for i in range(X.shape[1])]\n",
        "vif['Columns'] = X.columns\n",
        "vif.sort_values('VIF', ascending = False)"
      ]
    },
    {
      "cell_type": "code",
      "execution_count": 51,
      "id": "17a34c01",
      "metadata": {
        "colab": {
          "base_uri": "https://localhost:8080/",
          "height": 394
        },
        "id": "17a34c01",
        "outputId": "372dceca-baf3-444b-c12e-499f8fd0607e"
      },
      "outputs": [
        {
          "output_type": "execute_result",
          "data": {
            "text/plain": [
              "             demand      year       day  isWeekend   Quarter  typeOfDay  \\\n",
              "demand     1.000000  0.041879 -0.033689   0.150777  0.034120  -0.106815   \n",
              "year       0.041879  1.000000 -0.028902  -0.003789  0.127072   0.050883   \n",
              "day       -0.033689 -0.028902  1.000000  -0.010270 -0.008005  -0.001783   \n",
              "isWeekend  0.150777 -0.003789 -0.010270   1.000000  0.008051   0.059334   \n",
              "Quarter    0.034120  0.127072 -0.008005   0.008051  1.000000   0.010376   \n",
              "typeOfDay -0.106815  0.050883 -0.001783   0.059334  0.010376   1.000000   \n",
              "Season     0.021441 -0.281274 -0.012409  -0.009052 -0.367837  -0.025239   \n",
              "hour_sin  -0.272347  0.044539 -0.003283   0.002986  0.008813  -0.231905   \n",
              "hour_cos  -0.204870  0.036340 -0.002840   0.034877  0.012877   0.816784   \n",
              "month_sin  0.016366  0.324273 -0.019496   0.010517  0.261089   0.034032   \n",
              "month_cos  0.080105 -0.083389 -0.002487   0.004157  0.791619   0.003436   \n",
              "\n",
              "             Season  hour_sin  hour_cos  month_sin  month_cos  \n",
              "demand     0.021441 -0.272347 -0.204870   0.016366   0.080105  \n",
              "year      -0.281274  0.044539  0.036340   0.324273  -0.083389  \n",
              "day       -0.012409 -0.003283 -0.002840  -0.019496  -0.002487  \n",
              "isWeekend -0.009052  0.002986  0.034877   0.010517   0.004157  \n",
              "Quarter   -0.367837  0.008813  0.012877   0.261089   0.791619  \n",
              "typeOfDay -0.025239 -0.231905  0.816784   0.034032   0.003436  \n",
              "Season     1.000000 -0.021463 -0.029153  -0.810523  -0.194390  \n",
              "hour_sin  -0.021463  1.000000 -0.094751   0.035492   0.003813  \n",
              "hour_cos  -0.029153 -0.094751  1.000000   0.037766   0.008847  \n",
              "month_sin -0.810523  0.035492  0.037766   1.000000   0.011840  \n",
              "month_cos -0.194390  0.003813  0.008847   0.011840   1.000000  "
            ],
            "text/html": [
              "\n",
              "  <div id=\"df-959b381f-68f5-4b67-bc70-09dfd2336960\">\n",
              "    <div class=\"colab-df-container\">\n",
              "      <div>\n",
              "<style scoped>\n",
              "    .dataframe tbody tr th:only-of-type {\n",
              "        vertical-align: middle;\n",
              "    }\n",
              "\n",
              "    .dataframe tbody tr th {\n",
              "        vertical-align: top;\n",
              "    }\n",
              "\n",
              "    .dataframe thead th {\n",
              "        text-align: right;\n",
              "    }\n",
              "</style>\n",
              "<table border=\"1\" class=\"dataframe\">\n",
              "  <thead>\n",
              "    <tr style=\"text-align: right;\">\n",
              "      <th></th>\n",
              "      <th>demand</th>\n",
              "      <th>year</th>\n",
              "      <th>day</th>\n",
              "      <th>isWeekend</th>\n",
              "      <th>Quarter</th>\n",
              "      <th>typeOfDay</th>\n",
              "      <th>Season</th>\n",
              "      <th>hour_sin</th>\n",
              "      <th>hour_cos</th>\n",
              "      <th>month_sin</th>\n",
              "      <th>month_cos</th>\n",
              "    </tr>\n",
              "  </thead>\n",
              "  <tbody>\n",
              "    <tr>\n",
              "      <th>demand</th>\n",
              "      <td>1.000000</td>\n",
              "      <td>0.041879</td>\n",
              "      <td>-0.033689</td>\n",
              "      <td>0.150777</td>\n",
              "      <td>0.034120</td>\n",
              "      <td>-0.106815</td>\n",
              "      <td>0.021441</td>\n",
              "      <td>-0.272347</td>\n",
              "      <td>-0.204870</td>\n",
              "      <td>0.016366</td>\n",
              "      <td>0.080105</td>\n",
              "    </tr>\n",
              "    <tr>\n",
              "      <th>year</th>\n",
              "      <td>0.041879</td>\n",
              "      <td>1.000000</td>\n",
              "      <td>-0.028902</td>\n",
              "      <td>-0.003789</td>\n",
              "      <td>0.127072</td>\n",
              "      <td>0.050883</td>\n",
              "      <td>-0.281274</td>\n",
              "      <td>0.044539</td>\n",
              "      <td>0.036340</td>\n",
              "      <td>0.324273</td>\n",
              "      <td>-0.083389</td>\n",
              "    </tr>\n",
              "    <tr>\n",
              "      <th>day</th>\n",
              "      <td>-0.033689</td>\n",
              "      <td>-0.028902</td>\n",
              "      <td>1.000000</td>\n",
              "      <td>-0.010270</td>\n",
              "      <td>-0.008005</td>\n",
              "      <td>-0.001783</td>\n",
              "      <td>-0.012409</td>\n",
              "      <td>-0.003283</td>\n",
              "      <td>-0.002840</td>\n",
              "      <td>-0.019496</td>\n",
              "      <td>-0.002487</td>\n",
              "    </tr>\n",
              "    <tr>\n",
              "      <th>isWeekend</th>\n",
              "      <td>0.150777</td>\n",
              "      <td>-0.003789</td>\n",
              "      <td>-0.010270</td>\n",
              "      <td>1.000000</td>\n",
              "      <td>0.008051</td>\n",
              "      <td>0.059334</td>\n",
              "      <td>-0.009052</td>\n",
              "      <td>0.002986</td>\n",
              "      <td>0.034877</td>\n",
              "      <td>0.010517</td>\n",
              "      <td>0.004157</td>\n",
              "    </tr>\n",
              "    <tr>\n",
              "      <th>Quarter</th>\n",
              "      <td>0.034120</td>\n",
              "      <td>0.127072</td>\n",
              "      <td>-0.008005</td>\n",
              "      <td>0.008051</td>\n",
              "      <td>1.000000</td>\n",
              "      <td>0.010376</td>\n",
              "      <td>-0.367837</td>\n",
              "      <td>0.008813</td>\n",
              "      <td>0.012877</td>\n",
              "      <td>0.261089</td>\n",
              "      <td>0.791619</td>\n",
              "    </tr>\n",
              "    <tr>\n",
              "      <th>typeOfDay</th>\n",
              "      <td>-0.106815</td>\n",
              "      <td>0.050883</td>\n",
              "      <td>-0.001783</td>\n",
              "      <td>0.059334</td>\n",
              "      <td>0.010376</td>\n",
              "      <td>1.000000</td>\n",
              "      <td>-0.025239</td>\n",
              "      <td>-0.231905</td>\n",
              "      <td>0.816784</td>\n",
              "      <td>0.034032</td>\n",
              "      <td>0.003436</td>\n",
              "    </tr>\n",
              "    <tr>\n",
              "      <th>Season</th>\n",
              "      <td>0.021441</td>\n",
              "      <td>-0.281274</td>\n",
              "      <td>-0.012409</td>\n",
              "      <td>-0.009052</td>\n",
              "      <td>-0.367837</td>\n",
              "      <td>-0.025239</td>\n",
              "      <td>1.000000</td>\n",
              "      <td>-0.021463</td>\n",
              "      <td>-0.029153</td>\n",
              "      <td>-0.810523</td>\n",
              "      <td>-0.194390</td>\n",
              "    </tr>\n",
              "    <tr>\n",
              "      <th>hour_sin</th>\n",
              "      <td>-0.272347</td>\n",
              "      <td>0.044539</td>\n",
              "      <td>-0.003283</td>\n",
              "      <td>0.002986</td>\n",
              "      <td>0.008813</td>\n",
              "      <td>-0.231905</td>\n",
              "      <td>-0.021463</td>\n",
              "      <td>1.000000</td>\n",
              "      <td>-0.094751</td>\n",
              "      <td>0.035492</td>\n",
              "      <td>0.003813</td>\n",
              "    </tr>\n",
              "    <tr>\n",
              "      <th>hour_cos</th>\n",
              "      <td>-0.204870</td>\n",
              "      <td>0.036340</td>\n",
              "      <td>-0.002840</td>\n",
              "      <td>0.034877</td>\n",
              "      <td>0.012877</td>\n",
              "      <td>0.816784</td>\n",
              "      <td>-0.029153</td>\n",
              "      <td>-0.094751</td>\n",
              "      <td>1.000000</td>\n",
              "      <td>0.037766</td>\n",
              "      <td>0.008847</td>\n",
              "    </tr>\n",
              "    <tr>\n",
              "      <th>month_sin</th>\n",
              "      <td>0.016366</td>\n",
              "      <td>0.324273</td>\n",
              "      <td>-0.019496</td>\n",
              "      <td>0.010517</td>\n",
              "      <td>0.261089</td>\n",
              "      <td>0.034032</td>\n",
              "      <td>-0.810523</td>\n",
              "      <td>0.035492</td>\n",
              "      <td>0.037766</td>\n",
              "      <td>1.000000</td>\n",
              "      <td>0.011840</td>\n",
              "    </tr>\n",
              "    <tr>\n",
              "      <th>month_cos</th>\n",
              "      <td>0.080105</td>\n",
              "      <td>-0.083389</td>\n",
              "      <td>-0.002487</td>\n",
              "      <td>0.004157</td>\n",
              "      <td>0.791619</td>\n",
              "      <td>0.003436</td>\n",
              "      <td>-0.194390</td>\n",
              "      <td>0.003813</td>\n",
              "      <td>0.008847</td>\n",
              "      <td>0.011840</td>\n",
              "      <td>1.000000</td>\n",
              "    </tr>\n",
              "  </tbody>\n",
              "</table>\n",
              "</div>\n",
              "      <button class=\"colab-df-convert\" onclick=\"convertToInteractive('df-959b381f-68f5-4b67-bc70-09dfd2336960')\"\n",
              "              title=\"Convert this dataframe to an interactive table.\"\n",
              "              style=\"display:none;\">\n",
              "        \n",
              "  <svg xmlns=\"http://www.w3.org/2000/svg\" height=\"24px\"viewBox=\"0 0 24 24\"\n",
              "       width=\"24px\">\n",
              "    <path d=\"M0 0h24v24H0V0z\" fill=\"none\"/>\n",
              "    <path d=\"M18.56 5.44l.94 2.06.94-2.06 2.06-.94-2.06-.94-.94-2.06-.94 2.06-2.06.94zm-11 1L8.5 8.5l.94-2.06 2.06-.94-2.06-.94L8.5 2.5l-.94 2.06-2.06.94zm10 10l.94 2.06.94-2.06 2.06-.94-2.06-.94-.94-2.06-.94 2.06-2.06.94z\"/><path d=\"M17.41 7.96l-1.37-1.37c-.4-.4-.92-.59-1.43-.59-.52 0-1.04.2-1.43.59L10.3 9.45l-7.72 7.72c-.78.78-.78 2.05 0 2.83L4 21.41c.39.39.9.59 1.41.59.51 0 1.02-.2 1.41-.59l7.78-7.78 2.81-2.81c.8-.78.8-2.07 0-2.86zM5.41 20L4 18.59l7.72-7.72 1.47 1.35L5.41 20z\"/>\n",
              "  </svg>\n",
              "      </button>\n",
              "      \n",
              "  <style>\n",
              "    .colab-df-container {\n",
              "      display:flex;\n",
              "      flex-wrap:wrap;\n",
              "      gap: 12px;\n",
              "    }\n",
              "\n",
              "    .colab-df-convert {\n",
              "      background-color: #E8F0FE;\n",
              "      border: none;\n",
              "      border-radius: 50%;\n",
              "      cursor: pointer;\n",
              "      display: none;\n",
              "      fill: #1967D2;\n",
              "      height: 32px;\n",
              "      padding: 0 0 0 0;\n",
              "      width: 32px;\n",
              "    }\n",
              "\n",
              "    .colab-df-convert:hover {\n",
              "      background-color: #E2EBFA;\n",
              "      box-shadow: 0px 1px 2px rgba(60, 64, 67, 0.3), 0px 1px 3px 1px rgba(60, 64, 67, 0.15);\n",
              "      fill: #174EA6;\n",
              "    }\n",
              "\n",
              "    [theme=dark] .colab-df-convert {\n",
              "      background-color: #3B4455;\n",
              "      fill: #D2E3FC;\n",
              "    }\n",
              "\n",
              "    [theme=dark] .colab-df-convert:hover {\n",
              "      background-color: #434B5C;\n",
              "      box-shadow: 0px 1px 3px 1px rgba(0, 0, 0, 0.15);\n",
              "      filter: drop-shadow(0px 1px 2px rgba(0, 0, 0, 0.3));\n",
              "      fill: #FFFFFF;\n",
              "    }\n",
              "  </style>\n",
              "\n",
              "      <script>\n",
              "        const buttonEl =\n",
              "          document.querySelector('#df-959b381f-68f5-4b67-bc70-09dfd2336960 button.colab-df-convert');\n",
              "        buttonEl.style.display =\n",
              "          google.colab.kernel.accessAllowed ? 'block' : 'none';\n",
              "\n",
              "        async function convertToInteractive(key) {\n",
              "          const element = document.querySelector('#df-959b381f-68f5-4b67-bc70-09dfd2336960');\n",
              "          const dataTable =\n",
              "            await google.colab.kernel.invokeFunction('convertToInteractive',\n",
              "                                                     [key], {});\n",
              "          if (!dataTable) return;\n",
              "\n",
              "          const docLinkHtml = 'Like what you see? Visit the ' +\n",
              "            '<a target=\"_blank\" href=https://colab.research.google.com/notebooks/data_table.ipynb>data table notebook</a>'\n",
              "            + ' to learn more about interactive tables.';\n",
              "          element.innerHTML = '';\n",
              "          dataTable['output_type'] = 'display_data';\n",
              "          await google.colab.output.renderOutput(dataTable, element);\n",
              "          const docLink = document.createElement('div');\n",
              "          docLink.innerHTML = docLinkHtml;\n",
              "          element.appendChild(docLink);\n",
              "        }\n",
              "      </script>\n",
              "    </div>\n",
              "  </div>\n",
              "  "
            ]
          },
          "metadata": {},
          "execution_count": 51
        }
      ],
      "source": [
        "train.corr()"
      ]
    },
    {
      "cell_type": "code",
      "execution_count": 52,
      "id": "960f55ff",
      "metadata": {
        "id": "960f55ff"
      },
      "outputs": [],
      "source": [
        "#Droppping the highest VIF columns\n",
        "X.drop(['year'], axis=1, inplace=True)"
      ]
    },
    {
      "cell_type": "code",
      "source": [
        "vif = pd.DataFrame()\n",
        "vif['VIF'] = [variance_inflation_factor(X.values,i) for i in range(X.shape[1])]\n",
        "vif['Columns'] = X.columns\n",
        "vif.sort_values('VIF', ascending = False)"
      ],
      "metadata": {
        "colab": {
          "base_uri": "https://localhost:8080/",
          "height": 332
        },
        "id": "nSL8-XCuA-n6",
        "outputId": "a5fb25de-3352-4ccc-8be1-359796cf1c74"
      },
      "id": "nSL8-XCuA-n6",
      "execution_count": 53,
      "outputs": [
        {
          "output_type": "execute_result",
          "data": {
            "text/plain": [
              "         VIF    Columns\n",
              "2  14.449321    Quarter\n",
              "3  13.747004  typeOfDay\n",
              "4  12.442954     Season\n",
              "0   3.929832        day\n",
              "7   3.003781  month_sin\n",
              "8   2.769284  month_cos\n",
              "6   2.470671   hour_cos\n",
              "1   1.412161  isWeekend\n",
              "5   1.102908   hour_sin"
            ],
            "text/html": [
              "\n",
              "  <div id=\"df-31e6d59e-b3dc-4f48-ba37-f1fd5e68b5a4\">\n",
              "    <div class=\"colab-df-container\">\n",
              "      <div>\n",
              "<style scoped>\n",
              "    .dataframe tbody tr th:only-of-type {\n",
              "        vertical-align: middle;\n",
              "    }\n",
              "\n",
              "    .dataframe tbody tr th {\n",
              "        vertical-align: top;\n",
              "    }\n",
              "\n",
              "    .dataframe thead th {\n",
              "        text-align: right;\n",
              "    }\n",
              "</style>\n",
              "<table border=\"1\" class=\"dataframe\">\n",
              "  <thead>\n",
              "    <tr style=\"text-align: right;\">\n",
              "      <th></th>\n",
              "      <th>VIF</th>\n",
              "      <th>Columns</th>\n",
              "    </tr>\n",
              "  </thead>\n",
              "  <tbody>\n",
              "    <tr>\n",
              "      <th>2</th>\n",
              "      <td>14.449321</td>\n",
              "      <td>Quarter</td>\n",
              "    </tr>\n",
              "    <tr>\n",
              "      <th>3</th>\n",
              "      <td>13.747004</td>\n",
              "      <td>typeOfDay</td>\n",
              "    </tr>\n",
              "    <tr>\n",
              "      <th>4</th>\n",
              "      <td>12.442954</td>\n",
              "      <td>Season</td>\n",
              "    </tr>\n",
              "    <tr>\n",
              "      <th>0</th>\n",
              "      <td>3.929832</td>\n",
              "      <td>day</td>\n",
              "    </tr>\n",
              "    <tr>\n",
              "      <th>7</th>\n",
              "      <td>3.003781</td>\n",
              "      <td>month_sin</td>\n",
              "    </tr>\n",
              "    <tr>\n",
              "      <th>8</th>\n",
              "      <td>2.769284</td>\n",
              "      <td>month_cos</td>\n",
              "    </tr>\n",
              "    <tr>\n",
              "      <th>6</th>\n",
              "      <td>2.470671</td>\n",
              "      <td>hour_cos</td>\n",
              "    </tr>\n",
              "    <tr>\n",
              "      <th>1</th>\n",
              "      <td>1.412161</td>\n",
              "      <td>isWeekend</td>\n",
              "    </tr>\n",
              "    <tr>\n",
              "      <th>5</th>\n",
              "      <td>1.102908</td>\n",
              "      <td>hour_sin</td>\n",
              "    </tr>\n",
              "  </tbody>\n",
              "</table>\n",
              "</div>\n",
              "      <button class=\"colab-df-convert\" onclick=\"convertToInteractive('df-31e6d59e-b3dc-4f48-ba37-f1fd5e68b5a4')\"\n",
              "              title=\"Convert this dataframe to an interactive table.\"\n",
              "              style=\"display:none;\">\n",
              "        \n",
              "  <svg xmlns=\"http://www.w3.org/2000/svg\" height=\"24px\"viewBox=\"0 0 24 24\"\n",
              "       width=\"24px\">\n",
              "    <path d=\"M0 0h24v24H0V0z\" fill=\"none\"/>\n",
              "    <path d=\"M18.56 5.44l.94 2.06.94-2.06 2.06-.94-2.06-.94-.94-2.06-.94 2.06-2.06.94zm-11 1L8.5 8.5l.94-2.06 2.06-.94-2.06-.94L8.5 2.5l-.94 2.06-2.06.94zm10 10l.94 2.06.94-2.06 2.06-.94-2.06-.94-.94-2.06-.94 2.06-2.06.94z\"/><path d=\"M17.41 7.96l-1.37-1.37c-.4-.4-.92-.59-1.43-.59-.52 0-1.04.2-1.43.59L10.3 9.45l-7.72 7.72c-.78.78-.78 2.05 0 2.83L4 21.41c.39.39.9.59 1.41.59.51 0 1.02-.2 1.41-.59l7.78-7.78 2.81-2.81c.8-.78.8-2.07 0-2.86zM5.41 20L4 18.59l7.72-7.72 1.47 1.35L5.41 20z\"/>\n",
              "  </svg>\n",
              "      </button>\n",
              "      \n",
              "  <style>\n",
              "    .colab-df-container {\n",
              "      display:flex;\n",
              "      flex-wrap:wrap;\n",
              "      gap: 12px;\n",
              "    }\n",
              "\n",
              "    .colab-df-convert {\n",
              "      background-color: #E8F0FE;\n",
              "      border: none;\n",
              "      border-radius: 50%;\n",
              "      cursor: pointer;\n",
              "      display: none;\n",
              "      fill: #1967D2;\n",
              "      height: 32px;\n",
              "      padding: 0 0 0 0;\n",
              "      width: 32px;\n",
              "    }\n",
              "\n",
              "    .colab-df-convert:hover {\n",
              "      background-color: #E2EBFA;\n",
              "      box-shadow: 0px 1px 2px rgba(60, 64, 67, 0.3), 0px 1px 3px 1px rgba(60, 64, 67, 0.15);\n",
              "      fill: #174EA6;\n",
              "    }\n",
              "\n",
              "    [theme=dark] .colab-df-convert {\n",
              "      background-color: #3B4455;\n",
              "      fill: #D2E3FC;\n",
              "    }\n",
              "\n",
              "    [theme=dark] .colab-df-convert:hover {\n",
              "      background-color: #434B5C;\n",
              "      box-shadow: 0px 1px 3px 1px rgba(0, 0, 0, 0.15);\n",
              "      filter: drop-shadow(0px 1px 2px rgba(0, 0, 0, 0.3));\n",
              "      fill: #FFFFFF;\n",
              "    }\n",
              "  </style>\n",
              "\n",
              "      <script>\n",
              "        const buttonEl =\n",
              "          document.querySelector('#df-31e6d59e-b3dc-4f48-ba37-f1fd5e68b5a4 button.colab-df-convert');\n",
              "        buttonEl.style.display =\n",
              "          google.colab.kernel.accessAllowed ? 'block' : 'none';\n",
              "\n",
              "        async function convertToInteractive(key) {\n",
              "          const element = document.querySelector('#df-31e6d59e-b3dc-4f48-ba37-f1fd5e68b5a4');\n",
              "          const dataTable =\n",
              "            await google.colab.kernel.invokeFunction('convertToInteractive',\n",
              "                                                     [key], {});\n",
              "          if (!dataTable) return;\n",
              "\n",
              "          const docLinkHtml = 'Like what you see? Visit the ' +\n",
              "            '<a target=\"_blank\" href=https://colab.research.google.com/notebooks/data_table.ipynb>data table notebook</a>'\n",
              "            + ' to learn more about interactive tables.';\n",
              "          element.innerHTML = '';\n",
              "          dataTable['output_type'] = 'display_data';\n",
              "          await google.colab.output.renderOutput(dataTable, element);\n",
              "          const docLink = document.createElement('div');\n",
              "          docLink.innerHTML = docLinkHtml;\n",
              "          element.appendChild(docLink);\n",
              "        }\n",
              "      </script>\n",
              "    </div>\n",
              "  </div>\n",
              "  "
            ]
          },
          "metadata": {},
          "execution_count": 53
        }
      ]
    },
    {
      "cell_type": "code",
      "source": [
        "X.drop(['typeOfDay'], axis=1, inplace=True)"
      ],
      "metadata": {
        "id": "U51x0JPUTc2v"
      },
      "id": "U51x0JPUTc2v",
      "execution_count": 54,
      "outputs": []
    },
    {
      "cell_type": "code",
      "source": [
        "vif = pd.DataFrame()\n",
        "vif['VIF'] = [variance_inflation_factor(X.values,i) for i in range(X.shape[1])]\n",
        "vif['Columns'] = X.columns\n",
        "vif.sort_values('VIF', ascending = False)"
      ],
      "metadata": {
        "colab": {
          "base_uri": "https://localhost:8080/",
          "height": 300
        },
        "id": "Kk-NTSEFTkbd",
        "outputId": "b70f68fa-2ff5-4566-9fa4-4bb2c5fcc5e3"
      },
      "id": "Kk-NTSEFTkbd",
      "execution_count": 55,
      "outputs": [
        {
          "output_type": "execute_result",
          "data": {
            "text/plain": [
              "         VIF    Columns\n",
              "2  11.412703    Quarter\n",
              "3  10.080868     Season\n",
              "0   3.794111        day\n",
              "6   2.862887  month_sin\n",
              "7   2.602754  month_cos\n",
              "1   1.396623  isWeekend\n",
              "4   1.036334   hour_sin\n",
              "5   1.015385   hour_cos"
            ],
            "text/html": [
              "\n",
              "  <div id=\"df-7b318a71-af3f-4d32-ba76-1ef28b6d5a83\">\n",
              "    <div class=\"colab-df-container\">\n",
              "      <div>\n",
              "<style scoped>\n",
              "    .dataframe tbody tr th:only-of-type {\n",
              "        vertical-align: middle;\n",
              "    }\n",
              "\n",
              "    .dataframe tbody tr th {\n",
              "        vertical-align: top;\n",
              "    }\n",
              "\n",
              "    .dataframe thead th {\n",
              "        text-align: right;\n",
              "    }\n",
              "</style>\n",
              "<table border=\"1\" class=\"dataframe\">\n",
              "  <thead>\n",
              "    <tr style=\"text-align: right;\">\n",
              "      <th></th>\n",
              "      <th>VIF</th>\n",
              "      <th>Columns</th>\n",
              "    </tr>\n",
              "  </thead>\n",
              "  <tbody>\n",
              "    <tr>\n",
              "      <th>2</th>\n",
              "      <td>11.412703</td>\n",
              "      <td>Quarter</td>\n",
              "    </tr>\n",
              "    <tr>\n",
              "      <th>3</th>\n",
              "      <td>10.080868</td>\n",
              "      <td>Season</td>\n",
              "    </tr>\n",
              "    <tr>\n",
              "      <th>0</th>\n",
              "      <td>3.794111</td>\n",
              "      <td>day</td>\n",
              "    </tr>\n",
              "    <tr>\n",
              "      <th>6</th>\n",
              "      <td>2.862887</td>\n",
              "      <td>month_sin</td>\n",
              "    </tr>\n",
              "    <tr>\n",
              "      <th>7</th>\n",
              "      <td>2.602754</td>\n",
              "      <td>month_cos</td>\n",
              "    </tr>\n",
              "    <tr>\n",
              "      <th>1</th>\n",
              "      <td>1.396623</td>\n",
              "      <td>isWeekend</td>\n",
              "    </tr>\n",
              "    <tr>\n",
              "      <th>4</th>\n",
              "      <td>1.036334</td>\n",
              "      <td>hour_sin</td>\n",
              "    </tr>\n",
              "    <tr>\n",
              "      <th>5</th>\n",
              "      <td>1.015385</td>\n",
              "      <td>hour_cos</td>\n",
              "    </tr>\n",
              "  </tbody>\n",
              "</table>\n",
              "</div>\n",
              "      <button class=\"colab-df-convert\" onclick=\"convertToInteractive('df-7b318a71-af3f-4d32-ba76-1ef28b6d5a83')\"\n",
              "              title=\"Convert this dataframe to an interactive table.\"\n",
              "              style=\"display:none;\">\n",
              "        \n",
              "  <svg xmlns=\"http://www.w3.org/2000/svg\" height=\"24px\"viewBox=\"0 0 24 24\"\n",
              "       width=\"24px\">\n",
              "    <path d=\"M0 0h24v24H0V0z\" fill=\"none\"/>\n",
              "    <path d=\"M18.56 5.44l.94 2.06.94-2.06 2.06-.94-2.06-.94-.94-2.06-.94 2.06-2.06.94zm-11 1L8.5 8.5l.94-2.06 2.06-.94-2.06-.94L8.5 2.5l-.94 2.06-2.06.94zm10 10l.94 2.06.94-2.06 2.06-.94-2.06-.94-.94-2.06-.94 2.06-2.06.94z\"/><path d=\"M17.41 7.96l-1.37-1.37c-.4-.4-.92-.59-1.43-.59-.52 0-1.04.2-1.43.59L10.3 9.45l-7.72 7.72c-.78.78-.78 2.05 0 2.83L4 21.41c.39.39.9.59 1.41.59.51 0 1.02-.2 1.41-.59l7.78-7.78 2.81-2.81c.8-.78.8-2.07 0-2.86zM5.41 20L4 18.59l7.72-7.72 1.47 1.35L5.41 20z\"/>\n",
              "  </svg>\n",
              "      </button>\n",
              "      \n",
              "  <style>\n",
              "    .colab-df-container {\n",
              "      display:flex;\n",
              "      flex-wrap:wrap;\n",
              "      gap: 12px;\n",
              "    }\n",
              "\n",
              "    .colab-df-convert {\n",
              "      background-color: #E8F0FE;\n",
              "      border: none;\n",
              "      border-radius: 50%;\n",
              "      cursor: pointer;\n",
              "      display: none;\n",
              "      fill: #1967D2;\n",
              "      height: 32px;\n",
              "      padding: 0 0 0 0;\n",
              "      width: 32px;\n",
              "    }\n",
              "\n",
              "    .colab-df-convert:hover {\n",
              "      background-color: #E2EBFA;\n",
              "      box-shadow: 0px 1px 2px rgba(60, 64, 67, 0.3), 0px 1px 3px 1px rgba(60, 64, 67, 0.15);\n",
              "      fill: #174EA6;\n",
              "    }\n",
              "\n",
              "    [theme=dark] .colab-df-convert {\n",
              "      background-color: #3B4455;\n",
              "      fill: #D2E3FC;\n",
              "    }\n",
              "\n",
              "    [theme=dark] .colab-df-convert:hover {\n",
              "      background-color: #434B5C;\n",
              "      box-shadow: 0px 1px 3px 1px rgba(0, 0, 0, 0.15);\n",
              "      filter: drop-shadow(0px 1px 2px rgba(0, 0, 0, 0.3));\n",
              "      fill: #FFFFFF;\n",
              "    }\n",
              "  </style>\n",
              "\n",
              "      <script>\n",
              "        const buttonEl =\n",
              "          document.querySelector('#df-7b318a71-af3f-4d32-ba76-1ef28b6d5a83 button.colab-df-convert');\n",
              "        buttonEl.style.display =\n",
              "          google.colab.kernel.accessAllowed ? 'block' : 'none';\n",
              "\n",
              "        async function convertToInteractive(key) {\n",
              "          const element = document.querySelector('#df-7b318a71-af3f-4d32-ba76-1ef28b6d5a83');\n",
              "          const dataTable =\n",
              "            await google.colab.kernel.invokeFunction('convertToInteractive',\n",
              "                                                     [key], {});\n",
              "          if (!dataTable) return;\n",
              "\n",
              "          const docLinkHtml = 'Like what you see? Visit the ' +\n",
              "            '<a target=\"_blank\" href=https://colab.research.google.com/notebooks/data_table.ipynb>data table notebook</a>'\n",
              "            + ' to learn more about interactive tables.';\n",
              "          element.innerHTML = '';\n",
              "          dataTable['output_type'] = 'display_data';\n",
              "          await google.colab.output.renderOutput(dataTable, element);\n",
              "          const docLink = document.createElement('div');\n",
              "          docLink.innerHTML = docLinkHtml;\n",
              "          element.appendChild(docLink);\n",
              "        }\n",
              "      </script>\n",
              "    </div>\n",
              "  </div>\n",
              "  "
            ]
          },
          "metadata": {},
          "execution_count": 55
        }
      ]
    },
    {
      "cell_type": "code",
      "source": [
        "X.drop(['Quarter'], axis=1, inplace=True)"
      ],
      "metadata": {
        "id": "MYuz2dHiTpdM"
      },
      "id": "MYuz2dHiTpdM",
      "execution_count": 56,
      "outputs": []
    },
    {
      "cell_type": "code",
      "source": [
        "vif = pd.DataFrame()\n",
        "vif['VIF'] = [variance_inflation_factor(X.values,i) for i in range(X.shape[1])]\n",
        "vif['Columns'] = X.columns\n",
        "vif.sort_values('VIF', ascending = False)"
      ],
      "metadata": {
        "colab": {
          "base_uri": "https://localhost:8080/",
          "height": 269
        },
        "id": "yxuNfyKiTzUh",
        "outputId": "033ab3ed-3579-45af-ec9b-f287a88d5fc3"
      },
      "id": "yxuNfyKiTzUh",
      "execution_count": 57,
      "outputs": [
        {
          "output_type": "execute_result",
          "data": {
            "text/plain": [
              "        VIF    Columns\n",
              "2  4.173736     Season\n",
              "0  3.404479        day\n",
              "5  1.491001  month_sin\n",
              "1  1.381363  isWeekend\n",
              "3  1.034794   hour_sin\n",
              "6  1.025441  month_cos\n",
              "4  1.014833   hour_cos"
            ],
            "text/html": [
              "\n",
              "  <div id=\"df-4e3a2ffe-531c-4bb8-a04e-eef09afdf9b7\">\n",
              "    <div class=\"colab-df-container\">\n",
              "      <div>\n",
              "<style scoped>\n",
              "    .dataframe tbody tr th:only-of-type {\n",
              "        vertical-align: middle;\n",
              "    }\n",
              "\n",
              "    .dataframe tbody tr th {\n",
              "        vertical-align: top;\n",
              "    }\n",
              "\n",
              "    .dataframe thead th {\n",
              "        text-align: right;\n",
              "    }\n",
              "</style>\n",
              "<table border=\"1\" class=\"dataframe\">\n",
              "  <thead>\n",
              "    <tr style=\"text-align: right;\">\n",
              "      <th></th>\n",
              "      <th>VIF</th>\n",
              "      <th>Columns</th>\n",
              "    </tr>\n",
              "  </thead>\n",
              "  <tbody>\n",
              "    <tr>\n",
              "      <th>2</th>\n",
              "      <td>4.173736</td>\n",
              "      <td>Season</td>\n",
              "    </tr>\n",
              "    <tr>\n",
              "      <th>0</th>\n",
              "      <td>3.404479</td>\n",
              "      <td>day</td>\n",
              "    </tr>\n",
              "    <tr>\n",
              "      <th>5</th>\n",
              "      <td>1.491001</td>\n",
              "      <td>month_sin</td>\n",
              "    </tr>\n",
              "    <tr>\n",
              "      <th>1</th>\n",
              "      <td>1.381363</td>\n",
              "      <td>isWeekend</td>\n",
              "    </tr>\n",
              "    <tr>\n",
              "      <th>3</th>\n",
              "      <td>1.034794</td>\n",
              "      <td>hour_sin</td>\n",
              "    </tr>\n",
              "    <tr>\n",
              "      <th>6</th>\n",
              "      <td>1.025441</td>\n",
              "      <td>month_cos</td>\n",
              "    </tr>\n",
              "    <tr>\n",
              "      <th>4</th>\n",
              "      <td>1.014833</td>\n",
              "      <td>hour_cos</td>\n",
              "    </tr>\n",
              "  </tbody>\n",
              "</table>\n",
              "</div>\n",
              "      <button class=\"colab-df-convert\" onclick=\"convertToInteractive('df-4e3a2ffe-531c-4bb8-a04e-eef09afdf9b7')\"\n",
              "              title=\"Convert this dataframe to an interactive table.\"\n",
              "              style=\"display:none;\">\n",
              "        \n",
              "  <svg xmlns=\"http://www.w3.org/2000/svg\" height=\"24px\"viewBox=\"0 0 24 24\"\n",
              "       width=\"24px\">\n",
              "    <path d=\"M0 0h24v24H0V0z\" fill=\"none\"/>\n",
              "    <path d=\"M18.56 5.44l.94 2.06.94-2.06 2.06-.94-2.06-.94-.94-2.06-.94 2.06-2.06.94zm-11 1L8.5 8.5l.94-2.06 2.06-.94-2.06-.94L8.5 2.5l-.94 2.06-2.06.94zm10 10l.94 2.06.94-2.06 2.06-.94-2.06-.94-.94-2.06-.94 2.06-2.06.94z\"/><path d=\"M17.41 7.96l-1.37-1.37c-.4-.4-.92-.59-1.43-.59-.52 0-1.04.2-1.43.59L10.3 9.45l-7.72 7.72c-.78.78-.78 2.05 0 2.83L4 21.41c.39.39.9.59 1.41.59.51 0 1.02-.2 1.41-.59l7.78-7.78 2.81-2.81c.8-.78.8-2.07 0-2.86zM5.41 20L4 18.59l7.72-7.72 1.47 1.35L5.41 20z\"/>\n",
              "  </svg>\n",
              "      </button>\n",
              "      \n",
              "  <style>\n",
              "    .colab-df-container {\n",
              "      display:flex;\n",
              "      flex-wrap:wrap;\n",
              "      gap: 12px;\n",
              "    }\n",
              "\n",
              "    .colab-df-convert {\n",
              "      background-color: #E8F0FE;\n",
              "      border: none;\n",
              "      border-radius: 50%;\n",
              "      cursor: pointer;\n",
              "      display: none;\n",
              "      fill: #1967D2;\n",
              "      height: 32px;\n",
              "      padding: 0 0 0 0;\n",
              "      width: 32px;\n",
              "    }\n",
              "\n",
              "    .colab-df-convert:hover {\n",
              "      background-color: #E2EBFA;\n",
              "      box-shadow: 0px 1px 2px rgba(60, 64, 67, 0.3), 0px 1px 3px 1px rgba(60, 64, 67, 0.15);\n",
              "      fill: #174EA6;\n",
              "    }\n",
              "\n",
              "    [theme=dark] .colab-df-convert {\n",
              "      background-color: #3B4455;\n",
              "      fill: #D2E3FC;\n",
              "    }\n",
              "\n",
              "    [theme=dark] .colab-df-convert:hover {\n",
              "      background-color: #434B5C;\n",
              "      box-shadow: 0px 1px 3px 1px rgba(0, 0, 0, 0.15);\n",
              "      filter: drop-shadow(0px 1px 2px rgba(0, 0, 0, 0.3));\n",
              "      fill: #FFFFFF;\n",
              "    }\n",
              "  </style>\n",
              "\n",
              "      <script>\n",
              "        const buttonEl =\n",
              "          document.querySelector('#df-4e3a2ffe-531c-4bb8-a04e-eef09afdf9b7 button.colab-df-convert');\n",
              "        buttonEl.style.display =\n",
              "          google.colab.kernel.accessAllowed ? 'block' : 'none';\n",
              "\n",
              "        async function convertToInteractive(key) {\n",
              "          const element = document.querySelector('#df-4e3a2ffe-531c-4bb8-a04e-eef09afdf9b7');\n",
              "          const dataTable =\n",
              "            await google.colab.kernel.invokeFunction('convertToInteractive',\n",
              "                                                     [key], {});\n",
              "          if (!dataTable) return;\n",
              "\n",
              "          const docLinkHtml = 'Like what you see? Visit the ' +\n",
              "            '<a target=\"_blank\" href=https://colab.research.google.com/notebooks/data_table.ipynb>data table notebook</a>'\n",
              "            + ' to learn more about interactive tables.';\n",
              "          element.innerHTML = '';\n",
              "          dataTable['output_type'] = 'display_data';\n",
              "          await google.colab.output.renderOutput(dataTable, element);\n",
              "          const docLink = document.createElement('div');\n",
              "          docLink.innerHTML = docLinkHtml;\n",
              "          element.appendChild(docLink);\n",
              "        }\n",
              "      </script>\n",
              "    </div>\n",
              "  </div>\n",
              "  "
            ]
          },
          "metadata": {},
          "execution_count": 57
        }
      ]
    },
    {
      "cell_type": "code",
      "source": [
        "test.drop(['year','Quarter','typeOfDay'], axis=1, inplace=True)"
      ],
      "metadata": {
        "id": "64is8mqBngnz"
      },
      "id": "64is8mqBngnz",
      "execution_count": 58,
      "outputs": []
    },
    {
      "cell_type": "markdown",
      "source": [
        "#Modeling"
      ],
      "metadata": {
        "id": "oap2dIkjeeyB"
      },
      "id": "oap2dIkjeeyB"
    },
    {
      "cell_type": "markdown",
      "source": [
        "###Linear Regression"
      ],
      "metadata": {
        "id": "8BUvdO9geocI"
      },
      "id": "8BUvdO9geocI"
    },
    {
      "cell_type": "code",
      "execution_count": 59,
      "id": "e6583826",
      "metadata": {
        "id": "e6583826"
      },
      "outputs": [],
      "source": [
        "#Model Building\n",
        "from sklearn.model_selection import train_test_split\n",
        "X_train, X_test, y_train, y_test = train_test_split(X.values, y, test_size=0.2, random_state=42)\n",
        "from sklearn.metrics import mean_squared_error as mse\n",
        "from sklearn.metrics import r2_score as r2"
      ]
    },
    {
      "cell_type": "markdown",
      "id": "ed728d68",
      "metadata": {
        "id": "ed728d68"
      },
      "source": [
        "1.Linear Regression"
      ]
    },
    {
      "cell_type": "code",
      "execution_count": 60,
      "id": "a744ee27",
      "metadata": {
        "id": "a744ee27"
      },
      "outputs": [],
      "source": [
        "from sklearn.linear_model import LinearRegression"
      ]
    },
    {
      "cell_type": "code",
      "execution_count": 61,
      "id": "b871a7b0",
      "metadata": {
        "id": "b871a7b0"
      },
      "outputs": [],
      "source": [
        "lr_model = LinearRegression()"
      ]
    },
    {
      "cell_type": "code",
      "execution_count": 62,
      "id": "b3eb8d65",
      "metadata": {
        "id": "b3eb8d65"
      },
      "outputs": [],
      "source": [
        "lr_model.fit(X_train, y_train) \n",
        "lr_pred = lr_model.predict(X_test)"
      ]
    },
    {
      "cell_type": "code",
      "source": [
        "#rmse = np.sqrt(np.mean((y_test-lr_pred)**2))\n",
        "#r_2 = 1 - (np.sum((y_test - lr_pred)**2) / np.sum((y_test - y_test.mean())**2))\n",
        "#print(\"RMSE\",rmse)\n",
        "#print(\"R2\",r_2)"
      ],
      "metadata": {
        "id": "OnPVVvodDG-5"
      },
      "id": "OnPVVvodDG-5",
      "execution_count": 63,
      "outputs": []
    },
    {
      "cell_type": "code",
      "execution_count": 64,
      "id": "b367efb6",
      "metadata": {
        "colab": {
          "base_uri": "https://localhost:8080/"
        },
        "id": "b367efb6",
        "outputId": "6f7eaa83-84ca-4c13-9686-3880fce1f00e"
      },
      "outputs": [
        {
          "output_type": "stream",
          "name": "stdout",
          "text": [
            "MSE      : 1388.3983327399437\n",
            "R2 Score : 0.16626403150594737\n"
          ]
        }
      ],
      "source": [
        "print(\"MSE      :\", mse(y_test,lr_pred))\n",
        "print('R2 Score :',r2(y_test,lr_pred))"
      ]
    },
    {
      "cell_type": "markdown",
      "source": [
        "####Applying on Test *data*"
      ],
      "metadata": {
        "id": "VM8RvEvyltE4"
      },
      "id": "VM8RvEvyltE4"
    },
    {
      "cell_type": "code",
      "source": [
        "lr_test_pred = lr_model.predict(test)\n",
        "lr_test_pred"
      ],
      "metadata": {
        "colab": {
          "base_uri": "https://localhost:8080/"
        },
        "id": "Xt2hFlLElsVb",
        "outputId": "49872811-56cb-466f-9591-2c0331857e86"
      },
      "id": "Xt2hFlLElsVb",
      "execution_count": 65,
      "outputs": [
        {
          "output_type": "execute_result",
          "data": {
            "text/plain": [
              "array([58.26151536, 53.75454047, 50.60937863, ..., 78.52076522,\n",
              "       72.36915815, 66.83463193])"
            ]
          },
          "metadata": {},
          "execution_count": 65
        }
      ]
    },
    {
      "cell_type": "markdown",
      "source": [
        "###Random Forest"
      ],
      "metadata": {
        "id": "F2o9YGQOev-4"
      },
      "id": "F2o9YGQOev-4"
    },
    {
      "cell_type": "code",
      "source": [
        "# importing Random Forest Regressor\n",
        "from sklearn.ensemble import RandomForestRegressor\n",
        "#create instance\n",
        "rf_reg = RandomForestRegressor(random_state=42,max_depth=16,n_estimators=500)\n",
        "\n",
        "# fitting model\n",
        "rf_model = rf_reg.fit(X_train,y_train)\n",
        "# Predicting Model\n",
        "rf_pred = rf_model.predict(X_test)\n",
        "# Error Analysis\n",
        "print('Mean Squared Error: ',mse(y_test,rf_pred))\n",
        "print('R2 Score          : ',r2(y_test,rf_pred))"
      ],
      "metadata": {
        "colab": {
          "base_uri": "https://localhost:8080/"
        },
        "id": "iXQ6ZE_sHLDT",
        "outputId": "72816a3a-3e4b-4a0e-de24-1f117e6ba0e9"
      },
      "id": "iXQ6ZE_sHLDT",
      "execution_count": 66,
      "outputs": [
        {
          "output_type": "stream",
          "name": "stdout",
          "text": [
            "Mean Squared Error:  1321.849981082528\n",
            "R2 Score          :  0.20622644943199264\n"
          ]
        }
      ]
    },
    {
      "cell_type": "code",
      "source": [
        "#rmse = np.sqrt(np.mean((y_test-lr_pred)**2))\n",
        "#r_2 = 1 - (np.sum((y_test - lr_pred)**2) / np.sum((y_test - y_test.mean())**2))\n",
        "#print(\"RMSE\",rmse)\n",
        "#print(\"R2\",r_2)"
      ],
      "metadata": {
        "id": "JZSDuPghLQWU"
      },
      "id": "JZSDuPghLQWU",
      "execution_count": 67,
      "outputs": []
    },
    {
      "cell_type": "markdown",
      "source": [
        "####Applying Random Forest on Test Data"
      ],
      "metadata": {
        "id": "yKye1li6q2kJ"
      },
      "id": "yKye1li6q2kJ"
    },
    {
      "cell_type": "code",
      "source": [
        "rf_test_pred = rf_reg.predict(test)\n",
        "rf_test_pred"
      ],
      "metadata": {
        "colab": {
          "base_uri": "https://localhost:8080/"
        },
        "id": "DMFMLFXUmVG_",
        "outputId": "81fad580-b795-4985-fb52-cb8db269aa14"
      },
      "id": "DMFMLFXUmVG_",
      "execution_count": 68,
      "outputs": [
        {
          "output_type": "execute_result",
          "data": {
            "text/plain": [
              "array([25.93718932, 61.66331471, 37.14621795, ..., 38.25629944,\n",
              "       36.89387625, 72.04779625])"
            ]
          },
          "metadata": {},
          "execution_count": 68
        }
      ]
    },
    {
      "cell_type": "markdown",
      "source": [
        "###LGBM Regression"
      ],
      "metadata": {
        "id": "zqrKxVBse0w6"
      },
      "id": "zqrKxVBse0w6"
    },
    {
      "cell_type": "code",
      "source": [
        "import lightgbm  as lgb\n",
        "lgb_model=lgb.LGBMRegressor"
      ],
      "metadata": {
        "id": "_MeCbiK5Lzy7"
      },
      "id": "_MeCbiK5Lzy7",
      "execution_count": 69,
      "outputs": []
    },
    {
      "cell_type": "markdown",
      "source": [
        "####Spliting for LGBM"
      ],
      "metadata": {
        "id": "Zky3Hp20e8Jd"
      },
      "id": "Zky3Hp20e8Jd"
    },
    {
      "cell_type": "code",
      "source": [
        "# compute 20% number of samples\n",
        "X.shape[0]*0.2"
      ],
      "metadata": {
        "colab": {
          "base_uri": "https://localhost:8080/"
        },
        "id": "iEA-DjckcP_h",
        "outputId": "e18b11e6-7357-4011-bc7b-288bf9df8f1a"
      },
      "id": "iEA-DjckcP_h",
      "execution_count": 70,
      "outputs": [
        {
          "output_type": "execute_result",
          "data": {
            "text/plain": [
              "3649.4"
            ]
          },
          "metadata": {},
          "execution_count": 70
        }
      ]
    },
    {
      "cell_type": "code",
      "source": [
        "X_train = X.iloc[:-3600,:]\n",
        "y_train = y.iloc[:-3600,]\n",
        "X_val=X.iloc[-3600:,:]\n",
        "y_val=y.iloc[-3600:,]"
      ],
      "metadata": {
        "id": "AxJP4JvMcUUv"
      },
      "id": "AxJP4JvMcUUv",
      "execution_count": 71,
      "outputs": []
    },
    {
      "cell_type": "markdown",
      "source": [
        "####Modeling LGBM"
      ],
      "metadata": {
        "id": "XrOSortWqfSR"
      },
      "id": "XrOSortWqfSR"
    },
    {
      "cell_type": "code",
      "source": [
        "model=lgb.LGBMRegressor(n_estimators=3000,learning_rate=0.01)\n",
        "model.fit(\n",
        "               X_train,y_train,\n",
        "               eval_metric='rmse',\n",
        "               eval_set=[(X_val.values,y_val)],\n",
        "          callbacks=[lgb.early_stopping(100)]\n",
        "        );"
      ],
      "metadata": {
        "colab": {
          "base_uri": "https://localhost:8080/"
        },
        "id": "N_t0Q8wvUhx_",
        "outputId": "c5d70ca5-758f-4828-d733-d9bf45159747"
      },
      "id": "N_t0Q8wvUhx_",
      "execution_count": 72,
      "outputs": [
        {
          "output_type": "stream",
          "name": "stdout",
          "text": [
            "[1]\tvalid_0's rmse: 45.5778\tvalid_0's l2: 2077.33\n",
            "Training until validation scores don't improve for 100 rounds.\n",
            "[2]\tvalid_0's rmse: 45.4605\tvalid_0's l2: 2066.66\n",
            "[3]\tvalid_0's rmse: 45.3457\tvalid_0's l2: 2056.23\n",
            "[4]\tvalid_0's rmse: 45.2233\tvalid_0's l2: 2045.14\n",
            "[5]\tvalid_0's rmse: 45.1126\tvalid_0's l2: 2035.14\n",
            "[6]\tvalid_0's rmse: 44.9944\tvalid_0's l2: 2024.5\n",
            "[7]\tvalid_0's rmse: 44.8835\tvalid_0's l2: 2014.53\n",
            "[8]\tvalid_0's rmse: 44.7747\tvalid_0's l2: 2004.77\n",
            "[9]\tvalid_0's rmse: 44.6587\tvalid_0's l2: 1994.4\n",
            "[10]\tvalid_0's rmse: 44.5574\tvalid_0's l2: 1985.36\n",
            "[11]\tvalid_0's rmse: 44.4533\tvalid_0's l2: 1976.09\n",
            "[12]\tvalid_0's rmse: 44.3517\tvalid_0's l2: 1967.08\n",
            "[13]\tvalid_0's rmse: 44.2514\tvalid_0's l2: 1958.18\n",
            "[14]\tvalid_0's rmse: 44.1532\tvalid_0's l2: 1949.51\n",
            "[15]\tvalid_0's rmse: 44.0538\tvalid_0's l2: 1940.74\n",
            "[16]\tvalid_0's rmse: 43.9536\tvalid_0's l2: 1931.92\n",
            "[17]\tvalid_0's rmse: 43.8765\tvalid_0's l2: 1925.14\n",
            "[18]\tvalid_0's rmse: 43.7886\tvalid_0's l2: 1917.44\n",
            "[19]\tvalid_0's rmse: 43.7068\tvalid_0's l2: 1910.29\n",
            "[20]\tvalid_0's rmse: 43.6151\tvalid_0's l2: 1902.28\n",
            "[21]\tvalid_0's rmse: 43.5319\tvalid_0's l2: 1895.02\n",
            "[22]\tvalid_0's rmse: 43.4549\tvalid_0's l2: 1888.33\n",
            "[23]\tvalid_0's rmse: 43.3709\tvalid_0's l2: 1881.04\n",
            "[24]\tvalid_0's rmse: 43.2909\tvalid_0's l2: 1874.1\n",
            "[25]\tvalid_0's rmse: 43.2129\tvalid_0's l2: 1867.36\n",
            "[26]\tvalid_0's rmse: 43.1348\tvalid_0's l2: 1860.61\n",
            "[27]\tvalid_0's rmse: 43.0611\tvalid_0's l2: 1854.26\n",
            "[28]\tvalid_0's rmse: 42.9925\tvalid_0's l2: 1848.35\n",
            "[29]\tvalid_0's rmse: 42.9249\tvalid_0's l2: 1842.55\n",
            "[30]\tvalid_0's rmse: 42.8584\tvalid_0's l2: 1836.84\n",
            "[31]\tvalid_0's rmse: 42.7877\tvalid_0's l2: 1830.79\n",
            "[32]\tvalid_0's rmse: 42.7138\tvalid_0's l2: 1824.47\n",
            "[33]\tvalid_0's rmse: 42.6508\tvalid_0's l2: 1819.09\n",
            "[34]\tvalid_0's rmse: 42.5858\tvalid_0's l2: 1813.55\n",
            "[35]\tvalid_0's rmse: 42.5187\tvalid_0's l2: 1807.84\n",
            "[36]\tvalid_0's rmse: 42.4546\tvalid_0's l2: 1802.39\n",
            "[37]\tvalid_0's rmse: 42.3942\tvalid_0's l2: 1797.27\n",
            "[38]\tvalid_0's rmse: 42.3323\tvalid_0's l2: 1792.02\n",
            "[39]\tvalid_0's rmse: 42.2651\tvalid_0's l2: 1786.34\n",
            "[40]\tvalid_0's rmse: 42.2102\tvalid_0's l2: 1781.7\n",
            "[41]\tvalid_0's rmse: 42.152\tvalid_0's l2: 1776.79\n",
            "[42]\tvalid_0's rmse: 42.0911\tvalid_0's l2: 1771.66\n",
            "[43]\tvalid_0's rmse: 42.0335\tvalid_0's l2: 1766.81\n",
            "[44]\tvalid_0's rmse: 41.9785\tvalid_0's l2: 1762.19\n",
            "[45]\tvalid_0's rmse: 41.926\tvalid_0's l2: 1757.79\n",
            "[46]\tvalid_0's rmse: 41.8662\tvalid_0's l2: 1752.78\n",
            "[47]\tvalid_0's rmse: 41.8169\tvalid_0's l2: 1748.65\n",
            "[48]\tvalid_0's rmse: 41.7563\tvalid_0's l2: 1743.59\n",
            "[49]\tvalid_0's rmse: 41.6998\tvalid_0's l2: 1738.87\n",
            "[50]\tvalid_0's rmse: 41.646\tvalid_0's l2: 1734.39\n",
            "[51]\tvalid_0's rmse: 41.5887\tvalid_0's l2: 1729.62\n",
            "[52]\tvalid_0's rmse: 41.5392\tvalid_0's l2: 1725.5\n",
            "[53]\tvalid_0's rmse: 41.4841\tvalid_0's l2: 1720.93\n",
            "[54]\tvalid_0's rmse: 41.4298\tvalid_0's l2: 1716.43\n",
            "[55]\tvalid_0's rmse: 41.3877\tvalid_0's l2: 1712.94\n",
            "[56]\tvalid_0's rmse: 41.3308\tvalid_0's l2: 1708.24\n",
            "[57]\tvalid_0's rmse: 41.2774\tvalid_0's l2: 1703.82\n",
            "[58]\tvalid_0's rmse: 41.2255\tvalid_0's l2: 1699.54\n",
            "[59]\tvalid_0's rmse: 41.1742\tvalid_0's l2: 1695.31\n",
            "[60]\tvalid_0's rmse: 41.1257\tvalid_0's l2: 1691.32\n",
            "[61]\tvalid_0's rmse: 41.0892\tvalid_0's l2: 1688.32\n",
            "[62]\tvalid_0's rmse: 41.0421\tvalid_0's l2: 1684.46\n",
            "[63]\tvalid_0's rmse: 40.9925\tvalid_0's l2: 1680.39\n",
            "[64]\tvalid_0's rmse: 40.9474\tvalid_0's l2: 1676.69\n",
            "[65]\tvalid_0's rmse: 40.8931\tvalid_0's l2: 1672.24\n",
            "[66]\tvalid_0's rmse: 40.8492\tvalid_0's l2: 1668.66\n",
            "[67]\tvalid_0's rmse: 40.8054\tvalid_0's l2: 1665.08\n",
            "[68]\tvalid_0's rmse: 40.7573\tvalid_0's l2: 1661.16\n",
            "[69]\tvalid_0's rmse: 40.7252\tvalid_0's l2: 1658.54\n",
            "[70]\tvalid_0's rmse: 40.6853\tvalid_0's l2: 1655.29\n",
            "[71]\tvalid_0's rmse: 40.6375\tvalid_0's l2: 1651.4\n",
            "[72]\tvalid_0's rmse: 40.5924\tvalid_0's l2: 1647.74\n",
            "[73]\tvalid_0's rmse: 40.5543\tvalid_0's l2: 1644.65\n",
            "[74]\tvalid_0's rmse: 40.51\tvalid_0's l2: 1641.06\n",
            "[75]\tvalid_0's rmse: 40.4811\tvalid_0's l2: 1638.72\n",
            "[76]\tvalid_0's rmse: 40.4452\tvalid_0's l2: 1635.81\n",
            "[77]\tvalid_0's rmse: 40.4014\tvalid_0's l2: 1632.28\n",
            "[78]\tvalid_0's rmse: 40.3669\tvalid_0's l2: 1629.49\n",
            "[79]\tvalid_0's rmse: 40.3247\tvalid_0's l2: 1626.08\n",
            "[80]\tvalid_0's rmse: 40.2927\tvalid_0's l2: 1623.5\n",
            "[81]\tvalid_0's rmse: 40.2534\tvalid_0's l2: 1620.33\n",
            "[82]\tvalid_0's rmse: 40.2307\tvalid_0's l2: 1618.51\n",
            "[83]\tvalid_0's rmse: 40.1982\tvalid_0's l2: 1615.9\n",
            "[84]\tvalid_0's rmse: 40.1681\tvalid_0's l2: 1613.48\n",
            "[85]\tvalid_0's rmse: 40.1394\tvalid_0's l2: 1611.18\n",
            "[86]\tvalid_0's rmse: 40.1015\tvalid_0's l2: 1608.13\n",
            "[87]\tvalid_0's rmse: 40.0738\tvalid_0's l2: 1605.91\n",
            "[88]\tvalid_0's rmse: 40.0423\tvalid_0's l2: 1603.39\n",
            "[89]\tvalid_0's rmse: 40.0156\tvalid_0's l2: 1601.25\n",
            "[90]\tvalid_0's rmse: 39.9895\tvalid_0's l2: 1599.16\n",
            "[91]\tvalid_0's rmse: 39.9648\tvalid_0's l2: 1597.18\n",
            "[92]\tvalid_0's rmse: 39.941\tvalid_0's l2: 1595.29\n",
            "[93]\tvalid_0's rmse: 39.9176\tvalid_0's l2: 1593.42\n",
            "[94]\tvalid_0's rmse: 39.8978\tvalid_0's l2: 1591.84\n",
            "[95]\tvalid_0's rmse: 39.8711\tvalid_0's l2: 1589.7\n",
            "[96]\tvalid_0's rmse: 39.8481\tvalid_0's l2: 1587.87\n",
            "[97]\tvalid_0's rmse: 39.8202\tvalid_0's l2: 1585.64\n",
            "[98]\tvalid_0's rmse: 39.7975\tvalid_0's l2: 1583.84\n",
            "[99]\tvalid_0's rmse: 39.7721\tvalid_0's l2: 1581.82\n",
            "[100]\tvalid_0's rmse: 39.7522\tvalid_0's l2: 1580.24\n",
            "[101]\tvalid_0's rmse: 39.7307\tvalid_0's l2: 1578.53\n",
            "[102]\tvalid_0's rmse: 39.7103\tvalid_0's l2: 1576.9\n",
            "[103]\tvalid_0's rmse: 39.692\tvalid_0's l2: 1575.46\n",
            "[104]\tvalid_0's rmse: 39.6727\tvalid_0's l2: 1573.93\n",
            "[105]\tvalid_0's rmse: 39.6499\tvalid_0's l2: 1572.12\n",
            "[106]\tvalid_0's rmse: 39.6282\tvalid_0's l2: 1570.39\n",
            "[107]\tvalid_0's rmse: 39.61\tvalid_0's l2: 1568.95\n",
            "[108]\tvalid_0's rmse: 39.5958\tvalid_0's l2: 1567.83\n",
            "[109]\tvalid_0's rmse: 39.5769\tvalid_0's l2: 1566.33\n",
            "[110]\tvalid_0's rmse: 39.5535\tvalid_0's l2: 1564.48\n",
            "[111]\tvalid_0's rmse: 39.5354\tvalid_0's l2: 1563.05\n",
            "[112]\tvalid_0's rmse: 39.5154\tvalid_0's l2: 1561.47\n",
            "[113]\tvalid_0's rmse: 39.4971\tvalid_0's l2: 1560.02\n",
            "[114]\tvalid_0's rmse: 39.4781\tvalid_0's l2: 1558.52\n",
            "[115]\tvalid_0's rmse: 39.4603\tvalid_0's l2: 1557.12\n",
            "[116]\tvalid_0's rmse: 39.4452\tvalid_0's l2: 1555.93\n",
            "[117]\tvalid_0's rmse: 39.4252\tvalid_0's l2: 1554.35\n",
            "[118]\tvalid_0's rmse: 39.4128\tvalid_0's l2: 1553.37\n",
            "[119]\tvalid_0's rmse: 39.3972\tvalid_0's l2: 1552.14\n",
            "[120]\tvalid_0's rmse: 39.3833\tvalid_0's l2: 1551.04\n",
            "[121]\tvalid_0's rmse: 39.3709\tvalid_0's l2: 1550.07\n",
            "[122]\tvalid_0's rmse: 39.3553\tvalid_0's l2: 1548.84\n",
            "[123]\tvalid_0's rmse: 39.3413\tvalid_0's l2: 1547.74\n",
            "[124]\tvalid_0's rmse: 39.3258\tvalid_0's l2: 1546.52\n",
            "[125]\tvalid_0's rmse: 39.3116\tvalid_0's l2: 1545.4\n",
            "[126]\tvalid_0's rmse: 39.2941\tvalid_0's l2: 1544.03\n",
            "[127]\tvalid_0's rmse: 39.2815\tvalid_0's l2: 1543.04\n",
            "[128]\tvalid_0's rmse: 39.2661\tvalid_0's l2: 1541.83\n",
            "[129]\tvalid_0's rmse: 39.2547\tvalid_0's l2: 1540.93\n",
            "[130]\tvalid_0's rmse: 39.2425\tvalid_0's l2: 1539.97\n",
            "[131]\tvalid_0's rmse: 39.2276\tvalid_0's l2: 1538.8\n",
            "[132]\tvalid_0's rmse: 39.2162\tvalid_0's l2: 1537.91\n",
            "[133]\tvalid_0's rmse: 39.2021\tvalid_0's l2: 1536.8\n",
            "[134]\tvalid_0's rmse: 39.1884\tvalid_0's l2: 1535.73\n",
            "[135]\tvalid_0's rmse: 39.1778\tvalid_0's l2: 1534.9\n",
            "[136]\tvalid_0's rmse: 39.1612\tvalid_0's l2: 1533.6\n",
            "[137]\tvalid_0's rmse: 39.1521\tvalid_0's l2: 1532.89\n",
            "[138]\tvalid_0's rmse: 39.1362\tvalid_0's l2: 1531.64\n",
            "[139]\tvalid_0's rmse: 39.124\tvalid_0's l2: 1530.68\n",
            "[140]\tvalid_0's rmse: 39.1155\tvalid_0's l2: 1530.02\n",
            "[141]\tvalid_0's rmse: 39.1004\tvalid_0's l2: 1528.84\n",
            "[142]\tvalid_0's rmse: 39.0926\tvalid_0's l2: 1528.23\n",
            "[143]\tvalid_0's rmse: 39.0816\tvalid_0's l2: 1527.38\n",
            "[144]\tvalid_0's rmse: 39.0711\tvalid_0's l2: 1526.55\n",
            "[145]\tvalid_0's rmse: 39.0627\tvalid_0's l2: 1525.89\n",
            "[146]\tvalid_0's rmse: 39.0484\tvalid_0's l2: 1524.78\n",
            "[147]\tvalid_0's rmse: 39.0345\tvalid_0's l2: 1523.69\n",
            "[148]\tvalid_0's rmse: 39.0253\tvalid_0's l2: 1522.98\n",
            "[149]\tvalid_0's rmse: 39.0132\tvalid_0's l2: 1522.03\n",
            "[150]\tvalid_0's rmse: 39.0012\tvalid_0's l2: 1521.09\n",
            "[151]\tvalid_0's rmse: 38.9882\tvalid_0's l2: 1520.08\n",
            "[152]\tvalid_0's rmse: 38.9812\tvalid_0's l2: 1519.53\n",
            "[153]\tvalid_0's rmse: 38.9699\tvalid_0's l2: 1518.65\n",
            "[154]\tvalid_0's rmse: 38.9613\tvalid_0's l2: 1517.98\n",
            "[155]\tvalid_0's rmse: 38.9515\tvalid_0's l2: 1517.22\n",
            "[156]\tvalid_0's rmse: 38.9407\tvalid_0's l2: 1516.38\n",
            "[157]\tvalid_0's rmse: 38.9339\tvalid_0's l2: 1515.85\n",
            "[158]\tvalid_0's rmse: 38.9243\tvalid_0's l2: 1515.1\n",
            "[159]\tvalid_0's rmse: 38.918\tvalid_0's l2: 1514.61\n",
            "[160]\tvalid_0's rmse: 38.9115\tvalid_0's l2: 1514.11\n",
            "[161]\tvalid_0's rmse: 38.9025\tvalid_0's l2: 1513.4\n",
            "[162]\tvalid_0's rmse: 38.8937\tvalid_0's l2: 1512.72\n",
            "[163]\tvalid_0's rmse: 38.8851\tvalid_0's l2: 1512.05\n",
            "[164]\tvalid_0's rmse: 38.8786\tvalid_0's l2: 1511.55\n",
            "[165]\tvalid_0's rmse: 38.874\tvalid_0's l2: 1511.19\n",
            "[166]\tvalid_0's rmse: 38.8657\tvalid_0's l2: 1510.55\n",
            "[167]\tvalid_0's rmse: 38.8637\tvalid_0's l2: 1510.39\n",
            "[168]\tvalid_0's rmse: 38.8558\tvalid_0's l2: 1509.77\n",
            "[169]\tvalid_0's rmse: 38.8497\tvalid_0's l2: 1509.3\n",
            "[170]\tvalid_0's rmse: 38.8452\tvalid_0's l2: 1508.95\n",
            "[171]\tvalid_0's rmse: 38.8388\tvalid_0's l2: 1508.45\n",
            "[172]\tvalid_0's rmse: 38.8314\tvalid_0's l2: 1507.88\n",
            "[173]\tvalid_0's rmse: 38.8248\tvalid_0's l2: 1507.36\n",
            "[174]\tvalid_0's rmse: 38.8221\tvalid_0's l2: 1507.16\n",
            "[175]\tvalid_0's rmse: 38.8189\tvalid_0's l2: 1506.91\n",
            "[176]\tvalid_0's rmse: 38.8152\tvalid_0's l2: 1506.62\n",
            "[177]\tvalid_0's rmse: 38.8104\tvalid_0's l2: 1506.25\n",
            "[178]\tvalid_0's rmse: 38.8071\tvalid_0's l2: 1505.99\n",
            "[179]\tvalid_0's rmse: 38.8036\tvalid_0's l2: 1505.72\n",
            "[180]\tvalid_0's rmse: 38.7991\tvalid_0's l2: 1505.37\n",
            "[181]\tvalid_0's rmse: 38.7977\tvalid_0's l2: 1505.26\n",
            "[182]\tvalid_0's rmse: 38.7955\tvalid_0's l2: 1505.09\n",
            "[183]\tvalid_0's rmse: 38.7922\tvalid_0's l2: 1504.84\n",
            "[184]\tvalid_0's rmse: 38.7874\tvalid_0's l2: 1504.46\n",
            "[185]\tvalid_0's rmse: 38.7816\tvalid_0's l2: 1504.01\n",
            "[186]\tvalid_0's rmse: 38.7796\tvalid_0's l2: 1503.86\n",
            "[187]\tvalid_0's rmse: 38.7771\tvalid_0's l2: 1503.66\n",
            "[188]\tvalid_0's rmse: 38.7716\tvalid_0's l2: 1503.23\n",
            "[189]\tvalid_0's rmse: 38.7687\tvalid_0's l2: 1503.01\n",
            "[190]\tvalid_0's rmse: 38.7654\tvalid_0's l2: 1502.75\n",
            "[191]\tvalid_0's rmse: 38.7615\tvalid_0's l2: 1502.46\n",
            "[192]\tvalid_0's rmse: 38.7606\tvalid_0's l2: 1502.39\n",
            "[193]\tvalid_0's rmse: 38.7573\tvalid_0's l2: 1502.13\n",
            "[194]\tvalid_0's rmse: 38.7535\tvalid_0's l2: 1501.83\n",
            "[195]\tvalid_0's rmse: 38.7511\tvalid_0's l2: 1501.65\n",
            "[196]\tvalid_0's rmse: 38.7498\tvalid_0's l2: 1501.54\n",
            "[197]\tvalid_0's rmse: 38.7439\tvalid_0's l2: 1501.09\n",
            "[198]\tvalid_0's rmse: 38.741\tvalid_0's l2: 1500.87\n",
            "[199]\tvalid_0's rmse: 38.7406\tvalid_0's l2: 1500.84\n",
            "[200]\tvalid_0's rmse: 38.735\tvalid_0's l2: 1500.4\n",
            "[201]\tvalid_0's rmse: 38.7318\tvalid_0's l2: 1500.15\n",
            "[202]\tvalid_0's rmse: 38.729\tvalid_0's l2: 1499.93\n",
            "[203]\tvalid_0's rmse: 38.7257\tvalid_0's l2: 1499.68\n",
            "[204]\tvalid_0's rmse: 38.7203\tvalid_0's l2: 1499.26\n",
            "[205]\tvalid_0's rmse: 38.7173\tvalid_0's l2: 1499.03\n",
            "[206]\tvalid_0's rmse: 38.7174\tvalid_0's l2: 1499.04\n",
            "[207]\tvalid_0's rmse: 38.7114\tvalid_0's l2: 1498.57\n",
            "[208]\tvalid_0's rmse: 38.7093\tvalid_0's l2: 1498.41\n",
            "[209]\tvalid_0's rmse: 38.7081\tvalid_0's l2: 1498.32\n",
            "[210]\tvalid_0's rmse: 38.7037\tvalid_0's l2: 1497.98\n",
            "[211]\tvalid_0's rmse: 38.6995\tvalid_0's l2: 1497.65\n",
            "[212]\tvalid_0's rmse: 38.6937\tvalid_0's l2: 1497.2\n",
            "[213]\tvalid_0's rmse: 38.6899\tvalid_0's l2: 1496.91\n",
            "[214]\tvalid_0's rmse: 38.6896\tvalid_0's l2: 1496.89\n",
            "[215]\tvalid_0's rmse: 38.6874\tvalid_0's l2: 1496.72\n",
            "[216]\tvalid_0's rmse: 38.683\tvalid_0's l2: 1496.37\n",
            "[217]\tvalid_0's rmse: 38.6837\tvalid_0's l2: 1496.43\n",
            "[218]\tvalid_0's rmse: 38.6826\tvalid_0's l2: 1496.35\n",
            "[219]\tvalid_0's rmse: 38.6776\tvalid_0's l2: 1495.96\n",
            "[220]\tvalid_0's rmse: 38.6785\tvalid_0's l2: 1496.03\n",
            "[221]\tvalid_0's rmse: 38.6757\tvalid_0's l2: 1495.81\n",
            "[222]\tvalid_0's rmse: 38.6761\tvalid_0's l2: 1495.84\n",
            "[223]\tvalid_0's rmse: 38.6759\tvalid_0's l2: 1495.83\n",
            "[224]\tvalid_0's rmse: 38.6755\tvalid_0's l2: 1495.79\n",
            "[225]\tvalid_0's rmse: 38.6746\tvalid_0's l2: 1495.73\n",
            "[226]\tvalid_0's rmse: 38.6742\tvalid_0's l2: 1495.7\n",
            "[227]\tvalid_0's rmse: 38.6751\tvalid_0's l2: 1495.76\n",
            "[228]\tvalid_0's rmse: 38.6759\tvalid_0's l2: 1495.82\n",
            "[229]\tvalid_0's rmse: 38.6693\tvalid_0's l2: 1495.32\n",
            "[230]\tvalid_0's rmse: 38.6702\tvalid_0's l2: 1495.38\n",
            "[231]\tvalid_0's rmse: 38.6701\tvalid_0's l2: 1495.38\n",
            "[232]\tvalid_0's rmse: 38.6633\tvalid_0's l2: 1494.85\n",
            "[233]\tvalid_0's rmse: 38.6643\tvalid_0's l2: 1494.93\n",
            "[234]\tvalid_0's rmse: 38.6584\tvalid_0's l2: 1494.47\n",
            "[235]\tvalid_0's rmse: 38.6588\tvalid_0's l2: 1494.5\n",
            "[236]\tvalid_0's rmse: 38.6542\tvalid_0's l2: 1494.15\n",
            "[237]\tvalid_0's rmse: 38.6538\tvalid_0's l2: 1494.12\n",
            "[238]\tvalid_0's rmse: 38.656\tvalid_0's l2: 1494.29\n",
            "[239]\tvalid_0's rmse: 38.6506\tvalid_0's l2: 1493.87\n",
            "[240]\tvalid_0's rmse: 38.6504\tvalid_0's l2: 1493.85\n",
            "[241]\tvalid_0's rmse: 38.6516\tvalid_0's l2: 1493.94\n",
            "[242]\tvalid_0's rmse: 38.6515\tvalid_0's l2: 1493.94\n",
            "[243]\tvalid_0's rmse: 38.6514\tvalid_0's l2: 1493.93\n",
            "[244]\tvalid_0's rmse: 38.6515\tvalid_0's l2: 1493.94\n",
            "[245]\tvalid_0's rmse: 38.6528\tvalid_0's l2: 1494.04\n",
            "[246]\tvalid_0's rmse: 38.6534\tvalid_0's l2: 1494.08\n",
            "[247]\tvalid_0's rmse: 38.6493\tvalid_0's l2: 1493.77\n",
            "[248]\tvalid_0's rmse: 38.6449\tvalid_0's l2: 1493.43\n",
            "[249]\tvalid_0's rmse: 38.6421\tvalid_0's l2: 1493.21\n",
            "[250]\tvalid_0's rmse: 38.6425\tvalid_0's l2: 1493.24\n",
            "[251]\tvalid_0's rmse: 38.638\tvalid_0's l2: 1492.9\n",
            "[252]\tvalid_0's rmse: 38.634\tvalid_0's l2: 1492.58\n",
            "[253]\tvalid_0's rmse: 38.6332\tvalid_0's l2: 1492.52\n",
            "[254]\tvalid_0's rmse: 38.6287\tvalid_0's l2: 1492.17\n",
            "[255]\tvalid_0's rmse: 38.6244\tvalid_0's l2: 1491.85\n",
            "[256]\tvalid_0's rmse: 38.6238\tvalid_0's l2: 1491.8\n",
            "[257]\tvalid_0's rmse: 38.6195\tvalid_0's l2: 1491.46\n",
            "[258]\tvalid_0's rmse: 38.6176\tvalid_0's l2: 1491.32\n",
            "[259]\tvalid_0's rmse: 38.6133\tvalid_0's l2: 1490.99\n",
            "[260]\tvalid_0's rmse: 38.6144\tvalid_0's l2: 1491.07\n",
            "[261]\tvalid_0's rmse: 38.6103\tvalid_0's l2: 1490.75\n",
            "[262]\tvalid_0's rmse: 38.6078\tvalid_0's l2: 1490.56\n",
            "[263]\tvalid_0's rmse: 38.6089\tvalid_0's l2: 1490.65\n",
            "[264]\tvalid_0's rmse: 38.6052\tvalid_0's l2: 1490.36\n",
            "[265]\tvalid_0's rmse: 38.6015\tvalid_0's l2: 1490.08\n",
            "[266]\tvalid_0's rmse: 38.6029\tvalid_0's l2: 1490.18\n",
            "[267]\tvalid_0's rmse: 38.6\tvalid_0's l2: 1489.96\n",
            "[268]\tvalid_0's rmse: 38.5961\tvalid_0's l2: 1489.66\n",
            "[269]\tvalid_0's rmse: 38.5959\tvalid_0's l2: 1489.65\n",
            "[270]\tvalid_0's rmse: 38.5923\tvalid_0's l2: 1489.36\n",
            "[271]\tvalid_0's rmse: 38.5906\tvalid_0's l2: 1489.24\n",
            "[272]\tvalid_0's rmse: 38.5872\tvalid_0's l2: 1488.97\n",
            "[273]\tvalid_0's rmse: 38.5855\tvalid_0's l2: 1488.84\n",
            "[274]\tvalid_0's rmse: 38.5829\tvalid_0's l2: 1488.64\n",
            "[275]\tvalid_0's rmse: 38.5798\tvalid_0's l2: 1488.4\n",
            "[276]\tvalid_0's rmse: 38.5793\tvalid_0's l2: 1488.36\n",
            "[277]\tvalid_0's rmse: 38.5781\tvalid_0's l2: 1488.27\n",
            "[278]\tvalid_0's rmse: 38.5773\tvalid_0's l2: 1488.21\n",
            "[279]\tvalid_0's rmse: 38.5751\tvalid_0's l2: 1488.04\n",
            "[280]\tvalid_0's rmse: 38.5748\tvalid_0's l2: 1488.02\n",
            "[281]\tvalid_0's rmse: 38.5734\tvalid_0's l2: 1487.91\n",
            "[282]\tvalid_0's rmse: 38.5713\tvalid_0's l2: 1487.75\n",
            "[283]\tvalid_0's rmse: 38.5717\tvalid_0's l2: 1487.77\n",
            "[284]\tvalid_0's rmse: 38.5709\tvalid_0's l2: 1487.71\n",
            "[285]\tvalid_0's rmse: 38.5701\tvalid_0's l2: 1487.65\n",
            "[286]\tvalid_0's rmse: 38.5679\tvalid_0's l2: 1487.48\n",
            "[287]\tvalid_0's rmse: 38.5689\tvalid_0's l2: 1487.56\n",
            "[288]\tvalid_0's rmse: 38.5679\tvalid_0's l2: 1487.48\n",
            "[289]\tvalid_0's rmse: 38.5665\tvalid_0's l2: 1487.37\n",
            "[290]\tvalid_0's rmse: 38.5647\tvalid_0's l2: 1487.24\n",
            "[291]\tvalid_0's rmse: 38.5631\tvalid_0's l2: 1487.11\n",
            "[292]\tvalid_0's rmse: 38.5604\tvalid_0's l2: 1486.91\n",
            "[293]\tvalid_0's rmse: 38.5595\tvalid_0's l2: 1486.84\n",
            "[294]\tvalid_0's rmse: 38.5588\tvalid_0's l2: 1486.78\n",
            "[295]\tvalid_0's rmse: 38.5577\tvalid_0's l2: 1486.7\n",
            "[296]\tvalid_0's rmse: 38.5551\tvalid_0's l2: 1486.49\n",
            "[297]\tvalid_0's rmse: 38.5541\tvalid_0's l2: 1486.42\n",
            "[298]\tvalid_0's rmse: 38.5539\tvalid_0's l2: 1486.4\n",
            "[299]\tvalid_0's rmse: 38.5533\tvalid_0's l2: 1486.36\n",
            "[300]\tvalid_0's rmse: 38.5531\tvalid_0's l2: 1486.34\n",
            "[301]\tvalid_0's rmse: 38.5517\tvalid_0's l2: 1486.23\n",
            "[302]\tvalid_0's rmse: 38.5537\tvalid_0's l2: 1486.39\n",
            "[303]\tvalid_0's rmse: 38.5535\tvalid_0's l2: 1486.37\n",
            "[304]\tvalid_0's rmse: 38.5524\tvalid_0's l2: 1486.29\n",
            "[305]\tvalid_0's rmse: 38.5507\tvalid_0's l2: 1486.16\n",
            "[306]\tvalid_0's rmse: 38.5528\tvalid_0's l2: 1486.32\n",
            "[307]\tvalid_0's rmse: 38.554\tvalid_0's l2: 1486.41\n",
            "[308]\tvalid_0's rmse: 38.5534\tvalid_0's l2: 1486.37\n",
            "[309]\tvalid_0's rmse: 38.5556\tvalid_0's l2: 1486.53\n",
            "[310]\tvalid_0's rmse: 38.5552\tvalid_0's l2: 1486.5\n",
            "[311]\tvalid_0's rmse: 38.5544\tvalid_0's l2: 1486.44\n",
            "[312]\tvalid_0's rmse: 38.5551\tvalid_0's l2: 1486.5\n",
            "[313]\tvalid_0's rmse: 38.5562\tvalid_0's l2: 1486.58\n",
            "[314]\tvalid_0's rmse: 38.5553\tvalid_0's l2: 1486.51\n",
            "[315]\tvalid_0's rmse: 38.553\tvalid_0's l2: 1486.33\n",
            "[316]\tvalid_0's rmse: 38.5508\tvalid_0's l2: 1486.16\n",
            "[317]\tvalid_0's rmse: 38.5507\tvalid_0's l2: 1486.16\n",
            "[318]\tvalid_0's rmse: 38.5489\tvalid_0's l2: 1486.02\n",
            "[319]\tvalid_0's rmse: 38.5472\tvalid_0's l2: 1485.89\n",
            "[320]\tvalid_0's rmse: 38.5463\tvalid_0's l2: 1485.82\n",
            "[321]\tvalid_0's rmse: 38.546\tvalid_0's l2: 1485.79\n",
            "[322]\tvalid_0's rmse: 38.5452\tvalid_0's l2: 1485.73\n",
            "[323]\tvalid_0's rmse: 38.5444\tvalid_0's l2: 1485.67\n",
            "[324]\tvalid_0's rmse: 38.5441\tvalid_0's l2: 1485.65\n",
            "[325]\tvalid_0's rmse: 38.5418\tvalid_0's l2: 1485.47\n",
            "[326]\tvalid_0's rmse: 38.5409\tvalid_0's l2: 1485.4\n",
            "[327]\tvalid_0's rmse: 38.5448\tvalid_0's l2: 1485.7\n",
            "[328]\tvalid_0's rmse: 38.5446\tvalid_0's l2: 1485.68\n",
            "[329]\tvalid_0's rmse: 38.5421\tvalid_0's l2: 1485.49\n",
            "[330]\tvalid_0's rmse: 38.5419\tvalid_0's l2: 1485.48\n",
            "[331]\tvalid_0's rmse: 38.5405\tvalid_0's l2: 1485.37\n",
            "[332]\tvalid_0's rmse: 38.5397\tvalid_0's l2: 1485.31\n",
            "[333]\tvalid_0's rmse: 38.5396\tvalid_0's l2: 1485.3\n",
            "[334]\tvalid_0's rmse: 38.5371\tvalid_0's l2: 1485.11\n",
            "[335]\tvalid_0's rmse: 38.541\tvalid_0's l2: 1485.41\n",
            "[336]\tvalid_0's rmse: 38.5411\tvalid_0's l2: 1485.41\n",
            "[337]\tvalid_0's rmse: 38.5385\tvalid_0's l2: 1485.22\n",
            "[338]\tvalid_0's rmse: 38.5428\tvalid_0's l2: 1485.55\n",
            "[339]\tvalid_0's rmse: 38.5423\tvalid_0's l2: 1485.51\n",
            "[340]\tvalid_0's rmse: 38.5422\tvalid_0's l2: 1485.5\n",
            "[341]\tvalid_0's rmse: 38.5398\tvalid_0's l2: 1485.31\n",
            "[342]\tvalid_0's rmse: 38.5397\tvalid_0's l2: 1485.3\n",
            "[343]\tvalid_0's rmse: 38.5439\tvalid_0's l2: 1485.64\n",
            "[344]\tvalid_0's rmse: 38.5418\tvalid_0's l2: 1485.47\n",
            "[345]\tvalid_0's rmse: 38.5454\tvalid_0's l2: 1485.75\n",
            "[346]\tvalid_0's rmse: 38.5456\tvalid_0's l2: 1485.76\n",
            "[347]\tvalid_0's rmse: 38.5468\tvalid_0's l2: 1485.85\n",
            "[348]\tvalid_0's rmse: 38.5467\tvalid_0's l2: 1485.85\n",
            "[349]\tvalid_0's rmse: 38.5449\tvalid_0's l2: 1485.71\n",
            "[350]\tvalid_0's rmse: 38.5462\tvalid_0's l2: 1485.81\n",
            "[351]\tvalid_0's rmse: 38.5462\tvalid_0's l2: 1485.81\n",
            "[352]\tvalid_0's rmse: 38.5447\tvalid_0's l2: 1485.69\n",
            "[353]\tvalid_0's rmse: 38.5485\tvalid_0's l2: 1485.99\n",
            "[354]\tvalid_0's rmse: 38.5475\tvalid_0's l2: 1485.91\n",
            "[355]\tvalid_0's rmse: 38.5506\tvalid_0's l2: 1486.15\n",
            "[356]\tvalid_0's rmse: 38.554\tvalid_0's l2: 1486.41\n",
            "[357]\tvalid_0's rmse: 38.5539\tvalid_0's l2: 1486.4\n",
            "[358]\tvalid_0's rmse: 38.557\tvalid_0's l2: 1486.64\n",
            "[359]\tvalid_0's rmse: 38.5566\tvalid_0's l2: 1486.61\n",
            "[360]\tvalid_0's rmse: 38.5566\tvalid_0's l2: 1486.61\n",
            "[361]\tvalid_0's rmse: 38.5569\tvalid_0's l2: 1486.63\n",
            "[362]\tvalid_0's rmse: 38.5562\tvalid_0's l2: 1486.58\n",
            "[363]\tvalid_0's rmse: 38.5597\tvalid_0's l2: 1486.85\n",
            "[364]\tvalid_0's rmse: 38.5582\tvalid_0's l2: 1486.74\n",
            "[365]\tvalid_0's rmse: 38.5612\tvalid_0's l2: 1486.96\n",
            "[366]\tvalid_0's rmse: 38.5647\tvalid_0's l2: 1487.24\n",
            "[367]\tvalid_0's rmse: 38.5635\tvalid_0's l2: 1487.14\n",
            "[368]\tvalid_0's rmse: 38.5657\tvalid_0's l2: 1487.31\n",
            "[369]\tvalid_0's rmse: 38.5692\tvalid_0's l2: 1487.58\n",
            "[370]\tvalid_0's rmse: 38.5682\tvalid_0's l2: 1487.5\n",
            "[371]\tvalid_0's rmse: 38.5678\tvalid_0's l2: 1487.48\n",
            "[372]\tvalid_0's rmse: 38.5668\tvalid_0's l2: 1487.4\n",
            "[373]\tvalid_0's rmse: 38.5693\tvalid_0's l2: 1487.59\n",
            "[374]\tvalid_0's rmse: 38.5725\tvalid_0's l2: 1487.84\n",
            "[375]\tvalid_0's rmse: 38.5721\tvalid_0's l2: 1487.81\n",
            "[376]\tvalid_0's rmse: 38.5728\tvalid_0's l2: 1487.86\n",
            "[377]\tvalid_0's rmse: 38.577\tvalid_0's l2: 1488.19\n",
            "[378]\tvalid_0's rmse: 38.576\tvalid_0's l2: 1488.11\n",
            "[379]\tvalid_0's rmse: 38.5756\tvalid_0's l2: 1488.08\n",
            "[380]\tvalid_0's rmse: 38.5797\tvalid_0's l2: 1488.39\n",
            "[381]\tvalid_0's rmse: 38.579\tvalid_0's l2: 1488.34\n",
            "[382]\tvalid_0's rmse: 38.5828\tvalid_0's l2: 1488.63\n",
            "[383]\tvalid_0's rmse: 38.5824\tvalid_0's l2: 1488.6\n",
            "[384]\tvalid_0's rmse: 38.5811\tvalid_0's l2: 1488.5\n",
            "[385]\tvalid_0's rmse: 38.5851\tvalid_0's l2: 1488.81\n",
            "[386]\tvalid_0's rmse: 38.5844\tvalid_0's l2: 1488.76\n",
            "[387]\tvalid_0's rmse: 38.5886\tvalid_0's l2: 1489.08\n",
            "[388]\tvalid_0's rmse: 38.5883\tvalid_0's l2: 1489.06\n",
            "[389]\tvalid_0's rmse: 38.587\tvalid_0's l2: 1488.96\n",
            "[390]\tvalid_0's rmse: 38.5866\tvalid_0's l2: 1488.93\n",
            "[391]\tvalid_0's rmse: 38.5876\tvalid_0's l2: 1489\n",
            "[392]\tvalid_0's rmse: 38.5872\tvalid_0's l2: 1488.98\n",
            "[393]\tvalid_0's rmse: 38.5887\tvalid_0's l2: 1489.09\n",
            "[394]\tvalid_0's rmse: 38.5884\tvalid_0's l2: 1489.06\n",
            "[395]\tvalid_0's rmse: 38.5901\tvalid_0's l2: 1489.2\n",
            "[396]\tvalid_0's rmse: 38.5899\tvalid_0's l2: 1489.18\n",
            "[397]\tvalid_0's rmse: 38.5918\tvalid_0's l2: 1489.32\n",
            "[398]\tvalid_0's rmse: 38.5913\tvalid_0's l2: 1489.29\n",
            "[399]\tvalid_0's rmse: 38.5907\tvalid_0's l2: 1489.24\n",
            "[400]\tvalid_0's rmse: 38.5904\tvalid_0's l2: 1489.22\n",
            "[401]\tvalid_0's rmse: 38.5917\tvalid_0's l2: 1489.32\n",
            "[402]\tvalid_0's rmse: 38.5912\tvalid_0's l2: 1489.28\n",
            "[403]\tvalid_0's rmse: 38.5923\tvalid_0's l2: 1489.37\n",
            "[404]\tvalid_0's rmse: 38.5902\tvalid_0's l2: 1489.2\n",
            "[405]\tvalid_0's rmse: 38.5896\tvalid_0's l2: 1489.16\n",
            "[406]\tvalid_0's rmse: 38.5909\tvalid_0's l2: 1489.26\n",
            "[407]\tvalid_0's rmse: 38.5888\tvalid_0's l2: 1489.09\n",
            "[408]\tvalid_0's rmse: 38.5886\tvalid_0's l2: 1489.08\n",
            "[409]\tvalid_0's rmse: 38.5883\tvalid_0's l2: 1489.06\n",
            "[410]\tvalid_0's rmse: 38.5905\tvalid_0's l2: 1489.22\n",
            "[411]\tvalid_0's rmse: 38.5884\tvalid_0's l2: 1489.07\n",
            "[412]\tvalid_0's rmse: 38.5905\tvalid_0's l2: 1489.23\n",
            "[413]\tvalid_0's rmse: 38.5904\tvalid_0's l2: 1489.22\n",
            "[414]\tvalid_0's rmse: 38.5916\tvalid_0's l2: 1489.31\n",
            "[415]\tvalid_0's rmse: 38.5896\tvalid_0's l2: 1489.16\n",
            "[416]\tvalid_0's rmse: 38.588\tvalid_0's l2: 1489.04\n",
            "[417]\tvalid_0's rmse: 38.5879\tvalid_0's l2: 1489.02\n",
            "[418]\tvalid_0's rmse: 38.5874\tvalid_0's l2: 1488.99\n",
            "[419]\tvalid_0's rmse: 38.5855\tvalid_0's l2: 1488.84\n",
            "[420]\tvalid_0's rmse: 38.5881\tvalid_0's l2: 1489.04\n",
            "[421]\tvalid_0's rmse: 38.588\tvalid_0's l2: 1489.04\n",
            "[422]\tvalid_0's rmse: 38.5907\tvalid_0's l2: 1489.24\n",
            "[423]\tvalid_0's rmse: 38.5906\tvalid_0's l2: 1489.23\n",
            "[424]\tvalid_0's rmse: 38.5933\tvalid_0's l2: 1489.44\n",
            "[425]\tvalid_0's rmse: 38.5914\tvalid_0's l2: 1489.3\n",
            "[426]\tvalid_0's rmse: 38.5942\tvalid_0's l2: 1489.51\n",
            "[427]\tvalid_0's rmse: 38.5977\tvalid_0's l2: 1489.78\n",
            "[428]\tvalid_0's rmse: 38.6012\tvalid_0's l2: 1490.06\n",
            "[429]\tvalid_0's rmse: 38.6011\tvalid_0's l2: 1490.05\n",
            "[430]\tvalid_0's rmse: 38.6007\tvalid_0's l2: 1490.02\n",
            "[431]\tvalid_0's rmse: 38.5989\tvalid_0's l2: 1489.87\n",
            "[432]\tvalid_0's rmse: 38.6024\tvalid_0's l2: 1490.15\n",
            "[433]\tvalid_0's rmse: 38.6059\tvalid_0's l2: 1490.42\n",
            "[434]\tvalid_0's rmse: 38.6041\tvalid_0's l2: 1490.28\n",
            "Early stopping, best iteration is:\n",
            "[334]\tvalid_0's rmse: 38.5371\tvalid_0's l2: 1485.11\n"
          ]
        }
      ]
    },
    {
      "cell_type": "code",
      "source": [
        "lgbm_pred = model.predict(X_test)\n",
        "lgbm_pred"
      ],
      "metadata": {
        "colab": {
          "base_uri": "https://localhost:8080/"
        },
        "id": "BExBzbwnV41R",
        "outputId": "2df14e10-2320-427a-9bab-2398ad3b8eb9"
      },
      "id": "BExBzbwnV41R",
      "execution_count": 73,
      "outputs": [
        {
          "output_type": "execute_result",
          "data": {
            "text/plain": [
              "array([64.33339655, 86.00796926, 70.54654474, ..., 64.9448598 ,\n",
              "       55.65724827, 57.47070359])"
            ]
          },
          "metadata": {},
          "execution_count": 73
        }
      ]
    },
    {
      "cell_type": "code",
      "source": [
        "# Error Analysis\n",
        "print('Mean Squared Error: ',mse(y_test,lgbm_pred))\n",
        "print('R2 Score          : ',r2(y_test,lgbm_pred))"
      ],
      "metadata": {
        "id": "9kNLr6wKoZsW",
        "colab": {
          "base_uri": "https://localhost:8080/"
        },
        "outputId": "2588dd6e-b0b7-419c-e54d-fb38353e2c24"
      },
      "id": "9kNLr6wKoZsW",
      "execution_count": 74,
      "outputs": [
        {
          "output_type": "stream",
          "name": "stdout",
          "text": [
            "Mean Squared Error:  1090.195861177408\n",
            "R2 Score          :  0.3453352105564623\n"
          ]
        }
      ]
    },
    {
      "cell_type": "markdown",
      "source": [
        "#### Applying LGBM on Test data"
      ],
      "metadata": {
        "id": "3u54eQl0q9tn"
      },
      "id": "3u54eQl0q9tn"
    },
    {
      "cell_type": "code",
      "source": [
        "predicted_test = model.predict(test)\n",
        "predicted_test"
      ],
      "metadata": {
        "colab": {
          "base_uri": "https://localhost:8080/"
        },
        "id": "EVRF054Hhove",
        "outputId": "25eeb011-d654-40e7-e48d-e01558b431ce"
      },
      "id": "EVRF054Hhove",
      "execution_count": 75,
      "outputs": [
        {
          "output_type": "execute_result",
          "data": {
            "text/plain": [
              "array([53.68504846, 54.82833992, 54.82833992, ..., 58.52237756,\n",
              "       55.93576749, 54.54405097])"
            ]
          },
          "metadata": {},
          "execution_count": 75
        }
      ]
    }
  ],
  "metadata": {
    "kernelspec": {
      "display_name": "Python 3 (ipykernel)",
      "language": "python",
      "name": "python3"
    },
    "language_info": {
      "codemirror_mode": {
        "name": "ipython",
        "version": 3
      },
      "file_extension": ".py",
      "mimetype": "text/x-python",
      "name": "python",
      "nbconvert_exporter": "python",
      "pygments_lexer": "ipython3",
      "version": "3.9.12"
    },
    "colab": {
      "name": "Car_Demand(Group_Activity).ipynb",
      "provenance": []
    }
  },
  "nbformat": 4,
  "nbformat_minor": 5
}